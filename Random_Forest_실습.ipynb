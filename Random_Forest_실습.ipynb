{
  "nbformat": 4,
  "nbformat_minor": 0,
  "metadata": {
    "colab": {
      "name": "Random Forest 실습",
      "provenance": [],
      "authorship_tag": "ABX9TyOuBG8d27N3+OaFZi5pyuk0",
      "include_colab_link": true
    },
    "kernelspec": {
      "name": "python3",
      "display_name": "Python 3"
    },
    "language_info": {
      "name": "python"
    },
    "accelerator": "GPU"
  },
  "cells": [
    {
      "cell_type": "markdown",
      "metadata": {
        "id": "view-in-github",
        "colab_type": "text"
      },
      "source": [
        "<a href=\"https://colab.research.google.com/github/BR-Lab/ML-algorithm/blob/main/Random_Forest_%EC%8B%A4%EC%8A%B5.ipynb\" target=\"_parent\"><img src=\"https://colab.research.google.com/assets/colab-badge.svg\" alt=\"Open In Colab\"/></a>"
      ]
    },
    {
      "cell_type": "markdown",
      "metadata": {
        "id": "jMzCpQTbUn5-"
      },
      "source": [
        "# Random Forest 실습"
      ]
    },
    {
      "cell_type": "markdown",
      "metadata": {
        "id": "1-9FmO0rU3oj"
      },
      "source": [
        "## 0.Introduction"
      ]
    },
    {
      "cell_type": "markdown",
      "metadata": {
        "id": "140OIsszmbGk"
      },
      "source": [
        "<분석 모델>\n",
        "*  데이터 전처리\n",
        "*  Random Forest model 구축(hyperparameter 탐색)\n",
        "   * k-fold cross validation 활용해 best parameter 선정\n",
        "*  KNN, Decision Tree 와의 성능 비교\n",
        "\n",
        "<분석 데이터>\n",
        "*  유방암 진단결과 data\n",
        "\n",
        "<그 외>\n",
        "*  regression 모델도 구축해보기 & KNN과 Decision Tree Regression과 성능비교"
      ]
    },
    {
      "cell_type": "markdown",
      "metadata": {
        "id": "ZQMChPo5U7K4"
      },
      "source": [
        "## 1.import module"
      ]
    },
    {
      "cell_type": "code",
      "metadata": {
        "id": "p8l9TeqsXKgq"
      },
      "source": [
        "#fashion mnist 데이터 패키지\n",
        "from sklearn.datasets import load_breast_cancer, load_boston\n",
        "\n",
        "#데이터 전처리 패키지\n",
        "import numpy as np\n",
        "import pandas as pd\n",
        "from sklearn.preprocessing import StandardScaler\n",
        "\n",
        "#ML model 구축\n",
        "from sklearn.model_selection import train_test_split\n",
        "from sklearn.model_selection import GridSearchCV\n",
        "from sklearn.model_selection import cross_val_score\n",
        "from tqdm import tqdm\n",
        "from sklearn.model_selection import KFold\n",
        "from sklearn.neighbors import KNeighborsClassifier\n",
        "from sklearn.ensemble import RandomForestClassifier, RandomForestRegressor\n",
        "from sklearn.tree import DecisionTreeClassifier, DecisionTreeRegressor\n",
        "\n",
        "#데이터 시각화 패키지\n",
        "%matplotlib inline\n",
        "import seaborn as sns\n",
        "import matplotlib.pyplot as plt\n",
        "from matplotlib.colors import ListedColormap\n",
        "import matplotlib\n",
        "matplotlib.rcParams['axes.unicode_minus'] = False\n",
        "\n",
        "#예측 결과 지표 패키지\n",
        "from sklearn.metrics import accuracy_score, recall_score, precision_score, mean_squared_error, mean_absolute_error, r2_score\n",
        "from sklearn.metrics import plot_confusion_matrix\n",
        "\n",
        "#한글 폰트 설정\n",
        "plt.rc('font', family = 'Malgun Gothic')\n",
        "\n",
        "#기타\n",
        "from IPython.display import display, HTML\n",
        "import warnings, itertools, time\n",
        "warnings.filterwarnings(action = 'ignore')"
      ],
      "execution_count": 1,
      "outputs": []
    },
    {
      "cell_type": "markdown",
      "metadata": {
        "id": "ffqOisVlVHBH"
      },
      "source": [
        "## 2.데이터 불러오기 & 전처리"
      ]
    },
    {
      "cell_type": "code",
      "metadata": {
        "id": "gjfFH-cqVA0a",
        "colab": {
          "base_uri": "https://localhost:8080/"
        },
        "outputId": "56f5b618-2083-4076-d827-c04dd8cb206b"
      },
      "source": [
        "breast_cancer = load_breast_cancer()\n",
        "print(breast_cancer.DESCR)"
      ],
      "execution_count": 2,
      "outputs": [
        {
          "output_type": "stream",
          "name": "stdout",
          "text": [
            ".. _breast_cancer_dataset:\n",
            "\n",
            "Breast cancer wisconsin (diagnostic) dataset\n",
            "--------------------------------------------\n",
            "\n",
            "**Data Set Characteristics:**\n",
            "\n",
            "    :Number of Instances: 569\n",
            "\n",
            "    :Number of Attributes: 30 numeric, predictive attributes and the class\n",
            "\n",
            "    :Attribute Information:\n",
            "        - radius (mean of distances from center to points on the perimeter)\n",
            "        - texture (standard deviation of gray-scale values)\n",
            "        - perimeter\n",
            "        - area\n",
            "        - smoothness (local variation in radius lengths)\n",
            "        - compactness (perimeter^2 / area - 1.0)\n",
            "        - concavity (severity of concave portions of the contour)\n",
            "        - concave points (number of concave portions of the contour)\n",
            "        - symmetry \n",
            "        - fractal dimension (\"coastline approximation\" - 1)\n",
            "\n",
            "        The mean, standard error, and \"worst\" or largest (mean of the three\n",
            "        largest values) of these features were computed for each image,\n",
            "        resulting in 30 features.  For instance, field 3 is Mean Radius, field\n",
            "        13 is Radius SE, field 23 is Worst Radius.\n",
            "\n",
            "        - class:\n",
            "                - WDBC-Malignant\n",
            "                - WDBC-Benign\n",
            "\n",
            "    :Summary Statistics:\n",
            "\n",
            "    ===================================== ====== ======\n",
            "                                           Min    Max\n",
            "    ===================================== ====== ======\n",
            "    radius (mean):                        6.981  28.11\n",
            "    texture (mean):                       9.71   39.28\n",
            "    perimeter (mean):                     43.79  188.5\n",
            "    area (mean):                          143.5  2501.0\n",
            "    smoothness (mean):                    0.053  0.163\n",
            "    compactness (mean):                   0.019  0.345\n",
            "    concavity (mean):                     0.0    0.427\n",
            "    concave points (mean):                0.0    0.201\n",
            "    symmetry (mean):                      0.106  0.304\n",
            "    fractal dimension (mean):             0.05   0.097\n",
            "    radius (standard error):              0.112  2.873\n",
            "    texture (standard error):             0.36   4.885\n",
            "    perimeter (standard error):           0.757  21.98\n",
            "    area (standard error):                6.802  542.2\n",
            "    smoothness (standard error):          0.002  0.031\n",
            "    compactness (standard error):         0.002  0.135\n",
            "    concavity (standard error):           0.0    0.396\n",
            "    concave points (standard error):      0.0    0.053\n",
            "    symmetry (standard error):            0.008  0.079\n",
            "    fractal dimension (standard error):   0.001  0.03\n",
            "    radius (worst):                       7.93   36.04\n",
            "    texture (worst):                      12.02  49.54\n",
            "    perimeter (worst):                    50.41  251.2\n",
            "    area (worst):                         185.2  4254.0\n",
            "    smoothness (worst):                   0.071  0.223\n",
            "    compactness (worst):                  0.027  1.058\n",
            "    concavity (worst):                    0.0    1.252\n",
            "    concave points (worst):               0.0    0.291\n",
            "    symmetry (worst):                     0.156  0.664\n",
            "    fractal dimension (worst):            0.055  0.208\n",
            "    ===================================== ====== ======\n",
            "\n",
            "    :Missing Attribute Values: None\n",
            "\n",
            "    :Class Distribution: 212 - Malignant, 357 - Benign\n",
            "\n",
            "    :Creator:  Dr. William H. Wolberg, W. Nick Street, Olvi L. Mangasarian\n",
            "\n",
            "    :Donor: Nick Street\n",
            "\n",
            "    :Date: November, 1995\n",
            "\n",
            "This is a copy of UCI ML Breast Cancer Wisconsin (Diagnostic) datasets.\n",
            "https://goo.gl/U2Uwz2\n",
            "\n",
            "Features are computed from a digitized image of a fine needle\n",
            "aspirate (FNA) of a breast mass.  They describe\n",
            "characteristics of the cell nuclei present in the image.\n",
            "\n",
            "Separating plane described above was obtained using\n",
            "Multisurface Method-Tree (MSM-T) [K. P. Bennett, \"Decision Tree\n",
            "Construction Via Linear Programming.\" Proceedings of the 4th\n",
            "Midwest Artificial Intelligence and Cognitive Science Society,\n",
            "pp. 97-101, 1992], a classification method which uses linear\n",
            "programming to construct a decision tree.  Relevant features\n",
            "were selected using an exhaustive search in the space of 1-4\n",
            "features and 1-3 separating planes.\n",
            "\n",
            "The actual linear program used to obtain the separating plane\n",
            "in the 3-dimensional space is that described in:\n",
            "[K. P. Bennett and O. L. Mangasarian: \"Robust Linear\n",
            "Programming Discrimination of Two Linearly Inseparable Sets\",\n",
            "Optimization Methods and Software 1, 1992, 23-34].\n",
            "\n",
            "This database is also available through the UW CS ftp server:\n",
            "\n",
            "ftp ftp.cs.wisc.edu\n",
            "cd math-prog/cpo-dataset/machine-learn/WDBC/\n",
            "\n",
            ".. topic:: References\n",
            "\n",
            "   - W.N. Street, W.H. Wolberg and O.L. Mangasarian. Nuclear feature extraction \n",
            "     for breast tumor diagnosis. IS&T/SPIE 1993 International Symposium on \n",
            "     Electronic Imaging: Science and Technology, volume 1905, pages 861-870,\n",
            "     San Jose, CA, 1993.\n",
            "   - O.L. Mangasarian, W.N. Street and W.H. Wolberg. Breast cancer diagnosis and \n",
            "     prognosis via linear programming. Operations Research, 43(4), pages 570-577, \n",
            "     July-August 1995.\n",
            "   - W.H. Wolberg, W.N. Street, and O.L. Mangasarian. Machine learning techniques\n",
            "     to diagnose breast cancer from fine-needle aspirates. Cancer Letters 77 (1994) \n",
            "     163-171.\n"
          ]
        }
      ]
    },
    {
      "cell_type": "code",
      "metadata": {
        "id": "DYnxNBnbSTgn",
        "colab": {
          "base_uri": "https://localhost:8080/"
        },
        "outputId": "e6429952-a585-40d3-c09c-5e5949380308"
      },
      "source": [
        "breast_cancer.data.shape"
      ],
      "execution_count": 3,
      "outputs": [
        {
          "output_type": "execute_result",
          "data": {
            "text/plain": [
              "(569, 30)"
            ]
          },
          "metadata": {},
          "execution_count": 3
        }
      ]
    },
    {
      "cell_type": "code",
      "metadata": {
        "id": "dl8lgRooHE4H"
      },
      "source": [
        "X = pd.DataFrame(breast_cancer.data, columns=breast_cancer.feature_names)\n",
        "y = pd.DataFrame(breast_cancer.target, columns=['diagnosis'])"
      ],
      "execution_count": 4,
      "outputs": []
    },
    {
      "cell_type": "code",
      "metadata": {
        "id": "5QyODFutHaIb",
        "colab": {
          "base_uri": "https://localhost:8080/",
          "height": 257
        },
        "outputId": "b09e07d5-a62e-4caa-f43e-a7e839c7452f"
      },
      "source": [
        "X.head()"
      ],
      "execution_count": 5,
      "outputs": [
        {
          "output_type": "execute_result",
          "data": {
            "text/html": [
              "<div>\n",
              "<style scoped>\n",
              "    .dataframe tbody tr th:only-of-type {\n",
              "        vertical-align: middle;\n",
              "    }\n",
              "\n",
              "    .dataframe tbody tr th {\n",
              "        vertical-align: top;\n",
              "    }\n",
              "\n",
              "    .dataframe thead th {\n",
              "        text-align: right;\n",
              "    }\n",
              "</style>\n",
              "<table border=\"1\" class=\"dataframe\">\n",
              "  <thead>\n",
              "    <tr style=\"text-align: right;\">\n",
              "      <th></th>\n",
              "      <th>mean radius</th>\n",
              "      <th>mean texture</th>\n",
              "      <th>mean perimeter</th>\n",
              "      <th>mean area</th>\n",
              "      <th>mean smoothness</th>\n",
              "      <th>mean compactness</th>\n",
              "      <th>mean concavity</th>\n",
              "      <th>mean concave points</th>\n",
              "      <th>mean symmetry</th>\n",
              "      <th>mean fractal dimension</th>\n",
              "      <th>radius error</th>\n",
              "      <th>texture error</th>\n",
              "      <th>perimeter error</th>\n",
              "      <th>area error</th>\n",
              "      <th>smoothness error</th>\n",
              "      <th>compactness error</th>\n",
              "      <th>concavity error</th>\n",
              "      <th>concave points error</th>\n",
              "      <th>symmetry error</th>\n",
              "      <th>fractal dimension error</th>\n",
              "      <th>worst radius</th>\n",
              "      <th>worst texture</th>\n",
              "      <th>worst perimeter</th>\n",
              "      <th>worst area</th>\n",
              "      <th>worst smoothness</th>\n",
              "      <th>worst compactness</th>\n",
              "      <th>worst concavity</th>\n",
              "      <th>worst concave points</th>\n",
              "      <th>worst symmetry</th>\n",
              "      <th>worst fractal dimension</th>\n",
              "    </tr>\n",
              "  </thead>\n",
              "  <tbody>\n",
              "    <tr>\n",
              "      <th>0</th>\n",
              "      <td>17.99</td>\n",
              "      <td>10.38</td>\n",
              "      <td>122.80</td>\n",
              "      <td>1001.0</td>\n",
              "      <td>0.11840</td>\n",
              "      <td>0.27760</td>\n",
              "      <td>0.3001</td>\n",
              "      <td>0.14710</td>\n",
              "      <td>0.2419</td>\n",
              "      <td>0.07871</td>\n",
              "      <td>1.0950</td>\n",
              "      <td>0.9053</td>\n",
              "      <td>8.589</td>\n",
              "      <td>153.40</td>\n",
              "      <td>0.006399</td>\n",
              "      <td>0.04904</td>\n",
              "      <td>0.05373</td>\n",
              "      <td>0.01587</td>\n",
              "      <td>0.03003</td>\n",
              "      <td>0.006193</td>\n",
              "      <td>25.38</td>\n",
              "      <td>17.33</td>\n",
              "      <td>184.60</td>\n",
              "      <td>2019.0</td>\n",
              "      <td>0.1622</td>\n",
              "      <td>0.6656</td>\n",
              "      <td>0.7119</td>\n",
              "      <td>0.2654</td>\n",
              "      <td>0.4601</td>\n",
              "      <td>0.11890</td>\n",
              "    </tr>\n",
              "    <tr>\n",
              "      <th>1</th>\n",
              "      <td>20.57</td>\n",
              "      <td>17.77</td>\n",
              "      <td>132.90</td>\n",
              "      <td>1326.0</td>\n",
              "      <td>0.08474</td>\n",
              "      <td>0.07864</td>\n",
              "      <td>0.0869</td>\n",
              "      <td>0.07017</td>\n",
              "      <td>0.1812</td>\n",
              "      <td>0.05667</td>\n",
              "      <td>0.5435</td>\n",
              "      <td>0.7339</td>\n",
              "      <td>3.398</td>\n",
              "      <td>74.08</td>\n",
              "      <td>0.005225</td>\n",
              "      <td>0.01308</td>\n",
              "      <td>0.01860</td>\n",
              "      <td>0.01340</td>\n",
              "      <td>0.01389</td>\n",
              "      <td>0.003532</td>\n",
              "      <td>24.99</td>\n",
              "      <td>23.41</td>\n",
              "      <td>158.80</td>\n",
              "      <td>1956.0</td>\n",
              "      <td>0.1238</td>\n",
              "      <td>0.1866</td>\n",
              "      <td>0.2416</td>\n",
              "      <td>0.1860</td>\n",
              "      <td>0.2750</td>\n",
              "      <td>0.08902</td>\n",
              "    </tr>\n",
              "    <tr>\n",
              "      <th>2</th>\n",
              "      <td>19.69</td>\n",
              "      <td>21.25</td>\n",
              "      <td>130.00</td>\n",
              "      <td>1203.0</td>\n",
              "      <td>0.10960</td>\n",
              "      <td>0.15990</td>\n",
              "      <td>0.1974</td>\n",
              "      <td>0.12790</td>\n",
              "      <td>0.2069</td>\n",
              "      <td>0.05999</td>\n",
              "      <td>0.7456</td>\n",
              "      <td>0.7869</td>\n",
              "      <td>4.585</td>\n",
              "      <td>94.03</td>\n",
              "      <td>0.006150</td>\n",
              "      <td>0.04006</td>\n",
              "      <td>0.03832</td>\n",
              "      <td>0.02058</td>\n",
              "      <td>0.02250</td>\n",
              "      <td>0.004571</td>\n",
              "      <td>23.57</td>\n",
              "      <td>25.53</td>\n",
              "      <td>152.50</td>\n",
              "      <td>1709.0</td>\n",
              "      <td>0.1444</td>\n",
              "      <td>0.4245</td>\n",
              "      <td>0.4504</td>\n",
              "      <td>0.2430</td>\n",
              "      <td>0.3613</td>\n",
              "      <td>0.08758</td>\n",
              "    </tr>\n",
              "    <tr>\n",
              "      <th>3</th>\n",
              "      <td>11.42</td>\n",
              "      <td>20.38</td>\n",
              "      <td>77.58</td>\n",
              "      <td>386.1</td>\n",
              "      <td>0.14250</td>\n",
              "      <td>0.28390</td>\n",
              "      <td>0.2414</td>\n",
              "      <td>0.10520</td>\n",
              "      <td>0.2597</td>\n",
              "      <td>0.09744</td>\n",
              "      <td>0.4956</td>\n",
              "      <td>1.1560</td>\n",
              "      <td>3.445</td>\n",
              "      <td>27.23</td>\n",
              "      <td>0.009110</td>\n",
              "      <td>0.07458</td>\n",
              "      <td>0.05661</td>\n",
              "      <td>0.01867</td>\n",
              "      <td>0.05963</td>\n",
              "      <td>0.009208</td>\n",
              "      <td>14.91</td>\n",
              "      <td>26.50</td>\n",
              "      <td>98.87</td>\n",
              "      <td>567.7</td>\n",
              "      <td>0.2098</td>\n",
              "      <td>0.8663</td>\n",
              "      <td>0.6869</td>\n",
              "      <td>0.2575</td>\n",
              "      <td>0.6638</td>\n",
              "      <td>0.17300</td>\n",
              "    </tr>\n",
              "    <tr>\n",
              "      <th>4</th>\n",
              "      <td>20.29</td>\n",
              "      <td>14.34</td>\n",
              "      <td>135.10</td>\n",
              "      <td>1297.0</td>\n",
              "      <td>0.10030</td>\n",
              "      <td>0.13280</td>\n",
              "      <td>0.1980</td>\n",
              "      <td>0.10430</td>\n",
              "      <td>0.1809</td>\n",
              "      <td>0.05883</td>\n",
              "      <td>0.7572</td>\n",
              "      <td>0.7813</td>\n",
              "      <td>5.438</td>\n",
              "      <td>94.44</td>\n",
              "      <td>0.011490</td>\n",
              "      <td>0.02461</td>\n",
              "      <td>0.05688</td>\n",
              "      <td>0.01885</td>\n",
              "      <td>0.01756</td>\n",
              "      <td>0.005115</td>\n",
              "      <td>22.54</td>\n",
              "      <td>16.67</td>\n",
              "      <td>152.20</td>\n",
              "      <td>1575.0</td>\n",
              "      <td>0.1374</td>\n",
              "      <td>0.2050</td>\n",
              "      <td>0.4000</td>\n",
              "      <td>0.1625</td>\n",
              "      <td>0.2364</td>\n",
              "      <td>0.07678</td>\n",
              "    </tr>\n",
              "  </tbody>\n",
              "</table>\n",
              "</div>"
            ],
            "text/plain": [
              "   mean radius  mean texture  ...  worst symmetry  worst fractal dimension\n",
              "0        17.99         10.38  ...          0.4601                  0.11890\n",
              "1        20.57         17.77  ...          0.2750                  0.08902\n",
              "2        19.69         21.25  ...          0.3613                  0.08758\n",
              "3        11.42         20.38  ...          0.6638                  0.17300\n",
              "4        20.29         14.34  ...          0.2364                  0.07678\n",
              "\n",
              "[5 rows x 30 columns]"
            ]
          },
          "metadata": {},
          "execution_count": 5
        }
      ]
    },
    {
      "cell_type": "code",
      "metadata": {
        "id": "sfU_biMjHZ4Q",
        "colab": {
          "base_uri": "https://localhost:8080/",
          "height": 203
        },
        "outputId": "1877ff23-d203-4d7e-a5db-d53bb4fe754b"
      },
      "source": [
        "y.tail()"
      ],
      "execution_count": 6,
      "outputs": [
        {
          "output_type": "execute_result",
          "data": {
            "text/html": [
              "<div>\n",
              "<style scoped>\n",
              "    .dataframe tbody tr th:only-of-type {\n",
              "        vertical-align: middle;\n",
              "    }\n",
              "\n",
              "    .dataframe tbody tr th {\n",
              "        vertical-align: top;\n",
              "    }\n",
              "\n",
              "    .dataframe thead th {\n",
              "        text-align: right;\n",
              "    }\n",
              "</style>\n",
              "<table border=\"1\" class=\"dataframe\">\n",
              "  <thead>\n",
              "    <tr style=\"text-align: right;\">\n",
              "      <th></th>\n",
              "      <th>diagnosis</th>\n",
              "    </tr>\n",
              "  </thead>\n",
              "  <tbody>\n",
              "    <tr>\n",
              "      <th>564</th>\n",
              "      <td>0</td>\n",
              "    </tr>\n",
              "    <tr>\n",
              "      <th>565</th>\n",
              "      <td>0</td>\n",
              "    </tr>\n",
              "    <tr>\n",
              "      <th>566</th>\n",
              "      <td>0</td>\n",
              "    </tr>\n",
              "    <tr>\n",
              "      <th>567</th>\n",
              "      <td>0</td>\n",
              "    </tr>\n",
              "    <tr>\n",
              "      <th>568</th>\n",
              "      <td>1</td>\n",
              "    </tr>\n",
              "  </tbody>\n",
              "</table>\n",
              "</div>"
            ],
            "text/plain": [
              "     diagnosis\n",
              "564          0\n",
              "565          0\n",
              "566          0\n",
              "567          0\n",
              "568          1"
            ]
          },
          "metadata": {},
          "execution_count": 6
        }
      ]
    },
    {
      "cell_type": "code",
      "metadata": {
        "id": "RPpRV0KWHmVM",
        "colab": {
          "base_uri": "https://localhost:8080/"
        },
        "outputId": "5c700ace-b2a1-4b3c-cb37-e2922a9dc79e"
      },
      "source": [
        "X.info()"
      ],
      "execution_count": 7,
      "outputs": [
        {
          "output_type": "stream",
          "name": "stdout",
          "text": [
            "<class 'pandas.core.frame.DataFrame'>\n",
            "RangeIndex: 569 entries, 0 to 568\n",
            "Data columns (total 30 columns):\n",
            " #   Column                   Non-Null Count  Dtype  \n",
            "---  ------                   --------------  -----  \n",
            " 0   mean radius              569 non-null    float64\n",
            " 1   mean texture             569 non-null    float64\n",
            " 2   mean perimeter           569 non-null    float64\n",
            " 3   mean area                569 non-null    float64\n",
            " 4   mean smoothness          569 non-null    float64\n",
            " 5   mean compactness         569 non-null    float64\n",
            " 6   mean concavity           569 non-null    float64\n",
            " 7   mean concave points      569 non-null    float64\n",
            " 8   mean symmetry            569 non-null    float64\n",
            " 9   mean fractal dimension   569 non-null    float64\n",
            " 10  radius error             569 non-null    float64\n",
            " 11  texture error            569 non-null    float64\n",
            " 12  perimeter error          569 non-null    float64\n",
            " 13  area error               569 non-null    float64\n",
            " 14  smoothness error         569 non-null    float64\n",
            " 15  compactness error        569 non-null    float64\n",
            " 16  concavity error          569 non-null    float64\n",
            " 17  concave points error     569 non-null    float64\n",
            " 18  symmetry error           569 non-null    float64\n",
            " 19  fractal dimension error  569 non-null    float64\n",
            " 20  worst radius             569 non-null    float64\n",
            " 21  worst texture            569 non-null    float64\n",
            " 22  worst perimeter          569 non-null    float64\n",
            " 23  worst area               569 non-null    float64\n",
            " 24  worst smoothness         569 non-null    float64\n",
            " 25  worst compactness        569 non-null    float64\n",
            " 26  worst concavity          569 non-null    float64\n",
            " 27  worst concave points     569 non-null    float64\n",
            " 28  worst symmetry           569 non-null    float64\n",
            " 29  worst fractal dimension  569 non-null    float64\n",
            "dtypes: float64(30)\n",
            "memory usage: 133.5 KB\n"
          ]
        }
      ]
    },
    {
      "cell_type": "code",
      "metadata": {
        "id": "z59RWYFCHs_y",
        "colab": {
          "base_uri": "https://localhost:8080/",
          "height": 349
        },
        "outputId": "123f97e7-95f2-4732-b4df-ffa0097d571e"
      },
      "source": [
        "X.describe()"
      ],
      "execution_count": 8,
      "outputs": [
        {
          "output_type": "execute_result",
          "data": {
            "text/html": [
              "<div>\n",
              "<style scoped>\n",
              "    .dataframe tbody tr th:only-of-type {\n",
              "        vertical-align: middle;\n",
              "    }\n",
              "\n",
              "    .dataframe tbody tr th {\n",
              "        vertical-align: top;\n",
              "    }\n",
              "\n",
              "    .dataframe thead th {\n",
              "        text-align: right;\n",
              "    }\n",
              "</style>\n",
              "<table border=\"1\" class=\"dataframe\">\n",
              "  <thead>\n",
              "    <tr style=\"text-align: right;\">\n",
              "      <th></th>\n",
              "      <th>mean radius</th>\n",
              "      <th>mean texture</th>\n",
              "      <th>mean perimeter</th>\n",
              "      <th>mean area</th>\n",
              "      <th>mean smoothness</th>\n",
              "      <th>mean compactness</th>\n",
              "      <th>mean concavity</th>\n",
              "      <th>mean concave points</th>\n",
              "      <th>mean symmetry</th>\n",
              "      <th>mean fractal dimension</th>\n",
              "      <th>radius error</th>\n",
              "      <th>texture error</th>\n",
              "      <th>perimeter error</th>\n",
              "      <th>area error</th>\n",
              "      <th>smoothness error</th>\n",
              "      <th>compactness error</th>\n",
              "      <th>concavity error</th>\n",
              "      <th>concave points error</th>\n",
              "      <th>symmetry error</th>\n",
              "      <th>fractal dimension error</th>\n",
              "      <th>worst radius</th>\n",
              "      <th>worst texture</th>\n",
              "      <th>worst perimeter</th>\n",
              "      <th>worst area</th>\n",
              "      <th>worst smoothness</th>\n",
              "      <th>worst compactness</th>\n",
              "      <th>worst concavity</th>\n",
              "      <th>worst concave points</th>\n",
              "      <th>worst symmetry</th>\n",
              "      <th>worst fractal dimension</th>\n",
              "    </tr>\n",
              "  </thead>\n",
              "  <tbody>\n",
              "    <tr>\n",
              "      <th>count</th>\n",
              "      <td>569.000000</td>\n",
              "      <td>569.000000</td>\n",
              "      <td>569.000000</td>\n",
              "      <td>569.000000</td>\n",
              "      <td>569.000000</td>\n",
              "      <td>569.000000</td>\n",
              "      <td>569.000000</td>\n",
              "      <td>569.000000</td>\n",
              "      <td>569.000000</td>\n",
              "      <td>569.000000</td>\n",
              "      <td>569.000000</td>\n",
              "      <td>569.000000</td>\n",
              "      <td>569.000000</td>\n",
              "      <td>569.000000</td>\n",
              "      <td>569.000000</td>\n",
              "      <td>569.000000</td>\n",
              "      <td>569.000000</td>\n",
              "      <td>569.000000</td>\n",
              "      <td>569.000000</td>\n",
              "      <td>569.000000</td>\n",
              "      <td>569.000000</td>\n",
              "      <td>569.000000</td>\n",
              "      <td>569.000000</td>\n",
              "      <td>569.000000</td>\n",
              "      <td>569.000000</td>\n",
              "      <td>569.000000</td>\n",
              "      <td>569.000000</td>\n",
              "      <td>569.000000</td>\n",
              "      <td>569.000000</td>\n",
              "      <td>569.000000</td>\n",
              "    </tr>\n",
              "    <tr>\n",
              "      <th>mean</th>\n",
              "      <td>14.127292</td>\n",
              "      <td>19.289649</td>\n",
              "      <td>91.969033</td>\n",
              "      <td>654.889104</td>\n",
              "      <td>0.096360</td>\n",
              "      <td>0.104341</td>\n",
              "      <td>0.088799</td>\n",
              "      <td>0.048919</td>\n",
              "      <td>0.181162</td>\n",
              "      <td>0.062798</td>\n",
              "      <td>0.405172</td>\n",
              "      <td>1.216853</td>\n",
              "      <td>2.866059</td>\n",
              "      <td>40.337079</td>\n",
              "      <td>0.007041</td>\n",
              "      <td>0.025478</td>\n",
              "      <td>0.031894</td>\n",
              "      <td>0.011796</td>\n",
              "      <td>0.020542</td>\n",
              "      <td>0.003795</td>\n",
              "      <td>16.269190</td>\n",
              "      <td>25.677223</td>\n",
              "      <td>107.261213</td>\n",
              "      <td>880.583128</td>\n",
              "      <td>0.132369</td>\n",
              "      <td>0.254265</td>\n",
              "      <td>0.272188</td>\n",
              "      <td>0.114606</td>\n",
              "      <td>0.290076</td>\n",
              "      <td>0.083946</td>\n",
              "    </tr>\n",
              "    <tr>\n",
              "      <th>std</th>\n",
              "      <td>3.524049</td>\n",
              "      <td>4.301036</td>\n",
              "      <td>24.298981</td>\n",
              "      <td>351.914129</td>\n",
              "      <td>0.014064</td>\n",
              "      <td>0.052813</td>\n",
              "      <td>0.079720</td>\n",
              "      <td>0.038803</td>\n",
              "      <td>0.027414</td>\n",
              "      <td>0.007060</td>\n",
              "      <td>0.277313</td>\n",
              "      <td>0.551648</td>\n",
              "      <td>2.021855</td>\n",
              "      <td>45.491006</td>\n",
              "      <td>0.003003</td>\n",
              "      <td>0.017908</td>\n",
              "      <td>0.030186</td>\n",
              "      <td>0.006170</td>\n",
              "      <td>0.008266</td>\n",
              "      <td>0.002646</td>\n",
              "      <td>4.833242</td>\n",
              "      <td>6.146258</td>\n",
              "      <td>33.602542</td>\n",
              "      <td>569.356993</td>\n",
              "      <td>0.022832</td>\n",
              "      <td>0.157336</td>\n",
              "      <td>0.208624</td>\n",
              "      <td>0.065732</td>\n",
              "      <td>0.061867</td>\n",
              "      <td>0.018061</td>\n",
              "    </tr>\n",
              "    <tr>\n",
              "      <th>min</th>\n",
              "      <td>6.981000</td>\n",
              "      <td>9.710000</td>\n",
              "      <td>43.790000</td>\n",
              "      <td>143.500000</td>\n",
              "      <td>0.052630</td>\n",
              "      <td>0.019380</td>\n",
              "      <td>0.000000</td>\n",
              "      <td>0.000000</td>\n",
              "      <td>0.106000</td>\n",
              "      <td>0.049960</td>\n",
              "      <td>0.111500</td>\n",
              "      <td>0.360200</td>\n",
              "      <td>0.757000</td>\n",
              "      <td>6.802000</td>\n",
              "      <td>0.001713</td>\n",
              "      <td>0.002252</td>\n",
              "      <td>0.000000</td>\n",
              "      <td>0.000000</td>\n",
              "      <td>0.007882</td>\n",
              "      <td>0.000895</td>\n",
              "      <td>7.930000</td>\n",
              "      <td>12.020000</td>\n",
              "      <td>50.410000</td>\n",
              "      <td>185.200000</td>\n",
              "      <td>0.071170</td>\n",
              "      <td>0.027290</td>\n",
              "      <td>0.000000</td>\n",
              "      <td>0.000000</td>\n",
              "      <td>0.156500</td>\n",
              "      <td>0.055040</td>\n",
              "    </tr>\n",
              "    <tr>\n",
              "      <th>25%</th>\n",
              "      <td>11.700000</td>\n",
              "      <td>16.170000</td>\n",
              "      <td>75.170000</td>\n",
              "      <td>420.300000</td>\n",
              "      <td>0.086370</td>\n",
              "      <td>0.064920</td>\n",
              "      <td>0.029560</td>\n",
              "      <td>0.020310</td>\n",
              "      <td>0.161900</td>\n",
              "      <td>0.057700</td>\n",
              "      <td>0.232400</td>\n",
              "      <td>0.833900</td>\n",
              "      <td>1.606000</td>\n",
              "      <td>17.850000</td>\n",
              "      <td>0.005169</td>\n",
              "      <td>0.013080</td>\n",
              "      <td>0.015090</td>\n",
              "      <td>0.007638</td>\n",
              "      <td>0.015160</td>\n",
              "      <td>0.002248</td>\n",
              "      <td>13.010000</td>\n",
              "      <td>21.080000</td>\n",
              "      <td>84.110000</td>\n",
              "      <td>515.300000</td>\n",
              "      <td>0.116600</td>\n",
              "      <td>0.147200</td>\n",
              "      <td>0.114500</td>\n",
              "      <td>0.064930</td>\n",
              "      <td>0.250400</td>\n",
              "      <td>0.071460</td>\n",
              "    </tr>\n",
              "    <tr>\n",
              "      <th>50%</th>\n",
              "      <td>13.370000</td>\n",
              "      <td>18.840000</td>\n",
              "      <td>86.240000</td>\n",
              "      <td>551.100000</td>\n",
              "      <td>0.095870</td>\n",
              "      <td>0.092630</td>\n",
              "      <td>0.061540</td>\n",
              "      <td>0.033500</td>\n",
              "      <td>0.179200</td>\n",
              "      <td>0.061540</td>\n",
              "      <td>0.324200</td>\n",
              "      <td>1.108000</td>\n",
              "      <td>2.287000</td>\n",
              "      <td>24.530000</td>\n",
              "      <td>0.006380</td>\n",
              "      <td>0.020450</td>\n",
              "      <td>0.025890</td>\n",
              "      <td>0.010930</td>\n",
              "      <td>0.018730</td>\n",
              "      <td>0.003187</td>\n",
              "      <td>14.970000</td>\n",
              "      <td>25.410000</td>\n",
              "      <td>97.660000</td>\n",
              "      <td>686.500000</td>\n",
              "      <td>0.131300</td>\n",
              "      <td>0.211900</td>\n",
              "      <td>0.226700</td>\n",
              "      <td>0.099930</td>\n",
              "      <td>0.282200</td>\n",
              "      <td>0.080040</td>\n",
              "    </tr>\n",
              "    <tr>\n",
              "      <th>75%</th>\n",
              "      <td>15.780000</td>\n",
              "      <td>21.800000</td>\n",
              "      <td>104.100000</td>\n",
              "      <td>782.700000</td>\n",
              "      <td>0.105300</td>\n",
              "      <td>0.130400</td>\n",
              "      <td>0.130700</td>\n",
              "      <td>0.074000</td>\n",
              "      <td>0.195700</td>\n",
              "      <td>0.066120</td>\n",
              "      <td>0.478900</td>\n",
              "      <td>1.474000</td>\n",
              "      <td>3.357000</td>\n",
              "      <td>45.190000</td>\n",
              "      <td>0.008146</td>\n",
              "      <td>0.032450</td>\n",
              "      <td>0.042050</td>\n",
              "      <td>0.014710</td>\n",
              "      <td>0.023480</td>\n",
              "      <td>0.004558</td>\n",
              "      <td>18.790000</td>\n",
              "      <td>29.720000</td>\n",
              "      <td>125.400000</td>\n",
              "      <td>1084.000000</td>\n",
              "      <td>0.146000</td>\n",
              "      <td>0.339100</td>\n",
              "      <td>0.382900</td>\n",
              "      <td>0.161400</td>\n",
              "      <td>0.317900</td>\n",
              "      <td>0.092080</td>\n",
              "    </tr>\n",
              "    <tr>\n",
              "      <th>max</th>\n",
              "      <td>28.110000</td>\n",
              "      <td>39.280000</td>\n",
              "      <td>188.500000</td>\n",
              "      <td>2501.000000</td>\n",
              "      <td>0.163400</td>\n",
              "      <td>0.345400</td>\n",
              "      <td>0.426800</td>\n",
              "      <td>0.201200</td>\n",
              "      <td>0.304000</td>\n",
              "      <td>0.097440</td>\n",
              "      <td>2.873000</td>\n",
              "      <td>4.885000</td>\n",
              "      <td>21.980000</td>\n",
              "      <td>542.200000</td>\n",
              "      <td>0.031130</td>\n",
              "      <td>0.135400</td>\n",
              "      <td>0.396000</td>\n",
              "      <td>0.052790</td>\n",
              "      <td>0.078950</td>\n",
              "      <td>0.029840</td>\n",
              "      <td>36.040000</td>\n",
              "      <td>49.540000</td>\n",
              "      <td>251.200000</td>\n",
              "      <td>4254.000000</td>\n",
              "      <td>0.222600</td>\n",
              "      <td>1.058000</td>\n",
              "      <td>1.252000</td>\n",
              "      <td>0.291000</td>\n",
              "      <td>0.663800</td>\n",
              "      <td>0.207500</td>\n",
              "    </tr>\n",
              "  </tbody>\n",
              "</table>\n",
              "</div>"
            ],
            "text/plain": [
              "       mean radius  mean texture  ...  worst symmetry  worst fractal dimension\n",
              "count   569.000000    569.000000  ...      569.000000               569.000000\n",
              "mean     14.127292     19.289649  ...        0.290076                 0.083946\n",
              "std       3.524049      4.301036  ...        0.061867                 0.018061\n",
              "min       6.981000      9.710000  ...        0.156500                 0.055040\n",
              "25%      11.700000     16.170000  ...        0.250400                 0.071460\n",
              "50%      13.370000     18.840000  ...        0.282200                 0.080040\n",
              "75%      15.780000     21.800000  ...        0.317900                 0.092080\n",
              "max      28.110000     39.280000  ...        0.663800                 0.207500\n",
              "\n",
              "[8 rows x 30 columns]"
            ]
          },
          "metadata": {},
          "execution_count": 8
        }
      ]
    },
    {
      "cell_type": "code",
      "metadata": {
        "id": "iZN0BGsNHs0G",
        "colab": {
          "base_uri": "https://localhost:8080/"
        },
        "outputId": "7b92f04e-ecd7-4b07-b845-3b7f7f41b73c"
      },
      "source": [
        "y['diagnosis'].value_counts()"
      ],
      "execution_count": 9,
      "outputs": [
        {
          "output_type": "execute_result",
          "data": {
            "text/plain": [
              "1    357\n",
              "0    212\n",
              "Name: diagnosis, dtype: int64"
            ]
          },
          "metadata": {},
          "execution_count": 9
        }
      ]
    },
    {
      "cell_type": "code",
      "metadata": {
        "id": "YOpTzZm5Qhoy",
        "colab": {
          "base_uri": "https://localhost:8080/"
        },
        "outputId": "24143f9e-34b3-4446-99ea-7b7f88ac0450"
      },
      "source": [
        "X_train, X_test, y_train, y_test = train_test_split(X, y, stratify=y, test_size = 0.3, random_state=2021)\n",
        "\n",
        "#Scaling\n",
        "normalizer = StandardScaler()\n",
        "X_train = normalizer.fit_transform(X_train)\n",
        "X_test = normalizer.transform(X_test)\n",
        "\n",
        "print(f' Train set dimension is {X_train.shape}')\n",
        "print(f' Test set dimension is {X_test.shape}')"
      ],
      "execution_count": 10,
      "outputs": [
        {
          "output_type": "stream",
          "name": "stdout",
          "text": [
            " Train set dimension is (398, 30)\n",
            " Test set dimension is (171, 30)\n"
          ]
        }
      ]
    },
    {
      "cell_type": "markdown",
      "metadata": {
        "id": "JOf5vWUoVfLW"
      },
      "source": [
        "## 3.model 학습하기"
      ]
    },
    {
      "cell_type": "markdown",
      "metadata": {
        "id": "1LfXpZI2rhF2"
      },
      "source": [
        "### 3.1 단순모델링(마음대로 하이퍼 파라미터 정의)\n"
      ]
    },
    {
      "cell_type": "code",
      "metadata": {
        "id": "FFUfH6pnUJfk",
        "colab": {
          "base_uri": "https://localhost:8080/"
        },
        "outputId": "3d286b15-8c56-40b9-b8b3-7dd6deb63342"
      },
      "source": [
        "# 단순모델링(마음대로 하이퍼 파라미터 정의)\n",
        "rfc = RandomForestClassifier(n_estimators=10, random_state=2021)\n",
        "rfc.fit(X_train, y_train)"
      ],
      "execution_count": 11,
      "outputs": [
        {
          "output_type": "execute_result",
          "data": {
            "text/plain": [
              "RandomForestClassifier(bootstrap=True, ccp_alpha=0.0, class_weight=None,\n",
              "                       criterion='gini', max_depth=None, max_features='auto',\n",
              "                       max_leaf_nodes=None, max_samples=None,\n",
              "                       min_impurity_decrease=0.0, min_impurity_split=None,\n",
              "                       min_samples_leaf=1, min_samples_split=2,\n",
              "                       min_weight_fraction_leaf=0.0, n_estimators=10,\n",
              "                       n_jobs=None, oob_score=False, random_state=2021,\n",
              "                       verbose=0, warm_start=False)"
            ]
          },
          "metadata": {},
          "execution_count": 11
        }
      ]
    },
    {
      "cell_type": "code",
      "metadata": {
        "id": "wNS9K1ixKBT_",
        "colab": {
          "base_uri": "https://localhost:8080/"
        },
        "outputId": "bada1962-a387-4b23-df24-b54c9c1a8702"
      },
      "source": [
        "y_pred = rfc.predict(X_train)\n",
        "acc = accuracy_score(y_pred = y_pred, y_true = y_train)\n",
        "print(\"Train set에 대한 성능\")\n",
        "print(f'정확도: {acc:0.4f}')\n",
        "\n",
        "y_pred = rfc.predict(X_test)\n",
        "acc = accuracy_score(y_pred = y_pred, y_true = y_test)\n",
        "print(\"Test set에 대한 성능\")\n",
        "print(f'정확도: {acc:0.4f}')"
      ],
      "execution_count": 12,
      "outputs": [
        {
          "output_type": "stream",
          "name": "stdout",
          "text": [
            "Train set에 대한 성능\n",
            "정확도: 1.0000\n",
            "Test set에 대한 성능\n",
            "정확도: 0.9591\n"
          ]
        }
      ]
    },
    {
      "cell_type": "markdown",
      "metadata": {
        "id": "QI33p2ERNc0D"
      },
      "source": [
        "###3.2 단일 하이퍼 파라미터에 대한 Grid Search\n"
      ]
    },
    {
      "cell_type": "code",
      "metadata": {
        "id": "jPYI2uMsNVs7",
        "colab": {
          "base_uri": "https://localhost:8080/",
          "height": 388
        },
        "outputId": "6aa51f8f-4ef9-48d5-b3e0-7c04dec333cb"
      },
      "source": [
        "cv_scores = []\n",
        "estimator_list = [i for i in range(0,50,1)]\n",
        "for i in tqdm(range(0,50,1)) :\n",
        "  rfc = RandomForestClassifier(n_estimators=i+1, n_jobs=-1, random_state=2021)\n",
        "  score = cross_val_score(rfc, X_train, y_train, cv=10, scoring = 'accuracy').mean()\n",
        "  cv_scores.append(score)\n",
        "\n",
        "best_k = [estimator_list[i] for i in range(len(cv_scores)) if cv_scores[i] == np.max(cv_scores)]\n",
        "plt.figure(figsize=(20,10))\n",
        "plt.legend(['Cross Validation scores'], fontsize=20)\n",
        "plt.plot(estimator_list, cv_scores, marker='o', linestyle='dashed')\n",
        "plt.xlabel('The number of trees', fontsize=20)\n",
        "plt.ylabel('Accuracy', fontsize=20)\n",
        "plt.axvline(best_k[0], color='r', linestyle='--', linewidth=2)\n",
        "\n",
        "plt.show()"
      ],
      "execution_count": 13,
      "outputs": [
        {
          "output_type": "stream",
          "name": "stderr",
          "text": [
            "100%|██████████| 50/50 [01:36<00:00,  1.93s/it]\n",
            "findfont: Font family ['Malgun Gothic'] not found. Falling back to DejaVu Sans.\n",
            "findfont: Font family ['Malgun Gothic'] not found. Falling back to DejaVu Sans.\n"
          ]
        },
        {
          "output_type": "display_data",
          "data": {
            "image/png": "[encoded data removed]",
            "text/plain": [
              "<Figure size 1440x720 with 1 Axes>"
            ]
          },
          "metadata": {
            "needs_background": "light"
          }
        }
      ]
    },
    {
      "cell_type": "code",
      "metadata": {
        "id": "S_QRImarO_rU",
        "colab": {
          "base_uri": "https://localhost:8080/"
        },
        "outputId": "b3e5ec3e-5a60-4942-9ecc-b1a61332ceff"
      },
      "source": [
        "print(f'최적의 tree 개수: {(cv_scores.index(max(cv_scores)))+1}')\n",
        "print(\"\\n\")\n",
        "print(\"Train set 에 대한 성능 {10 fold cross validations}\")\n",
        "print(f'정확도: {max(cv_scores):0.4f}')"
      ],
      "execution_count": 14,
      "outputs": [
        {
          "output_type": "stream",
          "name": "stdout",
          "text": [
            "최적의 tree 개수: 37\n",
            "\n",
            "\n",
            "Train set 에 대한 성능 {10 fold cross validations}\n",
            "정확도: 0.9572\n"
          ]
        }
      ]
    },
    {
      "cell_type": "code",
      "metadata": {
        "id": "xngYwxJ4jNTK",
        "colab": {
          "base_uri": "https://localhost:8080/"
        },
        "outputId": "01ca287e-e56c-49f9-efeb-5a177690ff4f"
      },
      "source": [
        "rfc = RandomForestClassifier(n_estimators=37, n_jobs=-1, random_state=2021)\n",
        "rfc.fit(X_train, y_train)\n",
        "\n",
        "y_pred = rfc.predict(X_train)\n",
        "acc = accuracy_score(y_pred=y_pred, y_true=y_train)\n",
        "print(\"Train set에 대한 성능\")\n",
        "print(f'정확도: {acc:0.4f}')\n",
        "\n",
        "y_pred = rfc.predict(X_test)\n",
        "acc = accuracy_score(y_pred=y_pred, y_true=y_test)\n",
        "print(\"Test set에 대한 성능\")\n",
        "print(f'정확도: {acc:0.4f}')"
      ],
      "execution_count": 15,
      "outputs": [
        {
          "output_type": "stream",
          "name": "stdout",
          "text": [
            "Train set에 대한 성능\n",
            "정확도: 1.0000\n",
            "Test set에 대한 성능\n",
            "정확도: 0.9766\n"
          ]
        }
      ]
    },
    {
      "cell_type": "markdown",
      "metadata": {
        "id": "h85vq_OQPmVt"
      },
      "source": [
        "###3.3 전체 하이퍼 파라미터에 대한 Grid Search(파라미터 최적화)\n",
        "\n",
        "[sklearn에서 제공하는 RnadomForest 하이퍼 파라미터 정보](https://scikit-learn.org/stable/modules/generated/sklearn.ensemble.RandomForestClassifier.html)\n",
        "\n",
        "![image.png](data:image/png;base64,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)"
      ]
    },
    {
      "cell_type": "code",
      "metadata": {
        "id": "qsRQgoTVldJ_",
        "colab": {
          "base_uri": "https://localhost:8080/"
        },
        "outputId": "8c24d06d-1657-464e-c174-e2fe408458ed"
      },
      "source": [
        "rfc = RandomForestClassifier(random_state=2021)\n",
        "\n",
        "param_grid = {\n",
        "              'n_estimators': [50,60,70],\n",
        "              'max_depth': [10,15,20],\n",
        "              'max_leaf_nodes': [50,100,200],\n",
        "              'criterion': ['gini', 'entropy'],\n",
        "              'max_features': ['auto', 'sqr1', 'log2']\n",
        "}\n",
        "\n",
        "CV_rfc = GridSearchCV(estimator=rfc, param_grid=param_grid, cv=10, verbose=1, n_jobs=-1) #varbose는 시각화에 관한 progress 파라미터\n",
        "CV_rfc.fit(X_train, y_train)"
      ],
      "execution_count": 16,
      "outputs": [
        {
          "output_type": "stream",
          "name": "stdout",
          "text": [
            "Fitting 10 folds for each of 162 candidates, totalling 1620 fits\n"
          ]
        },
        {
          "output_type": "stream",
          "name": "stderr",
          "text": [
            "[Parallel(n_jobs=-1)]: Using backend LokyBackend with 2 concurrent workers.\n",
            "[Parallel(n_jobs=-1)]: Done  46 tasks      | elapsed:    5.2s\n",
            "[Parallel(n_jobs=-1)]: Done 470 tasks      | elapsed:   36.6s\n",
            "[Parallel(n_jobs=-1)]: Done 1470 tasks      | elapsed:  2.1min\n",
            "[Parallel(n_jobs=-1)]: Done 1620 out of 1620 | elapsed:  2.3min finished\n"
          ]
        },
        {
          "output_type": "execute_result",
          "data": {
            "text/plain": [
              "GridSearchCV(cv=10, error_score=nan,\n",
              "             estimator=RandomForestClassifier(bootstrap=True, ccp_alpha=0.0,\n",
              "                                              class_weight=None,\n",
              "                                              criterion='gini', max_depth=None,\n",
              "                                              max_features='auto',\n",
              "                                              max_leaf_nodes=None,\n",
              "                                              max_samples=None,\n",
              "                                              min_impurity_decrease=0.0,\n",
              "                                              min_impurity_split=None,\n",
              "                                              min_samples_leaf=1,\n",
              "                                              min_samples_split=2,\n",
              "                                              min_weight_fraction_leaf=0.0,\n",
              "                                              n_estimators=100, n_jobs=None,\n",
              "                                              oob_score=False,\n",
              "                                              random_state=2021, verbose=0,\n",
              "                                              warm_start=False),\n",
              "             iid='deprecated', n_jobs=-1,\n",
              "             param_grid={'criterion': ['gini', 'entropy'],\n",
              "                         'max_depth': [10, 15, 20],\n",
              "                         'max_features': ['auto', 'sqr1', 'log2'],\n",
              "                         'max_leaf_nodes': [50, 100, 200],\n",
              "                         'n_estimators': [50, 60, 70]},\n",
              "             pre_dispatch='2*n_jobs', refit=True, return_train_score=False,\n",
              "             scoring=None, verbose=1)"
            ]
          },
          "metadata": {},
          "execution_count": 16
        }
      ]
    },
    {
      "cell_type": "code",
      "metadata": {
        "id": "FbEZjWLvTv-3",
        "colab": {
          "base_uri": "https://localhost:8080/"
        },
        "outputId": "c83c7d29-7112-4637-83ab-206f6acbe5d2"
      },
      "source": [
        "CV_rfc.best_params_"
      ],
      "execution_count": 17,
      "outputs": [
        {
          "output_type": "execute_result",
          "data": {
            "text/plain": [
              "{'criterion': 'entropy',\n",
              " 'max_depth': 10,\n",
              " 'max_features': 'auto',\n",
              " 'max_leaf_nodes': 50,\n",
              " 'n_estimators': 50}"
            ]
          },
          "metadata": {},
          "execution_count": 17
        }
      ]
    },
    {
      "cell_type": "code",
      "metadata": {
        "id": "zL1VJgcSyV_P",
        "colab": {
          "base_uri": "https://localhost:8080/"
        },
        "outputId": "bf42d8b2-abb7-4b08-b763-7aff4914eae1"
      },
      "source": [
        "result_table = pd.DataFrame(CV_rfc.cv_results_)\n",
        "result_table = result_table.sort_values(by='mean_test_score', ascending=False)\n",
        "print(result_table[{'params', 'mean_test_score'}])"
      ],
      "execution_count": 18,
      "outputs": [
        {
          "output_type": "stream",
          "name": "stdout",
          "text": [
            "     mean_test_score                                             params\n",
            "81          0.959808  {'criterion': 'entropy', 'max_depth': 10, 'max...\n",
            "111         0.959808  {'criterion': 'entropy', 'max_depth': 15, 'max...\n",
            "135         0.959808  {'criterion': 'entropy', 'max_depth': 20, 'max...\n",
            "138         0.959808  {'criterion': 'entropy', 'max_depth': 20, 'max...\n",
            "114         0.959808  {'criterion': 'entropy', 'max_depth': 15, 'max...\n",
            "..               ...                                                ...\n",
            "148              NaN  {'criterion': 'entropy', 'max_depth': 20, 'max...\n",
            "149              NaN  {'criterion': 'entropy', 'max_depth': 20, 'max...\n",
            "150              NaN  {'criterion': 'entropy', 'max_depth': 20, 'max...\n",
            "151              NaN  {'criterion': 'entropy', 'max_depth': 20, 'max...\n",
            "152              NaN  {'criterion': 'entropy', 'max_depth': 20, 'max...\n",
            "\n",
            "[162 rows x 2 columns]\n"
          ]
        }
      ]
    },
    {
      "cell_type": "code",
      "metadata": {
        "id": "0GShp0hby62Z",
        "colab": {
          "base_uri": "https://localhost:8080/"
        },
        "outputId": "81467846-b703-47ba-d58a-efd3be16691f"
      },
      "source": [
        "best_rfc = CV_rfc.best_estimator_\n",
        "best_rfc.fit(X_train, y_train)"
      ],
      "execution_count": 19,
      "outputs": [
        {
          "output_type": "execute_result",
          "data": {
            "text/plain": [
              "RandomForestClassifier(bootstrap=True, ccp_alpha=0.0, class_weight=None,\n",
              "                       criterion='entropy', max_depth=10, max_features='auto',\n",
              "                       max_leaf_nodes=50, max_samples=None,\n",
              "                       min_impurity_decrease=0.0, min_impurity_split=None,\n",
              "                       min_samples_leaf=1, min_samples_split=2,\n",
              "                       min_weight_fraction_leaf=0.0, n_estimators=50,\n",
              "                       n_jobs=None, oob_score=False, random_state=2021,\n",
              "                       verbose=0, warm_start=False)"
            ]
          },
          "metadata": {},
          "execution_count": 19
        }
      ]
    },
    {
      "cell_type": "code",
      "metadata": {
        "id": "agSC1eJvWSp6",
        "colab": {
          "base_uri": "https://localhost:8080/"
        },
        "outputId": "fd87a486-280d-4a93-e04e-a9d35f0ae473"
      },
      "source": [
        "y_pred = best_rfc.predict(X_train)\n",
        "acc = accuracy_score(y_pred=y_pred, y_true=y_train)\n",
        "print(\"Train set에 대한 성능\")\n",
        "print(f'정확도: {acc:0.4f}')\n",
        "\n",
        "y_pred = best_rfc.predict(X_test)\n",
        "acc = accuracy_score(y_pred=y_pred, y_true=y_test)\n",
        "print(\"Test set에 대한 성능\")\n",
        "print(f'정확도: {acc:0.4f}')"
      ],
      "execution_count": 20,
      "outputs": [
        {
          "output_type": "stream",
          "name": "stdout",
          "text": [
            "Train set에 대한 성능\n",
            "정확도: 1.0000\n",
            "Test set에 대한 성능\n",
            "정확도: 0.9825\n"
          ]
        }
      ]
    },
    {
      "cell_type": "code",
      "metadata": {
        "id": "gfVSkMKKWtDE",
        "colab": {
          "base_uri": "https://localhost:8080/"
        },
        "outputId": "e6b6a924-9604-45e8-b921-4a6685d481bc"
      },
      "source": [
        "recall = recall_score(y_true = y_test, y_pred = y_pred)\n",
        "precision = precision_score(y_true = y_test, y_pred= y_pred)\n",
        "\n",
        "print(f\"정확도: {acc:0.4f}\", f\"민감도: {recall:0.4f}\", f\"정밀도: {precision:0.4f}\", sep=' | ')"
      ],
      "execution_count": 21,
      "outputs": [
        {
          "output_type": "stream",
          "name": "stdout",
          "text": [
            "정확도: 0.9825 | 민감도: 0.9907 | 정밀도: 0.9815\n"
          ]
        }
      ]
    },
    {
      "cell_type": "code",
      "metadata": {
        "id": "9cVh2yR1Wsvk",
        "colab": {
          "base_uri": "https://localhost:8080/",
          "height": 279
        },
        "outputId": "43f5853f-4b87-40b1-bd9c-f6e679405253"
      },
      "source": [
        "plot_confusion_matrix(best_rfc, X_test, y_test, cmap=plt.cm.Blues)\n",
        "plt.show()"
      ],
      "execution_count": 22,
      "outputs": [
        {
          "output_type": "display_data",
          "data": {
            "image/png": "[encoded data removed]",
            "text/plain": [
              "<Figure size 432x288 with 2 Axes>"
            ]
          },
          "metadata": {
            "needs_background": "light"
          }
        }
      ]
    },
    {
      "cell_type": "code",
      "metadata": {
        "id": "XscHmsl9YIAe",
        "colab": {
          "base_uri": "https://localhost:8080/",
          "height": 1000
        },
        "outputId": "145bf580-b491-4330-a5e0-64267687be3d"
      },
      "source": [
        "# 변수의 중요도 표시\n",
        "feats = {}\n",
        "\n",
        "for feature, importance in zip(breast_cancer.feature_names, best_rfc.feature_importances_):\n",
        "  feats[feature] = importance\n",
        "\n",
        "importances = pd.DataFrame.from_dict(feats, orient='index').rename(columns={0: 'Gini-importance'})\n",
        "importances = importances.sort_values(by='Gini-importance', ascending = False)\n",
        "importances = importances.reset_index()\n",
        "importances = importances.rename(columns={'index' : 'Features'})\n",
        "\n",
        "sns.set(font_scale = 5)\n",
        "sns.set(style='whitegrid', color_codes=True, font_scale = 1.7)\n",
        "\n",
        "fig, ax = plt.subplots()\n",
        "fig.set_size_inches(30,15)\n",
        "sns.barplot(x=importances['Gini-importance'], y=importances['Features'], data=importances, color='skyblue')\n",
        "plt.xlabel('importance', fontsize=25, weight='bold')\n",
        "plt.ylabel('Features', fontsize=25, weight='bold')\n",
        "plt.title('Feature importance', fontsize=25, weight='bold')\n",
        "\n",
        "display(plt.show())\n",
        "display(importances)"
      ],
      "execution_count": 23,
      "outputs": [
        {
          "output_type": "display_data",
          "data": {
            "image/png": "[encoded data removed]",
            "text/plain": [
              "<Figure size 2160x1080 with 1 Axes>"
            ]
          },
          "metadata": {}
        },
        {
          "output_type": "display_data",
          "data": {
            "text/plain": [
              "None"
            ]
          },
          "metadata": {}
        },
        {
          "output_type": "display_data",
          "data": {
            "text/html": [
              "<div>\n",
              "<style scoped>\n",
              "    .dataframe tbody tr th:only-of-type {\n",
              "        vertical-align: middle;\n",
              "    }\n",
              "\n",
              "    .dataframe tbody tr th {\n",
              "        vertical-align: top;\n",
              "    }\n",
              "\n",
              "    .dataframe thead th {\n",
              "        text-align: right;\n",
              "    }\n",
              "</style>\n",
              "<table border=\"1\" class=\"dataframe\">\n",
              "  <thead>\n",
              "    <tr style=\"text-align: right;\">\n",
              "      <th></th>\n",
              "      <th>Features</th>\n",
              "      <th>Gini-importance</th>\n",
              "    </tr>\n",
              "  </thead>\n",
              "  <tbody>\n",
              "    <tr>\n",
              "      <th>0</th>\n",
              "      <td>worst radius</td>\n",
              "      <td>0.130206</td>\n",
              "    </tr>\n",
              "    <tr>\n",
              "      <th>1</th>\n",
              "      <td>worst area</td>\n",
              "      <td>0.129785</td>\n",
              "    </tr>\n",
              "    <tr>\n",
              "      <th>2</th>\n",
              "      <td>mean concave points</td>\n",
              "      <td>0.104198</td>\n",
              "    </tr>\n",
              "    <tr>\n",
              "      <th>3</th>\n",
              "      <td>worst perimeter</td>\n",
              "      <td>0.099340</td>\n",
              "    </tr>\n",
              "    <tr>\n",
              "      <th>4</th>\n",
              "      <td>worst concave points</td>\n",
              "      <td>0.084856</td>\n",
              "    </tr>\n",
              "    <tr>\n",
              "      <th>5</th>\n",
              "      <td>mean area</td>\n",
              "      <td>0.067207</td>\n",
              "    </tr>\n",
              "    <tr>\n",
              "      <th>6</th>\n",
              "      <td>mean concavity</td>\n",
              "      <td>0.046644</td>\n",
              "    </tr>\n",
              "    <tr>\n",
              "      <th>7</th>\n",
              "      <td>mean perimeter</td>\n",
              "      <td>0.044616</td>\n",
              "    </tr>\n",
              "    <tr>\n",
              "      <th>8</th>\n",
              "      <td>mean radius</td>\n",
              "      <td>0.036507</td>\n",
              "    </tr>\n",
              "    <tr>\n",
              "      <th>9</th>\n",
              "      <td>worst texture</td>\n",
              "      <td>0.031804</td>\n",
              "    </tr>\n",
              "    <tr>\n",
              "      <th>10</th>\n",
              "      <td>mean compactness</td>\n",
              "      <td>0.029585</td>\n",
              "    </tr>\n",
              "    <tr>\n",
              "      <th>11</th>\n",
              "      <td>worst concavity</td>\n",
              "      <td>0.024963</td>\n",
              "    </tr>\n",
              "    <tr>\n",
              "      <th>12</th>\n",
              "      <td>mean texture</td>\n",
              "      <td>0.020571</td>\n",
              "    </tr>\n",
              "    <tr>\n",
              "      <th>13</th>\n",
              "      <td>area error</td>\n",
              "      <td>0.020045</td>\n",
              "    </tr>\n",
              "    <tr>\n",
              "      <th>14</th>\n",
              "      <td>worst smoothness</td>\n",
              "      <td>0.016356</td>\n",
              "    </tr>\n",
              "    <tr>\n",
              "      <th>15</th>\n",
              "      <td>radius error</td>\n",
              "      <td>0.012347</td>\n",
              "    </tr>\n",
              "    <tr>\n",
              "      <th>16</th>\n",
              "      <td>worst symmetry</td>\n",
              "      <td>0.011286</td>\n",
              "    </tr>\n",
              "    <tr>\n",
              "      <th>17</th>\n",
              "      <td>mean smoothness</td>\n",
              "      <td>0.009378</td>\n",
              "    </tr>\n",
              "    <tr>\n",
              "      <th>18</th>\n",
              "      <td>concave points error</td>\n",
              "      <td>0.008999</td>\n",
              "    </tr>\n",
              "    <tr>\n",
              "      <th>19</th>\n",
              "      <td>worst compactness</td>\n",
              "      <td>0.008853</td>\n",
              "    </tr>\n",
              "    <tr>\n",
              "      <th>20</th>\n",
              "      <td>worst fractal dimension</td>\n",
              "      <td>0.008208</td>\n",
              "    </tr>\n",
              "    <tr>\n",
              "      <th>21</th>\n",
              "      <td>mean symmetry</td>\n",
              "      <td>0.007176</td>\n",
              "    </tr>\n",
              "    <tr>\n",
              "      <th>22</th>\n",
              "      <td>texture error</td>\n",
              "      <td>0.006782</td>\n",
              "    </tr>\n",
              "    <tr>\n",
              "      <th>23</th>\n",
              "      <td>compactness error</td>\n",
              "      <td>0.006597</td>\n",
              "    </tr>\n",
              "    <tr>\n",
              "      <th>24</th>\n",
              "      <td>smoothness error</td>\n",
              "      <td>0.006577</td>\n",
              "    </tr>\n",
              "    <tr>\n",
              "      <th>25</th>\n",
              "      <td>mean fractal dimension</td>\n",
              "      <td>0.005987</td>\n",
              "    </tr>\n",
              "    <tr>\n",
              "      <th>26</th>\n",
              "      <td>fractal dimension error</td>\n",
              "      <td>0.005887</td>\n",
              "    </tr>\n",
              "    <tr>\n",
              "      <th>27</th>\n",
              "      <td>symmetry error</td>\n",
              "      <td>0.005506</td>\n",
              "    </tr>\n",
              "    <tr>\n",
              "      <th>28</th>\n",
              "      <td>concavity error</td>\n",
              "      <td>0.005476</td>\n",
              "    </tr>\n",
              "    <tr>\n",
              "      <th>29</th>\n",
              "      <td>perimeter error</td>\n",
              "      <td>0.004257</td>\n",
              "    </tr>\n",
              "  </tbody>\n",
              "</table>\n",
              "</div>"
            ],
            "text/plain": [
              "                   Features  Gini-importance\n",
              "0              worst radius         0.130206\n",
              "1                worst area         0.129785\n",
              "2       mean concave points         0.104198\n",
              "3           worst perimeter         0.099340\n",
              "4      worst concave points         0.084856\n",
              "5                 mean area         0.067207\n",
              "6            mean concavity         0.046644\n",
              "7            mean perimeter         0.044616\n",
              "8               mean radius         0.036507\n",
              "9             worst texture         0.031804\n",
              "10         mean compactness         0.029585\n",
              "11          worst concavity         0.024963\n",
              "12             mean texture         0.020571\n",
              "13               area error         0.020045\n",
              "14         worst smoothness         0.016356\n",
              "15             radius error         0.012347\n",
              "16           worst symmetry         0.011286\n",
              "17          mean smoothness         0.009378\n",
              "18     concave points error         0.008999\n",
              "19        worst compactness         0.008853\n",
              "20  worst fractal dimension         0.008208\n",
              "21            mean symmetry         0.007176\n",
              "22            texture error         0.006782\n",
              "23        compactness error         0.006597\n",
              "24         smoothness error         0.006577\n",
              "25   mean fractal dimension         0.005987\n",
              "26  fractal dimension error         0.005887\n",
              "27           symmetry error         0.005506\n",
              "28          concavity error         0.005476\n",
              "29          perimeter error         0.004257"
            ]
          },
          "metadata": {}
        }
      ]
    },
    {
      "cell_type": "markdown",
      "metadata": {
        "id": "6p6Ywsugdiw-"
      },
      "source": [
        "###3.4 다른 알고리즘과 비교(KNN, Decision Tree)"
      ]
    },
    {
      "cell_type": "code",
      "metadata": {
        "id": "I9TBUGcTdq9L",
        "colab": {
          "base_uri": "https://localhost:8080/"
        },
        "outputId": "342143de-05fc-48fa-a58b-4f820853eafe"
      },
      "source": [
        "#KNN\n",
        "classifier = KNeighborsClassifier(n_neighbors=5, p=2)\n",
        "classifier.fit(X_train, y_train)\n",
        "y_pred = classifier.predict(X_test)\n",
        "\n",
        "acc = accuracy_score(y_true=y_test, y_pred=y_pred)\n",
        "recall = recall_score(y_true=y_test, y_pred=y_pred)\n",
        "precision = precision_score(y_true=y_test, y_pred=y_pred)\n",
        "\n",
        "print(\"KNN\")\n",
        "print(f\"정확도: {acc:0.4f}\", f\"민감도: {recall:0.4f}\", f\"정밀도: {precision:0.4f}\", sep=' | ')"
      ],
      "execution_count": 24,
      "outputs": [
        {
          "output_type": "stream",
          "name": "stdout",
          "text": [
            "KNN\n",
            "정확도: 0.9766 | 민감도: 0.9907 | 정밀도: 0.9725\n"
          ]
        }
      ]
    },
    {
      "cell_type": "code",
      "metadata": {
        "id": "0DotrHgmdqs8",
        "colab": {
          "base_uri": "https://localhost:8080/"
        },
        "outputId": "3b49089d-b437-4030-df31-7d148ae04c6c"
      },
      "source": [
        "#Decision Tree\n",
        "classifier = DecisionTreeClassifier(random_state=2021)\n",
        "param_grid = {\n",
        "              'max_depth': [10,15,20],\n",
        "              'max_leaf_nodes': [50,100,200],\n",
        "              'criterion': ['gini', 'entropy'],\n",
        "}\n",
        "\n",
        "CV_classifier = GridSearchCV(estimator=classifier, param_grid=param_grid, cv=10, verbose=1, n_jobs=-1) #verbose는 시각화에 관한 progress 파라미터\n",
        "CV_classifier.fit(X_train, y_train)\n",
        "\n",
        "best_classifier = CV_classifier.best_estimator_\n",
        "best_classifier.fit(X_train, y_train)\n",
        "\n",
        "y_pred = best_classifier.predict(X_test)\n",
        "\n",
        "acc = accuracy_score(y_true=y_test, y_pred=y_pred)\n",
        "recall = recall_score(y_true=y_test, y_pred=y_pred)\n",
        "precision = precision_score(y_true=y_test, y_pred=y_pred)\n",
        "\n",
        "print(\"Decision Tree\")\n",
        "print(f\"정확도: {acc:0.4f}\", f\"민감도: {recall:0.4f}\", f\"정밀도: {precision:0.4f}\", sep=' | ')"
      ],
      "execution_count": 25,
      "outputs": [
        {
          "output_type": "stream",
          "name": "stdout",
          "text": [
            "Fitting 10 folds for each of 18 candidates, totalling 180 fits\n"
          ]
        },
        {
          "output_type": "stream",
          "name": "stderr",
          "text": [
            "[Parallel(n_jobs=-1)]: Using backend LokyBackend with 2 concurrent workers.\n"
          ]
        },
        {
          "output_type": "stream",
          "name": "stdout",
          "text": [
            "Decision Tree\n",
            "정확도: 0.9532 | 민감도: 0.9720 | 정밀도: 0.9541\n"
          ]
        },
        {
          "output_type": "stream",
          "name": "stderr",
          "text": [
            "[Parallel(n_jobs=-1)]: Done 180 out of 180 | elapsed:    1.3s finished\n"
          ]
        }
      ]
    },
    {
      "cell_type": "markdown",
      "metadata": {
        "id": "zSwBuNqt3Gcs"
      },
      "source": [
        "##4.Regression model 구축하기"
      ]
    },
    {
      "cell_type": "markdown",
      "metadata": {
        "id": "Nec66Ugr3MFw"
      },
      "source": [
        ""
      ]
    },
    {
      "cell_type": "code",
      "metadata": {
        "id": "NmQEdSy03Onw",
        "colab": {
          "base_uri": "https://localhost:8080/"
        },
        "outputId": "837eb72c-eb2e-431d-b0d4-5680c916fff4"
      },
      "source": [
        "boston = load_boston()\n",
        "\n",
        "X = pd.DataFrame(boston.data, columns=boston.feature_names)\n",
        "y = pd.DataFrame(boston.target, columns=['MEDV'])\n",
        "\n",
        "X_train, X_test, y_train, y_test = train_test_split(X, y, test_size=0.3, random_state=2021)\n",
        "\n",
        "rfc = RandomForestRegressor(random_state=2021)\n",
        "param_grid = {\n",
        "              'max_depth': [10,15,20],\n",
        "              'max_leaf_nodes': [50,100,200],\n",
        "              'criterion': ['mae', 'mse'],\n",
        "}\n",
        "\n",
        "CV_rfc = GridSearchCV(estimator=rfc, param_grid=param_grid, cv=10, verbose=1, n_jobs=-1, scoring = 'r2') \n",
        "CV_rfc.fit(X_train, y_train)\n",
        "\n",
        "best_rfc = CV_rfc.best_estimator_\n",
        "best_rfc.fit(X_train, y_train)\n",
        "\n",
        "y_pred = best_rfc.predict(X_test)\n",
        "\n",
        "r2score = r2_score(y_true=y_test, y_pred=y_pred)\n",
        "mse = mean_squared_error(y_true=y_test, y_pred=y_pred)\n",
        "mae = mean_absolute_error(y_true=y_test, y_pred=y_pred)\n",
        "\n",
        "print(\"Random Forest Regression\")\n",
        "print(f\"R2: {r2score:0.4f}\", f\"MSE: {mse:0.4f}\", f\"MAE: {mae:0.4f}\", sep=' | ')"
      ],
      "execution_count": 26,
      "outputs": [
        {
          "output_type": "stream",
          "name": "stderr",
          "text": [
            "[Parallel(n_jobs=-1)]: Using backend LokyBackend with 2 concurrent workers.\n"
          ]
        },
        {
          "output_type": "stream",
          "name": "stdout",
          "text": [
            "Fitting 10 folds for each of 18 candidates, totalling 180 fits\n"
          ]
        },
        {
          "output_type": "stream",
          "name": "stderr",
          "text": [
            "[Parallel(n_jobs=-1)]: Done  46 tasks      | elapsed:   34.6s\n",
            "[Parallel(n_jobs=-1)]: Done 180 out of 180 | elapsed:  1.5min finished\n"
          ]
        },
        {
          "output_type": "stream",
          "name": "stdout",
          "text": [
            "Random Forest Regression\n",
            "R2: 0.8121 | MSE: 12.2104 | MAE: 2.2422\n"
          ]
        }
      ]
    },
    {
      "cell_type": "code",
      "metadata": {
        "id": "Xq8k-ngb3OkC",
        "colab": {
          "base_uri": "https://localhost:8080/"
        },
        "outputId": "e45567c0-2d26-4de6-b895-9ad4ac636b5c"
      },
      "source": [
        "# Decision Tree Regressor\n",
        "dtr = DecisionTreeRegressor(random_state=2021)\n",
        "param_grid = {\n",
        "              'max_depth': [10,15,20],\n",
        "              'max_leaf_nodes': [50,100,200],\n",
        "              'criterion': ['mae', 'mse'],\n",
        "}\n",
        "\n",
        "CV_dtr = GridSearchCV(estimator=dtr, param_grid=param_grid, cv=10, verbose=1, n_jobs=-1, scoring = 'r2') \n",
        "CV_dtr.fit(X_train, y_train)\n",
        "\n",
        "best_dtr = CV_dtr.best_estimator_\n",
        "best_dtr.fit(X_train, y_train)\n",
        "\n",
        "y_pred = best_dtr.predict(X_test)\n",
        "\n",
        "r2score = r2_score(y_true=y_test, y_pred=y_pred)\n",
        "mse = mean_squared_error(y_true=y_test, y_pred=y_pred)\n",
        "mae = mean_absolute_error(y_true=y_test, y_pred=y_pred)\n",
        "\n",
        "print(\"Random Forest Regression\")\n",
        "print(f\"R2: {r2score:0.4f}\", f\"MSE: {mse:0.4f}\", f\"MAE: {mae:0.4f}\", sep=' | ')"
      ],
      "execution_count": 27,
      "outputs": [
        {
          "output_type": "stream",
          "name": "stdout",
          "text": [
            "Fitting 10 folds for each of 18 candidates, totalling 180 fits\n"
          ]
        },
        {
          "output_type": "stream",
          "name": "stderr",
          "text": [
            "[Parallel(n_jobs=-1)]: Using backend LokyBackend with 2 concurrent workers.\n"
          ]
        },
        {
          "output_type": "stream",
          "name": "stdout",
          "text": [
            "Random Forest Regression\n",
            "R2: 0.5741 | MSE: 27.6814 | MAE: 3.1224\n"
          ]
        },
        {
          "output_type": "stream",
          "name": "stderr",
          "text": [
            "[Parallel(n_jobs=-1)]: Done 180 out of 180 | elapsed:    2.0s finished\n"
          ]
        }
      ]
    },
    {
      "cell_type": "markdown",
      "metadata": {
        "id": "a479FCfgV810"
      },
      "source": [
        "EOD"
      ]
    }
  ]
}