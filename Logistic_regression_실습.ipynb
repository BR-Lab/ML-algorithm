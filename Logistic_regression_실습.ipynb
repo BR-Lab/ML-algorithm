{
  "nbformat": 4,
  "nbformat_minor": 0,
  "metadata": {
    "colab": {
      "name": "Logistic regression 실습",
      "provenance": [],
      "toc_visible": true,
      "authorship_tag": "ABX9TyMratejMzCTU7n78Atlrxs4",
      "include_colab_link": true
    },
    "kernelspec": {
      "name": "python3",
      "display_name": "Python 3"
    },
    "language_info": {
      "name": "python"
    },
    "accelerator": "GPU"
  },
  "cells": [
    {
      "cell_type": "markdown",
      "metadata": {
        "id": "view-in-github",
        "colab_type": "text"
      },
      "source": [
        "<a href=\"https://colab.research.google.com/github/BR-Lab/ML-algorithm/blob/main/Logistic_regression_%EC%8B%A4%EC%8A%B5.ipynb\" target=\"_parent\"><img src=\"https://colab.research.google.com/assets/colab-badge.svg\" alt=\"Open In Colab\"/></a>"
      ]
    },
    {
      "cell_type": "markdown",
      "metadata": {
        "id": "jMzCpQTbUn5-"
      },
      "source": [
        "# Logistic Regression 실습"
      ]
    },
    {
      "cell_type": "markdown",
      "metadata": {
        "id": "1-9FmO0rU3oj"
      },
      "source": [
        "## 0.Introduction"
      ]
    },
    {
      "cell_type": "markdown",
      "metadata": {
        "id": "140OIsszmbGk"
      },
      "source": [
        "<분석 모델>\n",
        "*   병원 환자에 대한 정보와 유방암 진단 여부를 기록한 dataset을 이용\n",
        "*   환자정보 + 유방암 확진여부 -> logistic regression model -> <br>1. $\\beta$ 해석 s.t. $logit = \\beta_0 + \\sum_k \\beta_kX_k$ <br> 2. 성능파악 i.e. cut-off 값에 따른 혼동행력 파악 & ROC curve 관찰\n",
        "\n",
        "\n"
      ]
    },
    {
      "cell_type": "markdown",
      "metadata": {
        "id": "ZQMChPo5U7K4"
      },
      "source": [
        "## 1.import module"
      ]
    },
    {
      "cell_type": "code",
      "metadata": {
        "id": "p8l9TeqsXKgq"
      },
      "source": [
        "#!pip install sklearn\n",
        "\n",
        "#유방암 진단결과 데이터 패키지\n",
        "from sklearn.datasets import load_breast_cancer\n",
        "\n",
        "#데이터 전처리 패키지\n",
        "import numpy as np\n",
        "import pandas as pd\n",
        "from sklearn.preprocessing import StandardScaler\n",
        "\n",
        "#ML model 구축 및 평가 패키지\n",
        "from sklearn.linear_model import LogisticRegression\n",
        "from sklearn.model_selection import train_test_split\n",
        "from sklearn.metrics import roc_curve, accuracy_score, confusion_matrix, recall_score, precision_score\n",
        "\n",
        "#데이터 시각화 패키지\n",
        "import seaborn as sns\n",
        "import matplotlib.pyplot as plt\n",
        "import matplotlib.font_manager as fm\n",
        "\n",
        "#한글 폰트 설정\n",
        "plt.rc('font', family = 'Malgun Gothic')"
      ],
      "execution_count": 1,
      "outputs": []
    },
    {
      "cell_type": "markdown",
      "metadata": {
        "id": "ffqOisVlVHBH"
      },
      "source": [
        "## 2.데이터 불러오기"
      ]
    },
    {
      "cell_type": "markdown",
      "metadata": {
        "id": "UEp-lknkm3Rk"
      },
      "source": [
        "###2.1 data description\n",
        "\n",
        "<데이터 구조>\n",
        "\n",
        "\n",
        "*   데이터 : 병원 환자에 대한 정보와 유방암 진단 여부\n",
        "*   관측치 개수: 569개\n",
        "*   변수 개수: 33개(설명변수:30개, 반응변수:2개, ID)\n"
      ]
    },
    {
      "cell_type": "code",
      "metadata": {
        "id": "gjfFH-cqVA0a",
        "colab": {
          "base_uri": "https://localhost:8080/"
        },
        "outputId": "8d67c570-dd4e-4e43-c862-698f9031bbf0"
      },
      "source": [
        "breast_cancer = load_breast_cancer()\n",
        "print(breast_cancer.DESCR)"
      ],
      "execution_count": 2,
      "outputs": [
        {
          "output_type": "stream",
          "name": "stdout",
          "text": [
            ".. _breast_cancer_dataset:\n",
            "\n",
            "Breast cancer wisconsin (diagnostic) dataset\n",
            "--------------------------------------------\n",
            "\n",
            "**Data Set Characteristics:**\n",
            "\n",
            "    :Number of Instances: 569\n",
            "\n",
            "    :Number of Attributes: 30 numeric, predictive attributes and the class\n",
            "\n",
            "    :Attribute Information:\n",
            "        - radius (mean of distances from center to points on the perimeter)\n",
            "        - texture (standard deviation of gray-scale values)\n",
            "        - perimeter\n",
            "        - area\n",
            "        - smoothness (local variation in radius lengths)\n",
            "        - compactness (perimeter^2 / area - 1.0)\n",
            "        - concavity (severity of concave portions of the contour)\n",
            "        - concave points (number of concave portions of the contour)\n",
            "        - symmetry \n",
            "        - fractal dimension (\"coastline approximation\" - 1)\n",
            "\n",
            "        The mean, standard error, and \"worst\" or largest (mean of the three\n",
            "        largest values) of these features were computed for each image,\n",
            "        resulting in 30 features.  For instance, field 3 is Mean Radius, field\n",
            "        13 is Radius SE, field 23 is Worst Radius.\n",
            "\n",
            "        - class:\n",
            "                - WDBC-Malignant\n",
            "                - WDBC-Benign\n",
            "\n",
            "    :Summary Statistics:\n",
            "\n",
            "    ===================================== ====== ======\n",
            "                                           Min    Max\n",
            "    ===================================== ====== ======\n",
            "    radius (mean):                        6.981  28.11\n",
            "    texture (mean):                       9.71   39.28\n",
            "    perimeter (mean):                     43.79  188.5\n",
            "    area (mean):                          143.5  2501.0\n",
            "    smoothness (mean):                    0.053  0.163\n",
            "    compactness (mean):                   0.019  0.345\n",
            "    concavity (mean):                     0.0    0.427\n",
            "    concave points (mean):                0.0    0.201\n",
            "    symmetry (mean):                      0.106  0.304\n",
            "    fractal dimension (mean):             0.05   0.097\n",
            "    radius (standard error):              0.112  2.873\n",
            "    texture (standard error):             0.36   4.885\n",
            "    perimeter (standard error):           0.757  21.98\n",
            "    area (standard error):                6.802  542.2\n",
            "    smoothness (standard error):          0.002  0.031\n",
            "    compactness (standard error):         0.002  0.135\n",
            "    concavity (standard error):           0.0    0.396\n",
            "    concave points (standard error):      0.0    0.053\n",
            "    symmetry (standard error):            0.008  0.079\n",
            "    fractal dimension (standard error):   0.001  0.03\n",
            "    radius (worst):                       7.93   36.04\n",
            "    texture (worst):                      12.02  49.54\n",
            "    perimeter (worst):                    50.41  251.2\n",
            "    area (worst):                         185.2  4254.0\n",
            "    smoothness (worst):                   0.071  0.223\n",
            "    compactness (worst):                  0.027  1.058\n",
            "    concavity (worst):                    0.0    1.252\n",
            "    concave points (worst):               0.0    0.291\n",
            "    symmetry (worst):                     0.156  0.664\n",
            "    fractal dimension (worst):            0.055  0.208\n",
            "    ===================================== ====== ======\n",
            "\n",
            "    :Missing Attribute Values: None\n",
            "\n",
            "    :Class Distribution: 212 - Malignant, 357 - Benign\n",
            "\n",
            "    :Creator:  Dr. William H. Wolberg, W. Nick Street, Olvi L. Mangasarian\n",
            "\n",
            "    :Donor: Nick Street\n",
            "\n",
            "    :Date: November, 1995\n",
            "\n",
            "This is a copy of UCI ML Breast Cancer Wisconsin (Diagnostic) datasets.\n",
            "https://goo.gl/U2Uwz2\n",
            "\n",
            "Features are computed from a digitized image of a fine needle\n",
            "aspirate (FNA) of a breast mass.  They describe\n",
            "characteristics of the cell nuclei present in the image.\n",
            "\n",
            "Separating plane described above was obtained using\n",
            "Multisurface Method-Tree (MSM-T) [K. P. Bennett, \"Decision Tree\n",
            "Construction Via Linear Programming.\" Proceedings of the 4th\n",
            "Midwest Artificial Intelligence and Cognitive Science Society,\n",
            "pp. 97-101, 1992], a classification method which uses linear\n",
            "programming to construct a decision tree.  Relevant features\n",
            "were selected using an exhaustive search in the space of 1-4\n",
            "features and 1-3 separating planes.\n",
            "\n",
            "The actual linear program used to obtain the separating plane\n",
            "in the 3-dimensional space is that described in:\n",
            "[K. P. Bennett and O. L. Mangasarian: \"Robust Linear\n",
            "Programming Discrimination of Two Linearly Inseparable Sets\",\n",
            "Optimization Methods and Software 1, 1992, 23-34].\n",
            "\n",
            "This database is also available through the UW CS ftp server:\n",
            "\n",
            "ftp ftp.cs.wisc.edu\n",
            "cd math-prog/cpo-dataset/machine-learn/WDBC/\n",
            "\n",
            ".. topic:: References\n",
            "\n",
            "   - W.N. Street, W.H. Wolberg and O.L. Mangasarian. Nuclear feature extraction \n",
            "     for breast tumor diagnosis. IS&T/SPIE 1993 International Symposium on \n",
            "     Electronic Imaging: Science and Technology, volume 1905, pages 861-870,\n",
            "     San Jose, CA, 1993.\n",
            "   - O.L. Mangasarian, W.N. Street and W.H. Wolberg. Breast cancer diagnosis and \n",
            "     prognosis via linear programming. Operations Research, 43(4), pages 570-577, \n",
            "     July-August 1995.\n",
            "   - W.H. Wolberg, W.N. Street, and O.L. Mangasarian. Machine learning techniques\n",
            "     to diagnose breast cancer from fine-needle aspirates. Cancer Letters 77 (1994) \n",
            "     163-171.\n"
          ]
        }
      ]
    },
    {
      "cell_type": "code",
      "metadata": {
        "id": "fharnUIFox8N",
        "colab": {
          "base_uri": "https://localhost:8080/"
        },
        "outputId": "da1eef58-2716-4560-9f9c-c268dfc66ac8"
      },
      "source": [
        "print(breast_cancer.feature_names)\n",
        "print(breast_cancer.target_names) # \"0\" : malignant(유방암), \"1\" : benign(유방암 아님)"
      ],
      "execution_count": 3,
      "outputs": [
        {
          "output_type": "stream",
          "name": "stdout",
          "text": [
            "['mean radius' 'mean texture' 'mean perimeter' 'mean area'\n",
            " 'mean smoothness' 'mean compactness' 'mean concavity'\n",
            " 'mean concave points' 'mean symmetry' 'mean fractal dimension'\n",
            " 'radius error' 'texture error' 'perimeter error' 'area error'\n",
            " 'smoothness error' 'compactness error' 'concavity error'\n",
            " 'concave points error' 'symmetry error' 'fractal dimension error'\n",
            " 'worst radius' 'worst texture' 'worst perimeter' 'worst area'\n",
            " 'worst smoothness' 'worst compactness' 'worst concavity'\n",
            " 'worst concave points' 'worst symmetry' 'worst fractal dimension']\n",
            "['malignant' 'benign']\n"
          ]
        }
      ]
    },
    {
      "cell_type": "code",
      "metadata": {
        "id": "1ouuBnGrpDG4"
      },
      "source": [
        "# 데이터 처리의 용이함을 위해 유방암이 아닐경우 0, 유방암일 경우 1로 target data 값 변경\n",
        "breast_cancer.target = np.where(breast_cancer.target==0,1,0)"
      ],
      "execution_count": 4,
      "outputs": []
    },
    {
      "cell_type": "markdown",
      "metadata": {
        "id": "BelAhJ-9VYNp"
      },
      "source": [
        "## 3.데이터 전처리"
      ]
    },
    {
      "cell_type": "markdown",
      "metadata": {
        "id": "S4ol8_SGrRTS"
      },
      "source": [
        "train, test set 나누기 & data 컬럼 단위 정규화\n"
      ]
    },
    {
      "cell_type": "code",
      "metadata": {
        "id": "FgTfS2r1QuKa"
      },
      "source": [
        "# train, test set 나누기\n",
        "X_train, X_test, y_train, y_test = train_test_split(breast_cancer.data,breast_cancer.target, test_size=0.2, random_state=2021)\n",
        "\n",
        "# data 컬럼 단위 정규화\n",
        "normalizer = StandardScaler()\n",
        "X_train = normalizer.fit_transform(X_train)\n",
        "X_test = normalizer.fit_transform(X_test)"
      ],
      "execution_count": 5,
      "outputs": []
    },
    {
      "cell_type": "markdown",
      "metadata": {
        "id": "JOf5vWUoVfLW"
      },
      "source": [
        "## 4.Logistic Regression model 구축"
      ]
    },
    {
      "cell_type": "markdown",
      "metadata": {
        "id": "1LfXpZI2rhF2"
      },
      "source": [
        "### 4.1 model 학습하기\n"
      ]
    },
    {
      "cell_type": "code",
      "metadata": {
        "id": "YOpTzZm5Qhoy",
        "colab": {
          "base_uri": "https://localhost:8080/"
        },
        "outputId": "73e7e537-baf9-41f0-94ef-7df031615512"
      },
      "source": [
        "model = LogisticRegression()\n",
        "\n",
        "model.fit(X_train, y_train)"
      ],
      "execution_count": 6,
      "outputs": [
        {
          "output_type": "execute_result",
          "data": {
            "text/plain": [
              "LogisticRegression(C=1.0, class_weight=None, dual=False, fit_intercept=True,\n",
              "                   intercept_scaling=1, l1_ratio=None, max_iter=100,\n",
              "                   multi_class='auto', n_jobs=None, penalty='l2',\n",
              "                   random_state=None, solver='lbfgs', tol=0.0001, verbose=0,\n",
              "                   warm_start=False)"
            ]
          },
          "metadata": {},
          "execution_count": 6
        }
      ]
    },
    {
      "cell_type": "markdown",
      "metadata": {
        "id": "U3kLToIrr1MF"
      },
      "source": [
        "###4.2 $\\beta$ 확인하기\n",
        "\n",
        "$logit = log(odds) = log(\\frac{P(Y=1)}{1-P(Y=1)}) = \\beta_0 + \\sum_{k=1}^{30} \\beta_kX_k = \\beta^TX$\n",
        "####odds : 승산, p:성공확률\n",
        "<br><br>\n",
        "\n",
        "\n",
        "\n",
        "*   $\\beta_k : X_k가 1 단위 증가하였 때, logit 값의 변화량$\n",
        "*   $e^{\\beta_k} : X_k가 1 단위 증가하였 때, e^logit = Odds 값의 변화량$\n",
        "\n",
        "\n",
        "*   $\\beta_k>0$ → Odds  1 이상 증가 → P(Y=1)가 급증 → risky\n",
        "*   $\\beta_k<0$ → Odds  1 미만 증가 → P(Y=1)가 급증  x → protective\n",
        "\n",
        "\n",
        "\n"
      ]
    },
    {
      "cell_type": "code",
      "metadata": {
        "id": "-tsaYEtqyjWR",
        "colab": {
          "base_uri": "https://localhost:8080/"
        },
        "outputId": "5d1f50b9-5c1c-4c8c-f9fb-bcff1e6b5673"
      },
      "source": [
        "model.intercept_"
      ],
      "execution_count": 7,
      "outputs": [
        {
          "output_type": "execute_result",
          "data": {
            "text/plain": [
              "array([-0.1992979])"
            ]
          },
          "metadata": {},
          "execution_count": 7
        }
      ]
    },
    {
      "cell_type": "code",
      "metadata": {
        "id": "Q3po7Mq1ympn",
        "colab": {
          "base_uri": "https://localhost:8080/"
        },
        "outputId": "c0c964a8-bb63-45be-ad19-cf9a85874718"
      },
      "source": [
        "model.coef_"
      ],
      "execution_count": 8,
      "outputs": [
        {
          "output_type": "execute_result",
          "data": {
            "text/plain": [
              "array([[ 0.37096736,  0.41051466,  0.35046564,  0.46768724,  0.25240315,\n",
              "        -0.71820671,  0.84742235,  0.84227137, -0.1670077 , -0.2488281 ,\n",
              "         1.28547044, -0.16042844,  0.65688025,  1.00746061,  0.17569625,\n",
              "        -0.58372272, -0.13336591,  0.27870888, -0.36638299, -0.45579971,\n",
              "         0.92635364,  1.22842328,  0.74646489,  0.96541038,  0.71827683,\n",
              "        -0.12267536,  0.80842499,  0.98835978,  1.06163438,  0.11583561]])"
            ]
          },
          "metadata": {},
          "execution_count": 8
        }
      ]
    },
    {
      "cell_type": "code",
      "metadata": {
        "id": "wAORL7vIWq3D",
        "colab": {
          "base_uri": "https://localhost:8080/",
          "height": 1000
        },
        "outputId": "e424801b-862d-4ecd-dc63-0a4b9c2af521"
      },
      "source": [
        "#데이터 결정에 따른 beta, exp(beta) 체크\n",
        "column_name = ['const'] + breast_cancer.feature_names.tolist()\n",
        "beta = np.concatenate([model.intercept_,model.coef_.reshape(-1)]).round(2) # constant를 하나로 합치고 소수점 2째자리까지 반올림\n",
        "odds = np.exp(beta).round(2)\n",
        "interpret = np.where(beta>0, 'risky', 'protective')\n",
        "\n",
        "#beta 해석 정리\n",
        "beta_analysis = pd.DataFrame(np.c_[beta, odds, interpret], index=column_name, columns=['beta', 'odds', 'interpret'])\n",
        "beta_analysis"
      ],
      "execution_count": 9,
      "outputs": [
        {
          "output_type": "execute_result",
          "data": {
            "text/html": [
              "<div>\n",
              "<style scoped>\n",
              "    .dataframe tbody tr th:only-of-type {\n",
              "        vertical-align: middle;\n",
              "    }\n",
              "\n",
              "    .dataframe tbody tr th {\n",
              "        vertical-align: top;\n",
              "    }\n",
              "\n",
              "    .dataframe thead th {\n",
              "        text-align: right;\n",
              "    }\n",
              "</style>\n",
              "<table border=\"1\" class=\"dataframe\">\n",
              "  <thead>\n",
              "    <tr style=\"text-align: right;\">\n",
              "      <th></th>\n",
              "      <th>beta</th>\n",
              "      <th>odds</th>\n",
              "      <th>interpret</th>\n",
              "    </tr>\n",
              "  </thead>\n",
              "  <tbody>\n",
              "    <tr>\n",
              "      <th>const</th>\n",
              "      <td>-0.2</td>\n",
              "      <td>0.82</td>\n",
              "      <td>protective</td>\n",
              "    </tr>\n",
              "    <tr>\n",
              "      <th>mean radius</th>\n",
              "      <td>0.37</td>\n",
              "      <td>1.45</td>\n",
              "      <td>risky</td>\n",
              "    </tr>\n",
              "    <tr>\n",
              "      <th>mean texture</th>\n",
              "      <td>0.41</td>\n",
              "      <td>1.51</td>\n",
              "      <td>risky</td>\n",
              "    </tr>\n",
              "    <tr>\n",
              "      <th>mean perimeter</th>\n",
              "      <td>0.35</td>\n",
              "      <td>1.42</td>\n",
              "      <td>risky</td>\n",
              "    </tr>\n",
              "    <tr>\n",
              "      <th>mean area</th>\n",
              "      <td>0.47</td>\n",
              "      <td>1.6</td>\n",
              "      <td>risky</td>\n",
              "    </tr>\n",
              "    <tr>\n",
              "      <th>mean smoothness</th>\n",
              "      <td>0.25</td>\n",
              "      <td>1.28</td>\n",
              "      <td>risky</td>\n",
              "    </tr>\n",
              "    <tr>\n",
              "      <th>mean compactness</th>\n",
              "      <td>-0.72</td>\n",
              "      <td>0.49</td>\n",
              "      <td>protective</td>\n",
              "    </tr>\n",
              "    <tr>\n",
              "      <th>mean concavity</th>\n",
              "      <td>0.85</td>\n",
              "      <td>2.34</td>\n",
              "      <td>risky</td>\n",
              "    </tr>\n",
              "    <tr>\n",
              "      <th>mean concave points</th>\n",
              "      <td>0.84</td>\n",
              "      <td>2.32</td>\n",
              "      <td>risky</td>\n",
              "    </tr>\n",
              "    <tr>\n",
              "      <th>mean symmetry</th>\n",
              "      <td>-0.17</td>\n",
              "      <td>0.84</td>\n",
              "      <td>protective</td>\n",
              "    </tr>\n",
              "    <tr>\n",
              "      <th>mean fractal dimension</th>\n",
              "      <td>-0.25</td>\n",
              "      <td>0.78</td>\n",
              "      <td>protective</td>\n",
              "    </tr>\n",
              "    <tr>\n",
              "      <th>radius error</th>\n",
              "      <td>1.29</td>\n",
              "      <td>3.63</td>\n",
              "      <td>risky</td>\n",
              "    </tr>\n",
              "    <tr>\n",
              "      <th>texture error</th>\n",
              "      <td>-0.16</td>\n",
              "      <td>0.85</td>\n",
              "      <td>protective</td>\n",
              "    </tr>\n",
              "    <tr>\n",
              "      <th>perimeter error</th>\n",
              "      <td>0.66</td>\n",
              "      <td>1.93</td>\n",
              "      <td>risky</td>\n",
              "    </tr>\n",
              "    <tr>\n",
              "      <th>area error</th>\n",
              "      <td>1.01</td>\n",
              "      <td>2.75</td>\n",
              "      <td>risky</td>\n",
              "    </tr>\n",
              "    <tr>\n",
              "      <th>smoothness error</th>\n",
              "      <td>0.18</td>\n",
              "      <td>1.2</td>\n",
              "      <td>risky</td>\n",
              "    </tr>\n",
              "    <tr>\n",
              "      <th>compactness error</th>\n",
              "      <td>-0.58</td>\n",
              "      <td>0.56</td>\n",
              "      <td>protective</td>\n",
              "    </tr>\n",
              "    <tr>\n",
              "      <th>concavity error</th>\n",
              "      <td>-0.13</td>\n",
              "      <td>0.88</td>\n",
              "      <td>protective</td>\n",
              "    </tr>\n",
              "    <tr>\n",
              "      <th>concave points error</th>\n",
              "      <td>0.28</td>\n",
              "      <td>1.32</td>\n",
              "      <td>risky</td>\n",
              "    </tr>\n",
              "    <tr>\n",
              "      <th>symmetry error</th>\n",
              "      <td>-0.37</td>\n",
              "      <td>0.69</td>\n",
              "      <td>protective</td>\n",
              "    </tr>\n",
              "    <tr>\n",
              "      <th>fractal dimension error</th>\n",
              "      <td>-0.46</td>\n",
              "      <td>0.63</td>\n",
              "      <td>protective</td>\n",
              "    </tr>\n",
              "    <tr>\n",
              "      <th>worst radius</th>\n",
              "      <td>0.93</td>\n",
              "      <td>2.53</td>\n",
              "      <td>risky</td>\n",
              "    </tr>\n",
              "    <tr>\n",
              "      <th>worst texture</th>\n",
              "      <td>1.23</td>\n",
              "      <td>3.42</td>\n",
              "      <td>risky</td>\n",
              "    </tr>\n",
              "    <tr>\n",
              "      <th>worst perimeter</th>\n",
              "      <td>0.75</td>\n",
              "      <td>2.12</td>\n",
              "      <td>risky</td>\n",
              "    </tr>\n",
              "    <tr>\n",
              "      <th>worst area</th>\n",
              "      <td>0.97</td>\n",
              "      <td>2.64</td>\n",
              "      <td>risky</td>\n",
              "    </tr>\n",
              "    <tr>\n",
              "      <th>worst smoothness</th>\n",
              "      <td>0.72</td>\n",
              "      <td>2.05</td>\n",
              "      <td>risky</td>\n",
              "    </tr>\n",
              "    <tr>\n",
              "      <th>worst compactness</th>\n",
              "      <td>-0.12</td>\n",
              "      <td>0.89</td>\n",
              "      <td>protective</td>\n",
              "    </tr>\n",
              "    <tr>\n",
              "      <th>worst concavity</th>\n",
              "      <td>0.81</td>\n",
              "      <td>2.25</td>\n",
              "      <td>risky</td>\n",
              "    </tr>\n",
              "    <tr>\n",
              "      <th>worst concave points</th>\n",
              "      <td>0.99</td>\n",
              "      <td>2.69</td>\n",
              "      <td>risky</td>\n",
              "    </tr>\n",
              "    <tr>\n",
              "      <th>worst symmetry</th>\n",
              "      <td>1.06</td>\n",
              "      <td>2.89</td>\n",
              "      <td>risky</td>\n",
              "    </tr>\n",
              "    <tr>\n",
              "      <th>worst fractal dimension</th>\n",
              "      <td>0.12</td>\n",
              "      <td>1.13</td>\n",
              "      <td>risky</td>\n",
              "    </tr>\n",
              "  </tbody>\n",
              "</table>\n",
              "</div>"
            ],
            "text/plain": [
              "                          beta  odds   interpret\n",
              "const                     -0.2  0.82  protective\n",
              "mean radius               0.37  1.45       risky\n",
              "mean texture              0.41  1.51       risky\n",
              "mean perimeter            0.35  1.42       risky\n",
              "mean area                 0.47   1.6       risky\n",
              "mean smoothness           0.25  1.28       risky\n",
              "mean compactness         -0.72  0.49  protective\n",
              "mean concavity            0.85  2.34       risky\n",
              "mean concave points       0.84  2.32       risky\n",
              "mean symmetry            -0.17  0.84  protective\n",
              "mean fractal dimension   -0.25  0.78  protective\n",
              "radius error              1.29  3.63       risky\n",
              "texture error            -0.16  0.85  protective\n",
              "perimeter error           0.66  1.93       risky\n",
              "area error                1.01  2.75       risky\n",
              "smoothness error          0.18   1.2       risky\n",
              "compactness error        -0.58  0.56  protective\n",
              "concavity error          -0.13  0.88  protective\n",
              "concave points error      0.28  1.32       risky\n",
              "symmetry error           -0.37  0.69  protective\n",
              "fractal dimension error  -0.46  0.63  protective\n",
              "worst radius              0.93  2.53       risky\n",
              "worst texture             1.23  3.42       risky\n",
              "worst perimeter           0.75  2.12       risky\n",
              "worst area                0.97  2.64       risky\n",
              "worst smoothness          0.72  2.05       risky\n",
              "worst compactness        -0.12  0.89  protective\n",
              "worst concavity           0.81  2.25       risky\n",
              "worst concave points      0.99  2.69       risky\n",
              "worst symmetry            1.06  2.89       risky\n",
              "worst fractal dimension   0.12  1.13       risky"
            ]
          },
          "metadata": {},
          "execution_count": 9
        }
      ]
    },
    {
      "cell_type": "markdown",
      "metadata": {
        "id": "QI33p2ERNc0D"
      },
      "source": [
        "###4.3 test data 예측\n",
        "\n",
        "$logit = log(odds) = log(\\frac{P(Y=1)}{1-P(Y=1)}) = \\beta_0 + \\sum_{k=1}^{30} \\beta_kX_k = \\beta^TX$\n",
        "<br><br>$\\qquad\\qquad\\qquad\\qquad\\qquad\\qquad↓$<br><br>\n",
        "\n",
        "$Odds = exp(\\beta^TX) --- P(Y=1) = \\frac{1}{1+exp(-\\beta^TX)}$\n",
        "<br>$\\qquad\\qquad\\qquad\\qquad\\quad|$\n",
        "<br>$ \\qquad\\qquad\\qquad\\qquad\\quad-- P(Y=0) =\\frac{exp(-\\beta^TX)}{1+exp(-\\beta^TX)}$\n",
        "\n",
        "<br><br>\n",
        "X_test에 대한 P(Y=0) 예측 확률값 & P(Y=1) 예측 확률값\n",
        "\n",
        "\n",
        "1.   패키지 이용\n",
        "2.   직접 계산\n"
      ]
    },
    {
      "cell_type": "code",
      "metadata": {
        "id": "jPYI2uMsNVs7",
        "colab": {
          "base_uri": "https://localhost:8080/"
        },
        "outputId": "6dd2f3b0-0c93-4c68-c95c-ad5dcf02106c"
      },
      "source": [
        "#1 패키지 이용\n",
        "model.predict_proba(X_test)"
      ],
      "execution_count": 10,
      "outputs": [
        {
          "output_type": "execute_result",
          "data": {
            "text/plain": [
              "array([[9.99079810e-01, 9.20189939e-04],\n",
              "       [9.99665075e-01, 3.34924593e-04],\n",
              "       [9.89958108e-01, 1.00418922e-02],\n",
              "       [5.55111512e-15, 1.00000000e+00],\n",
              "       [9.99971711e-01, 2.82888774e-05],\n",
              "       [1.24470421e-01, 8.75529579e-01],\n",
              "       [4.73083652e-07, 9.99999527e-01],\n",
              "       [9.99540458e-01, 4.59541812e-04],\n",
              "       [1.22424152e-05, 9.99987758e-01],\n",
              "       [9.99983815e-01, 1.61852055e-05],\n",
              "       [9.99998240e-01, 1.76025449e-06],\n",
              "       [1.13373618e-05, 9.99988663e-01],\n",
              "       [9.91106647e-01, 8.89335302e-03],\n",
              "       [2.24620793e-04, 9.99775379e-01],\n",
              "       [9.94867605e-01, 5.13239489e-03],\n",
              "       [9.98909246e-01, 1.09075375e-03],\n",
              "       [9.34789989e-01, 6.52100106e-02],\n",
              "       [9.99942280e-01, 5.77201249e-05],\n",
              "       [9.99888432e-01, 1.11567748e-04],\n",
              "       [1.78352668e-03, 9.98216473e-01],\n",
              "       [9.41513106e-01, 5.84868943e-02],\n",
              "       [9.73689474e-01, 2.63105264e-02],\n",
              "       [1.20167140e-03, 9.98798329e-01],\n",
              "       [9.92033300e-01, 7.96670020e-03],\n",
              "       [9.99322350e-01, 6.77649607e-04],\n",
              "       [9.99264141e-01, 7.35859423e-04],\n",
              "       [9.99550393e-01, 4.49607028e-04],\n",
              "       [9.99999841e-01, 1.58626529e-07],\n",
              "       [3.02348859e-02, 9.69765114e-01],\n",
              "       [5.41686989e-01, 4.58313011e-01],\n",
              "       [9.99818148e-01, 1.81851609e-04],\n",
              "       [9.99831655e-01, 1.68344970e-04],\n",
              "       [9.90951844e-01, 9.04815609e-03],\n",
              "       [9.99927695e-01, 7.23049619e-05],\n",
              "       [1.11955134e-09, 9.99999999e-01],\n",
              "       [6.73035788e-08, 9.99999933e-01],\n",
              "       [9.99906165e-01, 9.38351764e-05],\n",
              "       [1.83370151e-08, 9.99999982e-01],\n",
              "       [5.67627210e-04, 9.99432373e-01],\n",
              "       [9.99885906e-01, 1.14093670e-04],\n",
              "       [9.99709749e-01, 2.90250734e-04],\n",
              "       [9.64140182e-01, 3.58598180e-02],\n",
              "       [8.90024598e-01, 1.09975402e-01],\n",
              "       [6.45221485e-01, 3.54778515e-01],\n",
              "       [9.96485340e-01, 3.51465954e-03],\n",
              "       [8.20815698e-01, 1.79184302e-01],\n",
              "       [8.77241864e-06, 9.99991228e-01],\n",
              "       [9.91552913e-01, 8.44708716e-03],\n",
              "       [9.99389168e-01, 6.10832133e-04],\n",
              "       [9.99987741e-01, 1.22587033e-05],\n",
              "       [9.89969404e-01, 1.00305964e-02],\n",
              "       [4.78185914e-07, 9.99999522e-01],\n",
              "       [8.66819405e-01, 1.33180595e-01],\n",
              "       [1.48066377e-05, 9.99985193e-01],\n",
              "       [9.55129535e-01, 4.48704653e-02],\n",
              "       [9.98037303e-01, 1.96269672e-03],\n",
              "       [1.39083574e-03, 9.98609164e-01],\n",
              "       [3.07544656e-10, 1.00000000e+00],\n",
              "       [2.86967402e-03, 9.97130326e-01],\n",
              "       [9.98698624e-01, 1.30137555e-03],\n",
              "       [9.99375644e-01, 6.24356323e-04],\n",
              "       [2.23194513e-03, 9.97768055e-01],\n",
              "       [1.36199980e-05, 9.99986380e-01],\n",
              "       [9.99937090e-01, 6.29096922e-05],\n",
              "       [6.78528103e-02, 9.32147190e-01],\n",
              "       [9.89666026e-01, 1.03339738e-02],\n",
              "       [9.98191356e-01, 1.80864356e-03],\n",
              "       [3.16218588e-04, 9.99683781e-01],\n",
              "       [8.56224948e-01, 1.43775052e-01],\n",
              "       [9.99973733e-01, 2.62665793e-05],\n",
              "       [2.17785423e-01, 7.82214577e-01],\n",
              "       [2.49298609e-05, 9.99975070e-01],\n",
              "       [9.40742738e-01, 5.92572621e-02],\n",
              "       [8.80395301e-04, 9.99119605e-01],\n",
              "       [9.18924641e-01, 8.10753589e-02],\n",
              "       [9.79084090e-04, 9.99020916e-01],\n",
              "       [9.91509306e-01, 8.49069448e-03],\n",
              "       [5.91663910e-01, 4.08336090e-01],\n",
              "       [9.34311709e-01, 6.56882905e-02],\n",
              "       [2.71703196e-02, 9.72829680e-01],\n",
              "       [1.21214386e-08, 9.99999988e-01],\n",
              "       [4.50359144e-01, 5.49640856e-01],\n",
              "       [9.88940767e-01, 1.10592332e-02],\n",
              "       [9.99291205e-01, 7.08794760e-04],\n",
              "       [9.92884471e-01, 7.11552950e-03],\n",
              "       [9.94909008e-01, 5.09099209e-03],\n",
              "       [4.84964001e-08, 9.99999952e-01],\n",
              "       [9.84769558e-01, 1.52304417e-02],\n",
              "       [9.99912729e-01, 8.72706278e-05],\n",
              "       [9.99876638e-01, 1.23361631e-04],\n",
              "       [8.33970210e-01, 1.66029790e-01],\n",
              "       [9.81734525e-01, 1.82654754e-02],\n",
              "       [9.99883758e-01, 1.16242205e-04],\n",
              "       [9.99990633e-01, 9.36676018e-06],\n",
              "       [6.84802875e-06, 9.99993152e-01],\n",
              "       [9.67609736e-01, 3.23902640e-02],\n",
              "       [6.43929354e-15, 1.00000000e+00],\n",
              "       [9.99982898e-01, 1.71018327e-05],\n",
              "       [2.78096186e-06, 9.99997219e-01],\n",
              "       [2.73492273e-02, 9.72650773e-01],\n",
              "       [9.98144023e-01, 1.85597651e-03],\n",
              "       [2.52915834e-07, 9.99999747e-01],\n",
              "       [9.83698700e-01, 1.63013000e-02],\n",
              "       [9.99929889e-01, 7.01110479e-05],\n",
              "       [4.48492377e-09, 9.99999996e-01],\n",
              "       [1.64836355e-03, 9.98351636e-01],\n",
              "       [9.99970800e-01, 2.91997700e-05],\n",
              "       [5.01574498e-06, 9.99994984e-01],\n",
              "       [3.46818618e-01, 6.53181382e-01],\n",
              "       [9.99900680e-01, 9.93199639e-05],\n",
              "       [9.99911404e-01, 8.85958639e-05],\n",
              "       [9.87092293e-01, 1.29077068e-02],\n",
              "       [2.98419592e-03, 9.97015804e-01],\n",
              "       [9.99809008e-01, 1.90992178e-04]])"
            ]
          },
          "metadata": {},
          "execution_count": 10
        }
      ]
    },
    {
      "cell_type": "code",
      "metadata": {
        "id": "zAOBEax12uw0"
      },
      "source": [
        ""
      ],
      "execution_count": 10,
      "outputs": []
    },
    {
      "cell_type": "code",
      "metadata": {
        "id": "7wZ_-X0l2vMT"
      },
      "source": [
        "#2 직접계산\n",
        "\n",
        "##1. beta*X\n",
        "Xbeta = np.matmul(np.c_[np.ones(X_test.shape[0]), X_test], beta.reshape(-1,1))\n",
        "##2. P(Y=1)\n",
        "P_1 = 1/(1+np.exp(-Xbeta))"
      ],
      "execution_count": 11,
      "outputs": []
    },
    {
      "cell_type": "code",
      "metadata": {
        "id": "RJKlYcdIfhZH",
        "colab": {
          "base_uri": "https://localhost:8080/",
          "height": 417
        },
        "outputId": "6ee642e7-effb-45ce-b9d1-0f328017719c"
      },
      "source": [
        "# 1&2 비교\n",
        "pd.DataFrame(np.concatenate([P_1, model.predict_proba(X_test)[:,1].reshape(-1,1)], axis=1), columns = ['직접 계산', '패키지 이용'])"
      ],
      "execution_count": 12,
      "outputs": [
        {
          "output_type": "execute_result",
          "data": {
            "text/html": [
              "<div>\n",
              "<style scoped>\n",
              "    .dataframe tbody tr th:only-of-type {\n",
              "        vertical-align: middle;\n",
              "    }\n",
              "\n",
              "    .dataframe tbody tr th {\n",
              "        vertical-align: top;\n",
              "    }\n",
              "\n",
              "    .dataframe thead th {\n",
              "        text-align: right;\n",
              "    }\n",
              "</style>\n",
              "<table border=\"1\" class=\"dataframe\">\n",
              "  <thead>\n",
              "    <tr style=\"text-align: right;\">\n",
              "      <th></th>\n",
              "      <th>직접 계산</th>\n",
              "      <th>패키지 이용</th>\n",
              "    </tr>\n",
              "  </thead>\n",
              "  <tbody>\n",
              "    <tr>\n",
              "      <th>0</th>\n",
              "      <td>0.000903</td>\n",
              "      <td>0.000920</td>\n",
              "    </tr>\n",
              "    <tr>\n",
              "      <th>1</th>\n",
              "      <td>0.000330</td>\n",
              "      <td>0.000335</td>\n",
              "    </tr>\n",
              "    <tr>\n",
              "      <th>2</th>\n",
              "      <td>0.009805</td>\n",
              "      <td>0.010042</td>\n",
              "    </tr>\n",
              "    <tr>\n",
              "      <th>3</th>\n",
              "      <td>1.000000</td>\n",
              "      <td>1.000000</td>\n",
              "    </tr>\n",
              "    <tr>\n",
              "      <th>4</th>\n",
              "      <td>0.000027</td>\n",
              "      <td>0.000028</td>\n",
              "    </tr>\n",
              "    <tr>\n",
              "      <th>...</th>\n",
              "      <td>...</td>\n",
              "      <td>...</td>\n",
              "    </tr>\n",
              "    <tr>\n",
              "      <th>109</th>\n",
              "      <td>0.000096</td>\n",
              "      <td>0.000099</td>\n",
              "    </tr>\n",
              "    <tr>\n",
              "      <th>110</th>\n",
              "      <td>0.000086</td>\n",
              "      <td>0.000089</td>\n",
              "    </tr>\n",
              "    <tr>\n",
              "      <th>111</th>\n",
              "      <td>0.012833</td>\n",
              "      <td>0.012908</td>\n",
              "    </tr>\n",
              "    <tr>\n",
              "      <th>112</th>\n",
              "      <td>0.997022</td>\n",
              "      <td>0.997016</td>\n",
              "    </tr>\n",
              "    <tr>\n",
              "      <th>113</th>\n",
              "      <td>0.000189</td>\n",
              "      <td>0.000191</td>\n",
              "    </tr>\n",
              "  </tbody>\n",
              "</table>\n",
              "<p>114 rows × 2 columns</p>\n",
              "</div>"
            ],
            "text/plain": [
              "        직접 계산    패키지 이용\n",
              "0    0.000903  0.000920\n",
              "1    0.000330  0.000335\n",
              "2    0.009805  0.010042\n",
              "3    1.000000  1.000000\n",
              "4    0.000027  0.000028\n",
              "..        ...       ...\n",
              "109  0.000096  0.000099\n",
              "110  0.000086  0.000089\n",
              "111  0.012833  0.012908\n",
              "112  0.997022  0.997016\n",
              "113  0.000189  0.000191\n",
              "\n",
              "[114 rows x 2 columns]"
            ]
          },
          "metadata": {},
          "execution_count": 12
        }
      ]
    },
    {
      "cell_type": "markdown",
      "metadata": {
        "id": "tvOmk6Q5PAEA"
      },
      "source": [
        "###4.4 성능 평가\n",
        "1.   cut off 값에 따른 혼동행렬 관찰\n",
        "2.   Roc curve 그리기\n",
        "\n",
        "**분류/예측 모델의 유용성 측정 방법, ROC(Receiver Operating Characteristic) Curve 란?**\n",
        "민감도와 특이도를 바탕으로 검사방법의 유용성이나 검사법의 기준치(Cut-off value)를 결정하기 위한 분석기법(모델 성능 평가 기법)\n",
        "\n",
        "-------------------------------------------------------------\n",
        "![roc2.PNG](data:image/png;base64,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)![roc1.PNG](data:image/png;base64,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)\n"
      ]
    },
    {
      "cell_type": "markdown",
      "metadata": {
        "id": "C07Sg2Qz4u5i"
      },
      "source": [
        "####4.4.1 cut off값에 따른 혼동행렬 관찰\n",
        "\n",
        "Test data → Logistic Regression Model → P(Y=malignant) → 유방암 확진 or not\n",
        "\n",
        "|혼돈행렬|예측Y=1|예측Y=0|\n",
        "|:--------|-----------|-----------|\n",
        "|실제Y=1|TP|FN|\n",
        "|실제Y=0|FP|TN|\n",
        "\n",
        "\n",
        "<br>\n",
        "*   정확도 = $\\frac{TP+TN}{TP+FN+FP+TN}$<br>\n",
        "*   민감도 = $\\frac{TP}{TP+FN}$<br>\n",
        "*   정밀도 = $\\frac{TP}{TP+FP}$\n",
        "\n",
        "\n",
        "\n",
        "\n",
        "\n"
      ]
    },
    {
      "cell_type": "code",
      "metadata": {
        "id": "S_QRImarO_rU",
        "colab": {
          "base_uri": "https://localhost:8080/"
        },
        "outputId": "63537f76-afcc-451f-c832-56155d3e707e"
      },
      "source": [
        "Cut_off = np.linspace(0.01, 0.99, 10)\n",
        "for cut_off in Cut_off:\n",
        "  y_pred = np.where(P_1.reshape(-1)>=cut_off,1,0)\n",
        "  acc = accuracy_score(y_true = y_test, y_pred = y_pred)\n",
        "  recall = recall_score(y_true = y_test, y_pred = y_pred)\n",
        "  precision = precision_score(y_true = y_test, y_pred = y_pred)\n",
        "\n",
        "  print(f\"정확도:{acc:0.2f}\", f\"민감도:{recall:0.2f}\", f\"정밀도:{precision:0.2f}\", f\"cut off:{cut_off:0.2f}\", sep='  |  ')"
      ],
      "execution_count": 13,
      "outputs": [
        {
          "output_type": "stream",
          "name": "stdout",
          "text": [
            "정확도:0.81  |  민감도:1.00  |  정밀도:0.66  |  cut off:0.01\n",
            "정확도:0.93  |  민감도:0.98  |  정밀도:0.85  |  cut off:0.12\n",
            "정확도:0.96  |  민감도:0.98  |  정밀도:0.93  |  cut off:0.23\n",
            "정확도:0.96  |  민감도:0.98  |  정밀도:0.93  |  cut off:0.34\n",
            "정확도:0.98  |  민감도:0.98  |  정밀도:0.98  |  cut off:0.45\n",
            "정확도:0.98  |  민감도:0.95  |  정밀도:1.00  |  cut off:0.55\n",
            "정확도:0.97  |  민감도:0.93  |  정밀도:1.00  |  cut off:0.66\n",
            "정확도:0.97  |  민감도:0.93  |  정밀도:1.00  |  cut off:0.77\n",
            "정확도:0.96  |  민감도:0.88  |  정밀도:1.00  |  cut off:0.88\n",
            "정확도:0.92  |  민감도:0.79  |  정밀도:1.00  |  cut off:0.99\n"
          ]
        }
      ]
    },
    {
      "cell_type": "markdown",
      "metadata": {
        "id": "qYdyOoIXA_Hg"
      },
      "source": [
        "####4.4.2 Roc curve 그리기"
      ]
    },
    {
      "cell_type": "code",
      "metadata": {
        "id": "csv4Zw2Jrewq",
        "colab": {
          "base_uri": "https://localhost:8080/",
          "height": 671
        },
        "outputId": "6d4ac684-1220-4091-f289-ee7328afd115"
      },
      "source": [
        "#X_test에 대한 예측확률 - 패키지 이용\n",
        "probs = model.predict_proba(X_test)[:,1]  #두번째 column indexing\n",
        "\n",
        "# Roc curve X축, Y축\n",
        "model_fpr, model_tpr, threshold1 = roc_curve(y_test, probs)\n",
        "random_fpr, random_tpr, threshold2 = roc_curve(y_test, [0 for i in range(X_test.__len__())])\n",
        "\n",
        "# plot the roc curve for the model and random\n",
        "plt.figure(figsize=(10,10))\n",
        "plt.plot(model_fpr, model_tpr, marker='.', label = 'Logistic')\n",
        "plt.plot(random_fpr, random_tpr, linestyle='--', label = 'Random')\n",
        "\n",
        "# axis label\n",
        "plt.xlabel('FP rate', size=20)\n",
        "plt.ylabel('TP rate', size=20)\n",
        "\n",
        "# show the legend\n",
        "plt.legend(fontsize=20)\n",
        "\n",
        "#show the plot\n",
        "plt.title('Roc curve', size=20)\n",
        "plt.show()"
      ],
      "execution_count": 14,
      "outputs": [
        {
          "output_type": "stream",
          "name": "stderr",
          "text": [
            "findfont: Font family ['Malgun Gothic'] not found. Falling back to DejaVu Sans.\n",
            "findfont: Font family ['Malgun Gothic'] not found. Falling back to DejaVu Sans.\n"
          ]
        },
        {
          "output_type": "display_data",
          "data": {
            "image/png": "[encoded data removed]",
            "text/plain": [
              "<Figure size 720x720 with 1 Axes>"
            ]
          },
          "metadata": {
            "needs_background": "light"
          }
        }
      ]
    },
    {
      "cell_type": "markdown",
      "metadata": {
        "id": "a479FCfgV810"
      },
      "source": [
        "EOD"
      ]
    }
  ]
}