{
  "nbformat": 4,
  "nbformat_minor": 0,
  "metadata": {
    "colab": {
      "name": "Linear regression 실습",
      "provenance": [],
      "toc_visible": true,
      "authorship_tag": "ABX9TyNcBfO4g22+IWmb+nBhmUqd",
      "include_colab_link": true
    },
    "kernelspec": {
      "name": "python3",
      "display_name": "Python 3"
    },
    "language_info": {
      "name": "python"
    },
    "accelerator": "GPU"
  },
  "cells": [
    {
      "cell_type": "markdown",
      "metadata": {
        "id": "view-in-github",
        "colab_type": "text"
      },
      "source": [
        "<a href=\"https://colab.research.google.com/github/BR-Lab/ML-algorithm/blob/main/Linear_regression_%EC%8B%A4%EC%8A%B5.ipynb\" target=\"_parent\"><img src=\"https://colab.research.google.com/assets/colab-badge.svg\" alt=\"Open In Colab\"/></a>"
      ]
    },
    {
      "cell_type": "markdown",
      "metadata": {
        "id": "jMzCpQTbUn5-"
      },
      "source": [
        "# Linear Regression 실습"
      ]
    },
    {
      "cell_type": "markdown",
      "metadata": {
        "id": "1-9FmO0rU3oj"
      },
      "source": [
        "## 0.Introduction"
      ]
    },
    {
      "cell_type": "markdown",
      "metadata": {
        "id": "140OIsszmbGk"
      },
      "source": [
        "분석 모델\n",
        "$$\\qquad\\qquad\\qquad\\qquad대중교통수\\qquad\\qquad쇼핑시설 수$$\n",
        "$$Y = \\beta_0 + \\beta_1X_1 + \\beta_2X_2 + \\beta_3X_3 + ... + \\beta_pX_p$$\n",
        "$$부동산 가격\\qquad인근 학교 수\\qquad\\quad쇼핑시설 수\\qquad\\qquad\\qquad$$  \n",
        "<br>\n",
        " \n",
        "\n",
        "*   각 변수에 따른 $\\beta$ 값들을 예측하고 p-value로 각 변수들이 유효한지에 대한 통계 검증.\n",
        "*   새로운 input값을 통한 predicted value 도출.\n",
        "\n",
        "<br><br>\n",
        "분석 패키지\n",
        "*   확률오차 확인과 예측 값의 오류에 대해서는 statModels 사용\n",
        "> 보통 sklearn(data 분석능력이 보다 우수)을 사용하지만 statModels의 경우 검정통계 등 검증된 통계 및 계량 도구를 제공.<br>\n",
        "다양한 선형 회귀 모델, 혼합 선형 모델, 회귀 분석이 필요한 경우 불연속 종속 변수에 대한 옵션이 더 풍부하기 때문에 linear regression에서는 statModels 사용해 분석\n",
        "\n",
        "<br><br>\n",
        "[정규성, 등분산성 등의 필요성 정리된 github](https://https://yoongaemii.github.io/working_posts/2020-05-15/)\n"
      ]
    },
    {
      "cell_type": "markdown",
      "metadata": {
        "id": "ZQMChPo5U7K4"
      },
      "source": [
        "## 1.import module"
      ]
    },
    {
      "cell_type": "code",
      "metadata": {
        "colab": {
          "base_uri": "https://localhost:8080/"
        },
        "id": "p8l9TeqsXKgq",
        "outputId": "27f627bc-49a2-4de3-f5e8-3e458cd2c588"
      },
      "source": [
        "#!pip install sklearn\n",
        "\n",
        "#Boston Housing Price 데이터 패키지\n",
        "from sklearn.datasets import load_boston\n",
        "\n",
        "#데이터 전처리 패키지\n",
        "import numpy as np\n",
        "import pandas as pd\n",
        "\n",
        "#ML model 구축 및 평가 패키지\n",
        "import scipy as sp\n",
        "import scipy.stats as stats\n",
        "\n",
        "import statsmodels.api as sm\n",
        "from statsmodels.formula.api import ols\n",
        "\n",
        "from sklearn.model_selection import train_test_split\n",
        "from sklearn.metrics import mean_squared_error, r2_score, mean_absolute_error\n",
        "\n",
        "#데이터 시각화 패키지\n",
        "import seaborn as sns\n",
        "import matplotlib.pyplot as plt\n",
        "import matplotlib.font_manager as fgm\n",
        "\n",
        "#한글 폰트 설정\n",
        "plt.rc('font', family = 'Malgun Gothic')"
      ],
      "execution_count": null,
      "outputs": [
        {
          "output_type": "stream",
          "text": [
            "/usr/local/lib/python3.7/dist-packages/statsmodels/tools/_testing.py:19: FutureWarning: pandas.util.testing is deprecated. Use the functions in the public API at pandas.testing instead.\n",
            "  import pandas.util.testing as tm\n"
          ],
          "name": "stderr"
        }
      ]
    },
    {
      "cell_type": "markdown",
      "metadata": {
        "id": "ffqOisVlVHBH"
      },
      "source": [
        "## 2.데이터 불러오기"
      ]
    },
    {
      "cell_type": "markdown",
      "metadata": {
        "id": "UEp-lknkm3Rk"
      },
      "source": [
        "###2.1 data description\n",
        "\n",
        "1. 데이터 구조\n",
        "\n",
        "\n",
        "*   데이터 : 1978년 보스턴 주택 가격\n",
        "*   관측치 개수: 506개\n",
        "*   변수 개수: 14개(설명번수:13개, 반응변수:1개)\n",
        "\n",
        "2. 설명변수  \n",
        "\n",
        "\n",
        "|변수 명|설명|\n",
        "|:--------|-----------|\n",
        "| CRIM |자치시(town) 별 1인당 범죄율  |\n",
        "|ZN| 25,000 평방피트를 초과하는 거주지역의 비율|\n",
        "|  INDUS| 비소매상업지역이 점유하고 있는 토지의 비율|\n",
        "|CHAS| 찰스강에 대한 더미변수(강의 경계에 위치한 경우는 1, 아니면 0)|\n",
        "|  NOX| 10ppm 당 농축 일산화질소|\n",
        "| RM| 주택 1가구당 평균 방의 개수|\n",
        "|  AGE| 1940년 이전에 건축된 소유주택의 비율|\n",
        "|  DIS| 5개의 보스턴 직업센터까지의 접근성 지수|\n",
        "|RAD| 방사형 도로까지의 접근성 지수|\n",
        "|TAX| 10,000 달러 당 재산세율|  \n",
        "|PTRATIO| 자치시(town)별 학생/교사 비율|\n",
        "|B| 1000(Bk-0.63)^2, 여기서 Bk는 자치시별 흑인의 비율을 말함.| \n",
        "|LSTAT| 모집단의 하위계층의 비율(%)|\n",
        "\n",
        "3. 반응변수(결과값)\n",
        "\n",
        "|변수 명|설명|\n",
        "|:--------|-----------|\n",
        "|  MEDV| 본인 소유의 주택가격(중앙값) (단위: $1,000)|\n"
      ]
    },
    {
      "cell_type": "code",
      "metadata": {
        "colab": {
          "base_uri": "https://localhost:8080/"
        },
        "id": "gjfFH-cqVA0a",
        "outputId": "7987f47f-d1a8-481e-a56f-a02ba4e30ca1"
      },
      "source": [
        "boston = load_boston()\n",
        "print(boston.DESCR)"
      ],
      "execution_count": null,
      "outputs": [
        {
          "output_type": "stream",
          "text": [
            ".. _boston_dataset:\n",
            "\n",
            "Boston house prices dataset\n",
            "---------------------------\n",
            "\n",
            "**Data Set Characteristics:**  \n",
            "\n",
            "    :Number of Instances: 506 \n",
            "\n",
            "    :Number of Attributes: 13 numeric/categorical predictive. Median Value (attribute 14) is usually the target.\n",
            "\n",
            "    :Attribute Information (in order):\n",
            "        - CRIM     per capita crime rate by town\n",
            "        - ZN       proportion of residential land zoned for lots over 25,000 sq.ft.\n",
            "        - INDUS    proportion of non-retail business acres per town\n",
            "        - CHAS     Charles River dummy variable (= 1 if tract bounds river; 0 otherwise)\n",
            "        - NOX      nitric oxides concentration (parts per 10 million)\n",
            "        - RM       average number of rooms per dwelling\n",
            "        - AGE      proportion of owner-occupied units built prior to 1940\n",
            "        - DIS      weighted distances to five Boston employment centres\n",
            "        - RAD      index of accessibility to radial highways\n",
            "        - TAX      full-value property-tax rate per $10,000\n",
            "        - PTRATIO  pupil-teacher ratio by town\n",
            "        - B        1000(Bk - 0.63)^2 where Bk is the proportion of blacks by town\n",
            "        - LSTAT    % lower status of the population\n",
            "        - MEDV     Median value of owner-occupied homes in $1000's\n",
            "\n",
            "    :Missing Attribute Values: None\n",
            "\n",
            "    :Creator: Harrison, D. and Rubinfeld, D.L.\n",
            "\n",
            "This is a copy of UCI ML housing dataset.\n",
            "https://archive.ics.uci.edu/ml/machine-learning-databases/housing/\n",
            "\n",
            "\n",
            "This dataset was taken from the StatLib library which is maintained at Carnegie Mellon University.\n",
            "\n",
            "The Boston house-price data of Harrison, D. and Rubinfeld, D.L. 'Hedonic\n",
            "prices and the demand for clean air', J. Environ. Economics & Management,\n",
            "vol.5, 81-102, 1978.   Used in Belsley, Kuh & Welsch, 'Regression diagnostics\n",
            "...', Wiley, 1980.   N.B. Various transformations are used in the table on\n",
            "pages 244-261 of the latter.\n",
            "\n",
            "The Boston house-price data has been used in many machine learning papers that address regression\n",
            "problems.   \n",
            "     \n",
            ".. topic:: References\n",
            "\n",
            "   - Belsley, Kuh & Welsch, 'Regression diagnostics: Identifying Influential Data and Sources of Collinearity', Wiley, 1980. 244-261.\n",
            "   - Quinlan,R. (1993). Combining Instance-Based and Model-Based Learning. In Proceedings on the Tenth International Conference of Machine Learning, 236-243, University of Massachusetts, Amherst. Morgan Kaufmann.\n",
            "\n"
          ],
          "name": "stdout"
        }
      ]
    },
    {
      "cell_type": "code",
      "metadata": {
        "colab": {
          "base_uri": "https://localhost:8080/"
        },
        "id": "fharnUIFox8N",
        "outputId": "62c8d393-4da3-4e0a-d728-ca3e73ab87f3"
      },
      "source": [
        "boston.data"
      ],
      "execution_count": null,
      "outputs": [
        {
          "output_type": "execute_result",
          "data": {
            "text/plain": [
              "array([[6.3200e-03, 1.8000e+01, 2.3100e+00, ..., 1.5300e+01, 3.9690e+02,\n",
              "        4.9800e+00],\n",
              "       [2.7310e-02, 0.0000e+00, 7.0700e+00, ..., 1.7800e+01, 3.9690e+02,\n",
              "        9.1400e+00],\n",
              "       [2.7290e-02, 0.0000e+00, 7.0700e+00, ..., 1.7800e+01, 3.9283e+02,\n",
              "        4.0300e+00],\n",
              "       ...,\n",
              "       [6.0760e-02, 0.0000e+00, 1.1930e+01, ..., 2.1000e+01, 3.9690e+02,\n",
              "        5.6400e+00],\n",
              "       [1.0959e-01, 0.0000e+00, 1.1930e+01, ..., 2.1000e+01, 3.9345e+02,\n",
              "        6.4800e+00],\n",
              "       [4.7410e-02, 0.0000e+00, 1.1930e+01, ..., 2.1000e+01, 3.9690e+02,\n",
              "        7.8800e+00]])"
            ]
          },
          "metadata": {},
          "execution_count": 5
        }
      ]
    },
    {
      "cell_type": "code",
      "metadata": {
        "colab": {
          "base_uri": "https://localhost:8080/"
        },
        "id": "1ouuBnGrpDG4",
        "outputId": "c857691f-8ce9-4b83-ea34-62153e7d3ce6"
      },
      "source": [
        "boston.target"
      ],
      "execution_count": null,
      "outputs": [
        {
          "output_type": "execute_result",
          "data": {
            "text/plain": [
              "array([24. , 21.6, 34.7, 33.4, 36.2, 28.7, 22.9, 27.1, 16.5, 18.9, 15. ,\n",
              "       18.9, 21.7, 20.4, 18.2, 19.9, 23.1, 17.5, 20.2, 18.2, 13.6, 19.6,\n",
              "       15.2, 14.5, 15.6, 13.9, 16.6, 14.8, 18.4, 21. , 12.7, 14.5, 13.2,\n",
              "       13.1, 13.5, 18.9, 20. , 21. , 24.7, 30.8, 34.9, 26.6, 25.3, 24.7,\n",
              "       21.2, 19.3, 20. , 16.6, 14.4, 19.4, 19.7, 20.5, 25. , 23.4, 18.9,\n",
              "       35.4, 24.7, 31.6, 23.3, 19.6, 18.7, 16. , 22.2, 25. , 33. , 23.5,\n",
              "       19.4, 22. , 17.4, 20.9, 24.2, 21.7, 22.8, 23.4, 24.1, 21.4, 20. ,\n",
              "       20.8, 21.2, 20.3, 28. , 23.9, 24.8, 22.9, 23.9, 26.6, 22.5, 22.2,\n",
              "       23.6, 28.7, 22.6, 22. , 22.9, 25. , 20.6, 28.4, 21.4, 38.7, 43.8,\n",
              "       33.2, 27.5, 26.5, 18.6, 19.3, 20.1, 19.5, 19.5, 20.4, 19.8, 19.4,\n",
              "       21.7, 22.8, 18.8, 18.7, 18.5, 18.3, 21.2, 19.2, 20.4, 19.3, 22. ,\n",
              "       20.3, 20.5, 17.3, 18.8, 21.4, 15.7, 16.2, 18. , 14.3, 19.2, 19.6,\n",
              "       23. , 18.4, 15.6, 18.1, 17.4, 17.1, 13.3, 17.8, 14. , 14.4, 13.4,\n",
              "       15.6, 11.8, 13.8, 15.6, 14.6, 17.8, 15.4, 21.5, 19.6, 15.3, 19.4,\n",
              "       17. , 15.6, 13.1, 41.3, 24.3, 23.3, 27. , 50. , 50. , 50. , 22.7,\n",
              "       25. , 50. , 23.8, 23.8, 22.3, 17.4, 19.1, 23.1, 23.6, 22.6, 29.4,\n",
              "       23.2, 24.6, 29.9, 37.2, 39.8, 36.2, 37.9, 32.5, 26.4, 29.6, 50. ,\n",
              "       32. , 29.8, 34.9, 37. , 30.5, 36.4, 31.1, 29.1, 50. , 33.3, 30.3,\n",
              "       34.6, 34.9, 32.9, 24.1, 42.3, 48.5, 50. , 22.6, 24.4, 22.5, 24.4,\n",
              "       20. , 21.7, 19.3, 22.4, 28.1, 23.7, 25. , 23.3, 28.7, 21.5, 23. ,\n",
              "       26.7, 21.7, 27.5, 30.1, 44.8, 50. , 37.6, 31.6, 46.7, 31.5, 24.3,\n",
              "       31.7, 41.7, 48.3, 29. , 24. , 25.1, 31.5, 23.7, 23.3, 22. , 20.1,\n",
              "       22.2, 23.7, 17.6, 18.5, 24.3, 20.5, 24.5, 26.2, 24.4, 24.8, 29.6,\n",
              "       42.8, 21.9, 20.9, 44. , 50. , 36. , 30.1, 33.8, 43.1, 48.8, 31. ,\n",
              "       36.5, 22.8, 30.7, 50. , 43.5, 20.7, 21.1, 25.2, 24.4, 35.2, 32.4,\n",
              "       32. , 33.2, 33.1, 29.1, 35.1, 45.4, 35.4, 46. , 50. , 32.2, 22. ,\n",
              "       20.1, 23.2, 22.3, 24.8, 28.5, 37.3, 27.9, 23.9, 21.7, 28.6, 27.1,\n",
              "       20.3, 22.5, 29. , 24.8, 22. , 26.4, 33.1, 36.1, 28.4, 33.4, 28.2,\n",
              "       22.8, 20.3, 16.1, 22.1, 19.4, 21.6, 23.8, 16.2, 17.8, 19.8, 23.1,\n",
              "       21. , 23.8, 23.1, 20.4, 18.5, 25. , 24.6, 23. , 22.2, 19.3, 22.6,\n",
              "       19.8, 17.1, 19.4, 22.2, 20.7, 21.1, 19.5, 18.5, 20.6, 19. , 18.7,\n",
              "       32.7, 16.5, 23.9, 31.2, 17.5, 17.2, 23.1, 24.5, 26.6, 22.9, 24.1,\n",
              "       18.6, 30.1, 18.2, 20.6, 17.8, 21.7, 22.7, 22.6, 25. , 19.9, 20.8,\n",
              "       16.8, 21.9, 27.5, 21.9, 23.1, 50. , 50. , 50. , 50. , 50. , 13.8,\n",
              "       13.8, 15. , 13.9, 13.3, 13.1, 10.2, 10.4, 10.9, 11.3, 12.3,  8.8,\n",
              "        7.2, 10.5,  7.4, 10.2, 11.5, 15.1, 23.2,  9.7, 13.8, 12.7, 13.1,\n",
              "       12.5,  8.5,  5. ,  6.3,  5.6,  7.2, 12.1,  8.3,  8.5,  5. , 11.9,\n",
              "       27.9, 17.2, 27.5, 15. , 17.2, 17.9, 16.3,  7. ,  7.2,  7.5, 10.4,\n",
              "        8.8,  8.4, 16.7, 14.2, 20.8, 13.4, 11.7,  8.3, 10.2, 10.9, 11. ,\n",
              "        9.5, 14.5, 14.1, 16.1, 14.3, 11.7, 13.4,  9.6,  8.7,  8.4, 12.8,\n",
              "       10.5, 17.1, 18.4, 15.4, 10.8, 11.8, 14.9, 12.6, 14.1, 13. , 13.4,\n",
              "       15.2, 16.1, 17.8, 14.9, 14.1, 12.7, 13.5, 14.9, 20. , 16.4, 17.7,\n",
              "       19.5, 20.2, 21.4, 19.9, 19. , 19.1, 19.1, 20.1, 19.9, 19.6, 23.2,\n",
              "       29.8, 13.8, 13.3, 16.7, 12. , 14.6, 21.4, 23. , 23.7, 25. , 21.8,\n",
              "       20.6, 21.2, 19.1, 20.6, 15.2,  7. ,  8.1, 13.6, 20.1, 21.8, 24.5,\n",
              "       23.1, 19.7, 18.3, 21.2, 17.5, 16.8, 22.4, 20.6, 23.9, 22. , 11.9])"
            ]
          },
          "metadata": {},
          "execution_count": 6
        }
      ]
    },
    {
      "cell_type": "code",
      "metadata": {
        "colab": {
          "base_uri": "https://localhost:8080/"
        },
        "id": "iMeS4ewVpFPH",
        "outputId": "c53ebc13-c06e-49a4-c6c0-d0473bda5941"
      },
      "source": [
        "boston.feature_names"
      ],
      "execution_count": null,
      "outputs": [
        {
          "output_type": "execute_result",
          "data": {
            "text/plain": [
              "array(['CRIM', 'ZN', 'INDUS', 'CHAS', 'NOX', 'RM', 'AGE', 'DIS', 'RAD',\n",
              "       'TAX', 'PTRATIO', 'B', 'LSTAT'], dtype='<U7')"
            ]
          },
          "metadata": {},
          "execution_count": 7
        }
      ]
    },
    {
      "cell_type": "code",
      "metadata": {
        "colab": {
          "base_uri": "https://localhost:8080/"
        },
        "id": "FCE6xPlNpNO8",
        "outputId": "dd3c2bcf-d991-45f7-c34b-2acc06a1a8e9"
      },
      "source": [
        "boston.data.shape"
      ],
      "execution_count": null,
      "outputs": [
        {
          "output_type": "execute_result",
          "data": {
            "text/plain": [
              "(506, 13)"
            ]
          },
          "metadata": {},
          "execution_count": 8
        }
      ]
    },
    {
      "cell_type": "markdown",
      "metadata": {
        "id": "BelAhJ-9VYNp"
      },
      "source": [
        "## 3.데이터 전처리"
      ]
    },
    {
      "cell_type": "code",
      "metadata": {
        "id": "922gzSScqTV5"
      },
      "source": [
        "X = pd.DataFrame(boston.data, columns = boston.feature_names)\n",
        "Y = pd.DataFrame(boston.target, columns  = ['MEDV'])"
      ],
      "execution_count": null,
      "outputs": []
    },
    {
      "cell_type": "code",
      "metadata": {
        "colab": {
          "base_uri": "https://localhost:8080/",
          "height": 422
        },
        "id": "itB0cn3Jq2ey",
        "outputId": "6340f453-8d8c-430f-f573-d6179f599c9c"
      },
      "source": [
        "X"
      ],
      "execution_count": null,
      "outputs": [
        {
          "output_type": "execute_result",
          "data": {
            "text/html": [
              "<div>\n",
              "<style scoped>\n",
              "    .dataframe tbody tr th:only-of-type {\n",
              "        vertical-align: middle;\n",
              "    }\n",
              "\n",
              "    .dataframe tbody tr th {\n",
              "        vertical-align: top;\n",
              "    }\n",
              "\n",
              "    .dataframe thead th {\n",
              "        text-align: right;\n",
              "    }\n",
              "</style>\n",
              "<table border=\"1\" class=\"dataframe\">\n",
              "  <thead>\n",
              "    <tr style=\"text-align: right;\">\n",
              "      <th></th>\n",
              "      <th>CRIM</th>\n",
              "      <th>ZN</th>\n",
              "      <th>INDUS</th>\n",
              "      <th>CHAS</th>\n",
              "      <th>NOX</th>\n",
              "      <th>RM</th>\n",
              "      <th>AGE</th>\n",
              "      <th>DIS</th>\n",
              "      <th>RAD</th>\n",
              "      <th>TAX</th>\n",
              "      <th>PTRATIO</th>\n",
              "      <th>B</th>\n",
              "      <th>LSTAT</th>\n",
              "    </tr>\n",
              "  </thead>\n",
              "  <tbody>\n",
              "    <tr>\n",
              "      <th>0</th>\n",
              "      <td>0.00632</td>\n",
              "      <td>18.0</td>\n",
              "      <td>2.31</td>\n",
              "      <td>0.0</td>\n",
              "      <td>0.538</td>\n",
              "      <td>6.575</td>\n",
              "      <td>65.2</td>\n",
              "      <td>4.0900</td>\n",
              "      <td>1.0</td>\n",
              "      <td>296.0</td>\n",
              "      <td>15.3</td>\n",
              "      <td>396.90</td>\n",
              "      <td>4.98</td>\n",
              "    </tr>\n",
              "    <tr>\n",
              "      <th>1</th>\n",
              "      <td>0.02731</td>\n",
              "      <td>0.0</td>\n",
              "      <td>7.07</td>\n",
              "      <td>0.0</td>\n",
              "      <td>0.469</td>\n",
              "      <td>6.421</td>\n",
              "      <td>78.9</td>\n",
              "      <td>4.9671</td>\n",
              "      <td>2.0</td>\n",
              "      <td>242.0</td>\n",
              "      <td>17.8</td>\n",
              "      <td>396.90</td>\n",
              "      <td>9.14</td>\n",
              "    </tr>\n",
              "    <tr>\n",
              "      <th>2</th>\n",
              "      <td>0.02729</td>\n",
              "      <td>0.0</td>\n",
              "      <td>7.07</td>\n",
              "      <td>0.0</td>\n",
              "      <td>0.469</td>\n",
              "      <td>7.185</td>\n",
              "      <td>61.1</td>\n",
              "      <td>4.9671</td>\n",
              "      <td>2.0</td>\n",
              "      <td>242.0</td>\n",
              "      <td>17.8</td>\n",
              "      <td>392.83</td>\n",
              "      <td>4.03</td>\n",
              "    </tr>\n",
              "    <tr>\n",
              "      <th>3</th>\n",
              "      <td>0.03237</td>\n",
              "      <td>0.0</td>\n",
              "      <td>2.18</td>\n",
              "      <td>0.0</td>\n",
              "      <td>0.458</td>\n",
              "      <td>6.998</td>\n",
              "      <td>45.8</td>\n",
              "      <td>6.0622</td>\n",
              "      <td>3.0</td>\n",
              "      <td>222.0</td>\n",
              "      <td>18.7</td>\n",
              "      <td>394.63</td>\n",
              "      <td>2.94</td>\n",
              "    </tr>\n",
              "    <tr>\n",
              "      <th>4</th>\n",
              "      <td>0.06905</td>\n",
              "      <td>0.0</td>\n",
              "      <td>2.18</td>\n",
              "      <td>0.0</td>\n",
              "      <td>0.458</td>\n",
              "      <td>7.147</td>\n",
              "      <td>54.2</td>\n",
              "      <td>6.0622</td>\n",
              "      <td>3.0</td>\n",
              "      <td>222.0</td>\n",
              "      <td>18.7</td>\n",
              "      <td>396.90</td>\n",
              "      <td>5.33</td>\n",
              "    </tr>\n",
              "    <tr>\n",
              "      <th>...</th>\n",
              "      <td>...</td>\n",
              "      <td>...</td>\n",
              "      <td>...</td>\n",
              "      <td>...</td>\n",
              "      <td>...</td>\n",
              "      <td>...</td>\n",
              "      <td>...</td>\n",
              "      <td>...</td>\n",
              "      <td>...</td>\n",
              "      <td>...</td>\n",
              "      <td>...</td>\n",
              "      <td>...</td>\n",
              "      <td>...</td>\n",
              "    </tr>\n",
              "    <tr>\n",
              "      <th>501</th>\n",
              "      <td>0.06263</td>\n",
              "      <td>0.0</td>\n",
              "      <td>11.93</td>\n",
              "      <td>0.0</td>\n",
              "      <td>0.573</td>\n",
              "      <td>6.593</td>\n",
              "      <td>69.1</td>\n",
              "      <td>2.4786</td>\n",
              "      <td>1.0</td>\n",
              "      <td>273.0</td>\n",
              "      <td>21.0</td>\n",
              "      <td>391.99</td>\n",
              "      <td>9.67</td>\n",
              "    </tr>\n",
              "    <tr>\n",
              "      <th>502</th>\n",
              "      <td>0.04527</td>\n",
              "      <td>0.0</td>\n",
              "      <td>11.93</td>\n",
              "      <td>0.0</td>\n",
              "      <td>0.573</td>\n",
              "      <td>6.120</td>\n",
              "      <td>76.7</td>\n",
              "      <td>2.2875</td>\n",
              "      <td>1.0</td>\n",
              "      <td>273.0</td>\n",
              "      <td>21.0</td>\n",
              "      <td>396.90</td>\n",
              "      <td>9.08</td>\n",
              "    </tr>\n",
              "    <tr>\n",
              "      <th>503</th>\n",
              "      <td>0.06076</td>\n",
              "      <td>0.0</td>\n",
              "      <td>11.93</td>\n",
              "      <td>0.0</td>\n",
              "      <td>0.573</td>\n",
              "      <td>6.976</td>\n",
              "      <td>91.0</td>\n",
              "      <td>2.1675</td>\n",
              "      <td>1.0</td>\n",
              "      <td>273.0</td>\n",
              "      <td>21.0</td>\n",
              "      <td>396.90</td>\n",
              "      <td>5.64</td>\n",
              "    </tr>\n",
              "    <tr>\n",
              "      <th>504</th>\n",
              "      <td>0.10959</td>\n",
              "      <td>0.0</td>\n",
              "      <td>11.93</td>\n",
              "      <td>0.0</td>\n",
              "      <td>0.573</td>\n",
              "      <td>6.794</td>\n",
              "      <td>89.3</td>\n",
              "      <td>2.3889</td>\n",
              "      <td>1.0</td>\n",
              "      <td>273.0</td>\n",
              "      <td>21.0</td>\n",
              "      <td>393.45</td>\n",
              "      <td>6.48</td>\n",
              "    </tr>\n",
              "    <tr>\n",
              "      <th>505</th>\n",
              "      <td>0.04741</td>\n",
              "      <td>0.0</td>\n",
              "      <td>11.93</td>\n",
              "      <td>0.0</td>\n",
              "      <td>0.573</td>\n",
              "      <td>6.030</td>\n",
              "      <td>80.8</td>\n",
              "      <td>2.5050</td>\n",
              "      <td>1.0</td>\n",
              "      <td>273.0</td>\n",
              "      <td>21.0</td>\n",
              "      <td>396.90</td>\n",
              "      <td>7.88</td>\n",
              "    </tr>\n",
              "  </tbody>\n",
              "</table>\n",
              "<p>506 rows × 13 columns</p>\n",
              "</div>"
            ],
            "text/plain": [
              "        CRIM    ZN  INDUS  CHAS    NOX  ...  RAD    TAX  PTRATIO       B  LSTAT\n",
              "0    0.00632  18.0   2.31   0.0  0.538  ...  1.0  296.0     15.3  396.90   4.98\n",
              "1    0.02731   0.0   7.07   0.0  0.469  ...  2.0  242.0     17.8  396.90   9.14\n",
              "2    0.02729   0.0   7.07   0.0  0.469  ...  2.0  242.0     17.8  392.83   4.03\n",
              "3    0.03237   0.0   2.18   0.0  0.458  ...  3.0  222.0     18.7  394.63   2.94\n",
              "4    0.06905   0.0   2.18   0.0  0.458  ...  3.0  222.0     18.7  396.90   5.33\n",
              "..       ...   ...    ...   ...    ...  ...  ...    ...      ...     ...    ...\n",
              "501  0.06263   0.0  11.93   0.0  0.573  ...  1.0  273.0     21.0  391.99   9.67\n",
              "502  0.04527   0.0  11.93   0.0  0.573  ...  1.0  273.0     21.0  396.90   9.08\n",
              "503  0.06076   0.0  11.93   0.0  0.573  ...  1.0  273.0     21.0  396.90   5.64\n",
              "504  0.10959   0.0  11.93   0.0  0.573  ...  1.0  273.0     21.0  393.45   6.48\n",
              "505  0.04741   0.0  11.93   0.0  0.573  ...  1.0  273.0     21.0  396.90   7.88\n",
              "\n",
              "[506 rows x 13 columns]"
            ]
          },
          "metadata": {},
          "execution_count": 10
        }
      ]
    },
    {
      "cell_type": "code",
      "metadata": {
        "colab": {
          "base_uri": "https://localhost:8080/",
          "height": 422
        },
        "id": "2dBONxB-q5IM",
        "outputId": "744d36ad-95a1-4ea6-cb69-ad660c270b79"
      },
      "source": [
        "Y"
      ],
      "execution_count": null,
      "outputs": [
        {
          "output_type": "execute_result",
          "data": {
            "text/html": [
              "<div>\n",
              "<style scoped>\n",
              "    .dataframe tbody tr th:only-of-type {\n",
              "        vertical-align: middle;\n",
              "    }\n",
              "\n",
              "    .dataframe tbody tr th {\n",
              "        vertical-align: top;\n",
              "    }\n",
              "\n",
              "    .dataframe thead th {\n",
              "        text-align: right;\n",
              "    }\n",
              "</style>\n",
              "<table border=\"1\" class=\"dataframe\">\n",
              "  <thead>\n",
              "    <tr style=\"text-align: right;\">\n",
              "      <th></th>\n",
              "      <th>MEDV</th>\n",
              "    </tr>\n",
              "  </thead>\n",
              "  <tbody>\n",
              "    <tr>\n",
              "      <th>0</th>\n",
              "      <td>24.0</td>\n",
              "    </tr>\n",
              "    <tr>\n",
              "      <th>1</th>\n",
              "      <td>21.6</td>\n",
              "    </tr>\n",
              "    <tr>\n",
              "      <th>2</th>\n",
              "      <td>34.7</td>\n",
              "    </tr>\n",
              "    <tr>\n",
              "      <th>3</th>\n",
              "      <td>33.4</td>\n",
              "    </tr>\n",
              "    <tr>\n",
              "      <th>4</th>\n",
              "      <td>36.2</td>\n",
              "    </tr>\n",
              "    <tr>\n",
              "      <th>...</th>\n",
              "      <td>...</td>\n",
              "    </tr>\n",
              "    <tr>\n",
              "      <th>501</th>\n",
              "      <td>22.4</td>\n",
              "    </tr>\n",
              "    <tr>\n",
              "      <th>502</th>\n",
              "      <td>20.6</td>\n",
              "    </tr>\n",
              "    <tr>\n",
              "      <th>503</th>\n",
              "      <td>23.9</td>\n",
              "    </tr>\n",
              "    <tr>\n",
              "      <th>504</th>\n",
              "      <td>22.0</td>\n",
              "    </tr>\n",
              "    <tr>\n",
              "      <th>505</th>\n",
              "      <td>11.9</td>\n",
              "    </tr>\n",
              "  </tbody>\n",
              "</table>\n",
              "<p>506 rows × 1 columns</p>\n",
              "</div>"
            ],
            "text/plain": [
              "     MEDV\n",
              "0    24.0\n",
              "1    21.6\n",
              "2    34.7\n",
              "3    33.4\n",
              "4    36.2\n",
              "..    ...\n",
              "501  22.4\n",
              "502  20.6\n",
              "503  23.9\n",
              "504  22.0\n",
              "505  11.9\n",
              "\n",
              "[506 rows x 1 columns]"
            ]
          },
          "metadata": {},
          "execution_count": 11
        }
      ]
    },
    {
      "cell_type": "code",
      "metadata": {
        "colab": {
          "base_uri": "https://localhost:8080/",
          "height": 205
        },
        "id": "5Ak-KAkVq7wc",
        "outputId": "ee914b6f-0e11-40e7-dc82-25fcf490def5"
      },
      "source": [
        "X.head()"
      ],
      "execution_count": null,
      "outputs": [
        {
          "output_type": "execute_result",
          "data": {
            "text/html": [
              "<div>\n",
              "<style scoped>\n",
              "    .dataframe tbody tr th:only-of-type {\n",
              "        vertical-align: middle;\n",
              "    }\n",
              "\n",
              "    .dataframe tbody tr th {\n",
              "        vertical-align: top;\n",
              "    }\n",
              "\n",
              "    .dataframe thead th {\n",
              "        text-align: right;\n",
              "    }\n",
              "</style>\n",
              "<table border=\"1\" class=\"dataframe\">\n",
              "  <thead>\n",
              "    <tr style=\"text-align: right;\">\n",
              "      <th></th>\n",
              "      <th>CRIM</th>\n",
              "      <th>ZN</th>\n",
              "      <th>INDUS</th>\n",
              "      <th>CHAS</th>\n",
              "      <th>NOX</th>\n",
              "      <th>RM</th>\n",
              "      <th>AGE</th>\n",
              "      <th>DIS</th>\n",
              "      <th>RAD</th>\n",
              "      <th>TAX</th>\n",
              "      <th>PTRATIO</th>\n",
              "      <th>B</th>\n",
              "      <th>LSTAT</th>\n",
              "    </tr>\n",
              "  </thead>\n",
              "  <tbody>\n",
              "    <tr>\n",
              "      <th>0</th>\n",
              "      <td>0.00632</td>\n",
              "      <td>18.0</td>\n",
              "      <td>2.31</td>\n",
              "      <td>0.0</td>\n",
              "      <td>0.538</td>\n",
              "      <td>6.575</td>\n",
              "      <td>65.2</td>\n",
              "      <td>4.0900</td>\n",
              "      <td>1.0</td>\n",
              "      <td>296.0</td>\n",
              "      <td>15.3</td>\n",
              "      <td>396.90</td>\n",
              "      <td>4.98</td>\n",
              "    </tr>\n",
              "    <tr>\n",
              "      <th>1</th>\n",
              "      <td>0.02731</td>\n",
              "      <td>0.0</td>\n",
              "      <td>7.07</td>\n",
              "      <td>0.0</td>\n",
              "      <td>0.469</td>\n",
              "      <td>6.421</td>\n",
              "      <td>78.9</td>\n",
              "      <td>4.9671</td>\n",
              "      <td>2.0</td>\n",
              "      <td>242.0</td>\n",
              "      <td>17.8</td>\n",
              "      <td>396.90</td>\n",
              "      <td>9.14</td>\n",
              "    </tr>\n",
              "    <tr>\n",
              "      <th>2</th>\n",
              "      <td>0.02729</td>\n",
              "      <td>0.0</td>\n",
              "      <td>7.07</td>\n",
              "      <td>0.0</td>\n",
              "      <td>0.469</td>\n",
              "      <td>7.185</td>\n",
              "      <td>61.1</td>\n",
              "      <td>4.9671</td>\n",
              "      <td>2.0</td>\n",
              "      <td>242.0</td>\n",
              "      <td>17.8</td>\n",
              "      <td>392.83</td>\n",
              "      <td>4.03</td>\n",
              "    </tr>\n",
              "    <tr>\n",
              "      <th>3</th>\n",
              "      <td>0.03237</td>\n",
              "      <td>0.0</td>\n",
              "      <td>2.18</td>\n",
              "      <td>0.0</td>\n",
              "      <td>0.458</td>\n",
              "      <td>6.998</td>\n",
              "      <td>45.8</td>\n",
              "      <td>6.0622</td>\n",
              "      <td>3.0</td>\n",
              "      <td>222.0</td>\n",
              "      <td>18.7</td>\n",
              "      <td>394.63</td>\n",
              "      <td>2.94</td>\n",
              "    </tr>\n",
              "    <tr>\n",
              "      <th>4</th>\n",
              "      <td>0.06905</td>\n",
              "      <td>0.0</td>\n",
              "      <td>2.18</td>\n",
              "      <td>0.0</td>\n",
              "      <td>0.458</td>\n",
              "      <td>7.147</td>\n",
              "      <td>54.2</td>\n",
              "      <td>6.0622</td>\n",
              "      <td>3.0</td>\n",
              "      <td>222.0</td>\n",
              "      <td>18.7</td>\n",
              "      <td>396.90</td>\n",
              "      <td>5.33</td>\n",
              "    </tr>\n",
              "  </tbody>\n",
              "</table>\n",
              "</div>"
            ],
            "text/plain": [
              "      CRIM    ZN  INDUS  CHAS    NOX  ...  RAD    TAX  PTRATIO       B  LSTAT\n",
              "0  0.00632  18.0   2.31   0.0  0.538  ...  1.0  296.0     15.3  396.90   4.98\n",
              "1  0.02731   0.0   7.07   0.0  0.469  ...  2.0  242.0     17.8  396.90   9.14\n",
              "2  0.02729   0.0   7.07   0.0  0.469  ...  2.0  242.0     17.8  392.83   4.03\n",
              "3  0.03237   0.0   2.18   0.0  0.458  ...  3.0  222.0     18.7  394.63   2.94\n",
              "4  0.06905   0.0   2.18   0.0  0.458  ...  3.0  222.0     18.7  396.90   5.33\n",
              "\n",
              "[5 rows x 13 columns]"
            ]
          },
          "metadata": {},
          "execution_count": 12
        }
      ]
    },
    {
      "cell_type": "code",
      "metadata": {
        "colab": {
          "base_uri": "https://localhost:8080/",
          "height": 205
        },
        "id": "LBWmg9L4q-f9",
        "outputId": "da25304c-4abe-40d0-f1ed-0bbea95779b0"
      },
      "source": [
        "Y.head()"
      ],
      "execution_count": null,
      "outputs": [
        {
          "output_type": "execute_result",
          "data": {
            "text/html": [
              "<div>\n",
              "<style scoped>\n",
              "    .dataframe tbody tr th:only-of-type {\n",
              "        vertical-align: middle;\n",
              "    }\n",
              "\n",
              "    .dataframe tbody tr th {\n",
              "        vertical-align: top;\n",
              "    }\n",
              "\n",
              "    .dataframe thead th {\n",
              "        text-align: right;\n",
              "    }\n",
              "</style>\n",
              "<table border=\"1\" class=\"dataframe\">\n",
              "  <thead>\n",
              "    <tr style=\"text-align: right;\">\n",
              "      <th></th>\n",
              "      <th>MEDV</th>\n",
              "    </tr>\n",
              "  </thead>\n",
              "  <tbody>\n",
              "    <tr>\n",
              "      <th>0</th>\n",
              "      <td>24.0</td>\n",
              "    </tr>\n",
              "    <tr>\n",
              "      <th>1</th>\n",
              "      <td>21.6</td>\n",
              "    </tr>\n",
              "    <tr>\n",
              "      <th>2</th>\n",
              "      <td>34.7</td>\n",
              "    </tr>\n",
              "    <tr>\n",
              "      <th>3</th>\n",
              "      <td>33.4</td>\n",
              "    </tr>\n",
              "    <tr>\n",
              "      <th>4</th>\n",
              "      <td>36.2</td>\n",
              "    </tr>\n",
              "  </tbody>\n",
              "</table>\n",
              "</div>"
            ],
            "text/plain": [
              "   MEDV\n",
              "0  24.0\n",
              "1  21.6\n",
              "2  34.7\n",
              "3  33.4\n",
              "4  36.2"
            ]
          },
          "metadata": {},
          "execution_count": 13
        }
      ]
    },
    {
      "cell_type": "markdown",
      "metadata": {
        "id": "S4ol8_SGrRTS"
      },
      "source": [
        "### 3.2 train, test set 나누기\n"
      ]
    },
    {
      "cell_type": "code",
      "metadata": {
        "id": "FgTfS2r1QuKa"
      },
      "source": [
        "X_train, X_test, y_train, y_test = train_test_split(X,Y, test_size=0.2, random_state=2021)"
      ],
      "execution_count": null,
      "outputs": []
    },
    {
      "cell_type": "markdown",
      "metadata": {
        "id": "JOf5vWUoVfLW"
      },
      "source": [
        "## 4. Linear Regression model 구축"
      ]
    },
    {
      "cell_type": "markdown",
      "metadata": {
        "id": "ybJ6NkucRgit"
      },
      "source": [
        "statsmodel의 OLS(Ordinary Least Squares) 사용하여 linear regression 분석 시행\n",
        "\n",
        "\n",
        "*   OLS: 가장 기본적은 결정론적 linear regression 방법으로 RSS(Residual Sum of Squres)를 최소화 하는 가중치($\\beta_1, \\beta_2, ...$) 구하는 방법\n",
        "*   모델 선언: model = sm.OLS(Y, X), 모델학습 : model_trained = model.fit()\n",
        "\n"
      ]
    },
    {
      "cell_type": "code",
      "metadata": {
        "id": "ngjjKzHfRa0Y"
      },
      "source": [
        "X_train = sm.add_constant(X_train) #B_0에 대한 constant를 임의의 수인 1로 추가해주는 과정\n",
        "model = sm.OLS(y_train, X_train, axis=1)\n",
        "model_trained = model.fit()"
      ],
      "execution_count": null,
      "outputs": []
    },
    {
      "cell_type": "markdown",
      "metadata": {
        "id": "1LfXpZI2rhF2"
      },
      "source": [
        "### 4.1확률오차의 정규성 확인\n",
        "확률오차 가정 : $$\\epsilon_i \\sim 정규분포 E(\\epsilon_i) = 0 \\quad V(\\epsilon_i) = \\sigma^2 for\\, all\\, i.  \\\\\n",
        "\\epsilon_i \\sim N(0,\\sigma^2), i=1,2,...,n$$\n",
        "\n",
        "<br>\n",
        "\n",
        "\n",
        "*   확률오차의 정규성 확인\n",
        "*   확률오차의 등분산성 확인\n",
        "\n",
        "\n"
      ]
    },
    {
      "cell_type": "code",
      "metadata": {
        "colab": {
          "base_uri": "https://localhost:8080/",
          "height": 730
        },
        "id": "YOpTzZm5Qhoy",
        "outputId": "59f93005-7233-4c42-e2bf-53ced37a465b"
      },
      "source": [
        "#확률오차의 정규성 확인\n",
        "model_residuals = model_trained.resid\n",
        "\n",
        "plt.rcParams['axes.unicode_minus'] = False #음수 폰트 꺠짐 방지\n",
        "fig, ax = plt.subplots(1,1)\n",
        "fig.set_figheight(12)\n",
        "fig.set_figwidth(12)\n",
        "\n",
        "sm.ProbPlot(model_residuals).qqplot(line='s',color='#1177b4', ax = ax)\n",
        "ax.title.set_text('QQ Plot')"
      ],
      "execution_count": null,
      "outputs": [
        {
          "output_type": "display_data",
          "data": {
            "image/png": "[encoded data removed]",
            "text/plain": [
              "<Figure size 864x864 with 1 Axes>"
            ]
          },
          "metadata": {
            "needs_background": "light"
          }
        }
      ]
    },
    {
      "cell_type": "code",
      "metadata": {
        "colab": {
          "base_uri": "https://localhost:8080/",
          "height": 587
        },
        "id": "wAORL7vIWq3D",
        "outputId": "e2711ec8-e8f4-48c3-cd1f-823d7f6e51cd"
      },
      "source": [
        "#확률오차의 등분산성 확인\n",
        "model_fitted_y = model_trained.fittedvalues\n",
        "\n",
        "#plt.rcParams['axes.unicode_minus'] = False #음수 폰트 깨짐 방지\n",
        "fig, ax = plt.subplots(1,1)\n",
        "fig.set_figheight(8)\n",
        "fig.set_figwidth(12)\n",
        "\n",
        "sns.residplot(model_fitted_y, y_train, data=X_train, lowess = True, scatter_kws={'alpha':0.5}, line_kws={'color':'red'}, ax = ax)\n",
        "ax.title.set_text('Residuals vs Fitted')\n",
        "ax.set(xlabel = 'Fitted values', ylabel='Residuals')"
      ],
      "execution_count": null,
      "outputs": [
        {
          "output_type": "stream",
          "text": [
            "/usr/local/lib/python3.7/dist-packages/seaborn/_decorators.py:43: FutureWarning: Pass the following variables as keyword args: x, y. From version 0.12, the only valid positional argument will be `data`, and passing other arguments without an explicit keyword will result in an error or misinterpretation.\n",
            "  FutureWarning\n"
          ],
          "name": "stderr"
        },
        {
          "output_type": "execute_result",
          "data": {
            "text/plain": [
              "[Text(0, 0.5, 'Residuals'), Text(0.5, 0, 'Fitted values')]"
            ]
          },
          "metadata": {},
          "execution_count": 32
        },
        {
          "output_type": "display_data",
          "data": {
            "image/png": "[encoded data removed]",
            "text/plain": [
              "<Figure size 864x576 with 1 Axes>"
            ]
          },
          "metadata": {
            "needs_background": "light"
          }
        }
      ]
    },
    {
      "cell_type": "markdown",
      "metadata": {
        "id": "M--o95_4cQQt"
      },
      "source": [
        "\n",
        "\n",
        "*   정규성 : data가 line을 대체로 잘 따름\n",
        "*   등분산성: 분산을 표현한 line이 대체로 0에 대해 일직선인 편\n",
        "\n"
      ]
    },
    {
      "cell_type": "markdown",
      "metadata": {
        "id": "-2YxpWp9c1LB"
      },
      "source": [
        "###4.2설명: 통계적 해석\n",
        "\n",
        "\n",
        "*   R-squared (결정계수, coefficient of determinant): 모델의 성능\n",
        "*   coeff(회귀계수): X가 한단위 증가할 떄 Y의 변화량\n",
        "*   P>|t| (p-value): 0.05(유의수준) 이하일 떄 변수가 유의미\n",
        "\n"
      ]
    },
    {
      "cell_type": "code",
      "metadata": {
        "colab": {
          "base_uri": "https://localhost:8080/"
        },
        "id": "ggwEEv59dRql",
        "outputId": "0790858d-e433-4f11-acfb-83a4256d3181"
      },
      "source": [
        "print(model_trained.summary())"
      ],
      "execution_count": null,
      "outputs": [
        {
          "output_type": "stream",
          "text": [
            "                            OLS Regression Results                            \n",
            "==============================================================================\n",
            "Dep. Variable:                   MEDV   R-squared:                       0.756\n",
            "Model:                            OLS   Adj. R-squared:                  0.748\n",
            "Method:                 Least Squares   F-statistic:                     93.01\n",
            "Date:                Sat, 21 Aug 2021   Prob (F-statistic):          1.02e-110\n",
            "Time:                        11:25:31   Log-Likelihood:                -1196.3\n",
            "No. Observations:                 404   AIC:                             2421.\n",
            "Df Residuals:                     390   BIC:                             2477.\n",
            "Df Model:                          13                                         \n",
            "Covariance Type:            nonrobust                                         \n",
            "==============================================================================\n",
            "                 coef    std err          t      P>|t|      [0.025      0.975]\n",
            "------------------------------------------------------------------------------\n",
            "const         35.0744      5.844      6.002      0.000      23.585      46.564\n",
            "CRIM          -0.1146      0.034     -3.419      0.001      -0.180      -0.049\n",
            "ZN             0.0532      0.015      3.488      0.001       0.023       0.083\n",
            "INDUS          0.0033      0.068      0.048      0.962      -0.131       0.138\n",
            "CHAS           3.5085      1.013      3.464      0.001       1.517       5.500\n",
            "NOX          -18.1357      4.211     -4.307      0.000     -26.414      -9.857\n",
            "RM             3.8252      0.478      8.011      0.000       2.886       4.764\n",
            "AGE            0.0111      0.015      0.714      0.476      -0.019       0.042\n",
            "DIS           -1.5300      0.227     -6.731      0.000      -1.977      -1.083\n",
            "RAD            0.3392      0.071      4.747      0.000       0.199       0.480\n",
            "TAX           -0.0119      0.004     -2.918      0.004      -0.020      -0.004\n",
            "PTRATIO       -0.8842      0.149     -5.920      0.000      -1.178      -0.591\n",
            "B              0.0095      0.003      3.227      0.001       0.004       0.015\n",
            "LSTAT         -0.5782      0.059     -9.850      0.000      -0.694      -0.463\n",
            "==============================================================================\n",
            "Omnibus:                      137.227   Durbin-Watson:                   1.873\n",
            "Prob(Omnibus):                  0.000   Jarque-Bera (JB):              530.658\n",
            "Skew:                           1.475   Prob(JB):                    5.88e-116\n",
            "Kurtosis:                       7.777   Cond. No.                     1.55e+04\n",
            "==============================================================================\n",
            "\n",
            "Warnings:\n",
            "[1] Standard Errors assume that the covariance matrix of the errors is correctly specified.\n",
            "[2] The condition number is large, 1.55e+04. This might indicate that there are\n",
            "strong multicollinearity or other numerical problems.\n"
          ],
          "name": "stdout"
        }
      ]
    },
    {
      "cell_type": "code",
      "metadata": {
        "colab": {
          "base_uri": "https://localhost:8080/"
        },
        "id": "eECU8OqedyzO",
        "outputId": "bfe69638-9201-4d70-a099-511564d3a4ab"
      },
      "source": [
        "#p-value가 높은 변수 제거: INDUS, AGE\n",
        "model = sm.OLS(y_train, X_train.drop(['INDUS', 'AGE'], axis=1))\n",
        "model_trained = model.fit()\n",
        "print(model_trained.summary())"
      ],
      "execution_count": null,
      "outputs": [
        {
          "output_type": "stream",
          "text": [
            "                            OLS Regression Results                            \n",
            "==============================================================================\n",
            "Dep. Variable:                   MEDV   R-squared:                       0.756\n",
            "Model:                            OLS   Adj. R-squared:                  0.749\n",
            "Method:                 Least Squares   F-statistic:                     110.3\n",
            "Date:                Sat, 21 Aug 2021   Prob (F-statistic):          1.19e-112\n",
            "Time:                        11:28:51   Log-Likelihood:                -1196.5\n",
            "No. Observations:                 404   AIC:                             2417.\n",
            "Df Residuals:                     392   BIC:                             2465.\n",
            "Df Model:                          11                                         \n",
            "Covariance Type:            nonrobust                                         \n",
            "==============================================================================\n",
            "                 coef    std err          t      P>|t|      [0.025      0.975]\n",
            "------------------------------------------------------------------------------\n",
            "const         34.6295      5.783      5.988      0.000      23.260      45.999\n",
            "CRIM          -0.1149      0.033     -3.441      0.001      -0.181      -0.049\n",
            "ZN             0.0522      0.015      3.449      0.001       0.022       0.082\n",
            "CHAS           3.5374      1.007      3.514      0.000       1.558       5.516\n",
            "NOX          -17.2688      3.883     -4.447      0.000     -24.903      -9.635\n",
            "RM             3.9019      0.463      8.426      0.000       2.991       4.812\n",
            "DIS           -1.5845      0.208     -7.603      0.000      -1.994      -1.175\n",
            "RAD            0.3354      0.068      4.931      0.000       0.202       0.469\n",
            "TAX           -0.0118      0.004     -3.253      0.001      -0.019      -0.005\n",
            "PTRATIO       -0.8708      0.146     -5.949      0.000      -1.159      -0.583\n",
            "B              0.0097      0.003      3.293      0.001       0.004       0.015\n",
            "LSTAT         -0.5624      0.054    -10.385      0.000      -0.669      -0.456\n",
            "==============================================================================\n",
            "Omnibus:                      141.554   Durbin-Watson:                   1.873\n",
            "Prob(Omnibus):                  0.000   Jarque-Bera (JB):              569.018\n",
            "Skew:                           1.511   Prob(JB):                    2.75e-124\n",
            "Kurtosis:                       7.967   Cond. No.                     1.50e+04\n",
            "==============================================================================\n",
            "\n",
            "Warnings:\n",
            "[1] Standard Errors assume that the covariance matrix of the errors is correctly specified.\n",
            "[2] The condition number is large, 1.5e+04. This might indicate that there are\n",
            "strong multicollinearity or other numerical problems.\n"
          ],
          "name": "stdout"
        }
      ]
    },
    {
      "cell_type": "markdown",
      "metadata": {
        "id": "vJvQ_Bn7eNDU"
      },
      "source": [
        "R_squared나 adj.R_sqaured가 좋아지지는 않았지만 0.05이상의 p-value 값을 가지는 column(변수)들은 무의미 하므로 drop!"
      ]
    },
    {
      "cell_type": "markdown",
      "metadata": {
        "id": "QI33p2ERNc0D"
      },
      "source": [
        "###4.3예측\n",
        "\n",
        "### 예측 값에 대한 오차 구하기\n",
        "*   Mean Squared Error(평균 제곱 오차)\n",
        "*   Root Mean Squared(제곱근 평균 오차)\n",
        "*   Mean Absolute Error(평균 절대값 오차)\n",
        "*   Mean Absolute Percentage Error(평균 절대 백분율 오차)\n",
        "*   R-squred(결정계수)\n"
      ]
    },
    {
      "cell_type": "code",
      "metadata": {
        "colab": {
          "base_uri": "https://localhost:8080/",
          "height": 1000
        },
        "id": "jPYI2uMsNVs7",
        "outputId": "571bcd04-c93a-4ea1-91fb-3209aa15e992"
      },
      "source": [
        "y_train_pred = model_trained.fittedvalues\n",
        "\n",
        "plt.figure(figsize = (8,8))\n",
        "plt.title('실제값 vs 모델 출력 값')\n",
        "plt.scatter(y_train, y_train_pred)\n",
        "plt.plot([-5,55],[-5,55],ls='--',c='red')\n",
        "plt.xlabel('실제값', size=16)\n",
        "plt.ylabel('모델 출력 값', size=16)\n",
        "plt.xlim(-5.55)\n",
        "plt.ylim(-5.55)\n",
        "plt.show()"
      ],
      "execution_count": null,
      "outputs": [
        {
          "output_type": "stream",
          "text": [
            "/usr/local/lib/python3.7/dist-packages/matplotlib/backends/backend_agg.py:214: RuntimeWarning: Glyph 49892 missing from current font.\n",
            "  font.set_text(s, 0.0, flags=flags)\n",
            "/usr/local/lib/python3.7/dist-packages/matplotlib/backends/backend_agg.py:214: RuntimeWarning: Glyph 51228 missing from current font.\n",
            "  font.set_text(s, 0.0, flags=flags)\n",
            "/usr/local/lib/python3.7/dist-packages/matplotlib/backends/backend_agg.py:214: RuntimeWarning: Glyph 44050 missing from current font.\n",
            "  font.set_text(s, 0.0, flags=flags)\n",
            "/usr/local/lib/python3.7/dist-packages/matplotlib/backends/backend_agg.py:214: RuntimeWarning: Glyph 47784 missing from current font.\n",
            "  font.set_text(s, 0.0, flags=flags)\n",
            "/usr/local/lib/python3.7/dist-packages/matplotlib/backends/backend_agg.py:214: RuntimeWarning: Glyph 45944 missing from current font.\n",
            "  font.set_text(s, 0.0, flags=flags)\n",
            "/usr/local/lib/python3.7/dist-packages/matplotlib/backends/backend_agg.py:214: RuntimeWarning: Glyph 52636 missing from current font.\n",
            "  font.set_text(s, 0.0, flags=flags)\n",
            "/usr/local/lib/python3.7/dist-packages/matplotlib/backends/backend_agg.py:214: RuntimeWarning: Glyph 47141 missing from current font.\n",
            "  font.set_text(s, 0.0, flags=flags)\n",
            "findfont: Font family ['Malgun Gothic'] not found. Falling back to DejaVu Sans.\n",
            "/usr/local/lib/python3.7/dist-packages/matplotlib/backends/backend_agg.py:183: RuntimeWarning: Glyph 49892 missing from current font.\n",
            "  font.set_text(s, 0, flags=flags)\n",
            "/usr/local/lib/python3.7/dist-packages/matplotlib/backends/backend_agg.py:183: RuntimeWarning: Glyph 51228 missing from current font.\n",
            "  font.set_text(s, 0, flags=flags)\n",
            "/usr/local/lib/python3.7/dist-packages/matplotlib/backends/backend_agg.py:183: RuntimeWarning: Glyph 44050 missing from current font.\n",
            "  font.set_text(s, 0, flags=flags)\n",
            "/usr/local/lib/python3.7/dist-packages/matplotlib/backends/backend_agg.py:183: RuntimeWarning: Glyph 47784 missing from current font.\n",
            "  font.set_text(s, 0, flags=flags)\n",
            "/usr/local/lib/python3.7/dist-packages/matplotlib/backends/backend_agg.py:183: RuntimeWarning: Glyph 45944 missing from current font.\n",
            "  font.set_text(s, 0, flags=flags)\n",
            "/usr/local/lib/python3.7/dist-packages/matplotlib/backends/backend_agg.py:183: RuntimeWarning: Glyph 52636 missing from current font.\n",
            "  font.set_text(s, 0, flags=flags)\n",
            "/usr/local/lib/python3.7/dist-packages/matplotlib/backends/backend_agg.py:183: RuntimeWarning: Glyph 47141 missing from current font.\n",
            "  font.set_text(s, 0, flags=flags)\n"
          ],
          "name": "stderr"
        },
        {
          "output_type": "display_data",
          "data": {
            "image/png": "[encoded data removed]",
            "text/plain": [
              "<Figure size 576x576 with 1 Axes>"
            ]
          },
          "metadata": {
            "needs_background": "light"
          }
        }
      ]
    },
    {
      "cell_type": "code",
      "metadata": {
        "id": "RJKlYcdIfhZH"
      },
      "source": [
        "X_test = sm.add_constant(X_test)"
      ],
      "execution_count": null,
      "outputs": []
    },
    {
      "cell_type": "code",
      "metadata": {
        "colab": {
          "base_uri": "https://localhost:8080/"
        },
        "id": "hnkNnuqUfmo9",
        "outputId": "bd9e68b8-07c4-484e-9308-bfca5ba16053"
      },
      "source": [
        "y_test_pred = model_trained.predict(X_test.drop(['INDUS', 'AGE'], axis=1))\n",
        "y_test_pred.head()"
      ],
      "execution_count": null,
      "outputs": [
        {
          "output_type": "execute_result",
          "data": {
            "text/plain": [
              "210    22.787949\n",
              "24     15.482380\n",
              "36     22.346630\n",
              "439    13.433993\n",
              "161    36.890921\n",
              "dtype: float64"
            ]
          },
          "metadata": {},
          "execution_count": 41
        }
      ]
    },
    {
      "cell_type": "code",
      "metadata": {
        "colab": {
          "base_uri": "https://localhost:8080/"
        },
        "id": "r7boejhQgC7G",
        "outputId": "258b21ab-1ecc-40a1-eb0c-3429cdc1aa0d"
      },
      "source": [
        "#Mean Squared Error(평균 제곱 오차)\n",
        "print(mean_squared_error(y_test, y_test_pred))"
      ],
      "execution_count": null,
      "outputs": [
        {
          "output_type": "stream",
          "text": [
            "23.06315824035388\n"
          ],
          "name": "stdout"
        }
      ]
    },
    {
      "cell_type": "code",
      "metadata": {
        "colab": {
          "base_uri": "https://localhost:8080/"
        },
        "id": "fkepQIRCgQnu",
        "outputId": "49b5c459-eaa7-417d-8ee1-e0568a9658b4"
      },
      "source": [
        "#Root Mean Squared Error(제곱근 평균 제곱 오차)\n",
        "print(np.sqrt(mean_squared_error(y_test, y_test_pred)))"
      ],
      "execution_count": null,
      "outputs": [
        {
          "output_type": "stream",
          "text": [
            "4.802411710833827\n"
          ],
          "name": "stdout"
        }
      ]
    },
    {
      "cell_type": "code",
      "metadata": {
        "colab": {
          "base_uri": "https://localhost:8080/"
        },
        "id": "1Nzrr6yhgmJk",
        "outputId": "a14708da-aed3-49b6-e5af-fef93250bc68"
      },
      "source": [
        "#Mean Absolute Error(평균 절대 오차)\n",
        "print(mean_absolute_error(y_test,y_test_pred))"
      ],
      "execution_count": null,
      "outputs": [
        {
          "output_type": "stream",
          "text": [
            "3.5123023508951228\n"
          ],
          "name": "stdout"
        }
      ]
    },
    {
      "cell_type": "code",
      "metadata": {
        "colab": {
          "base_uri": "https://localhost:8080/"
        },
        "id": "9EHofeQdgvz-",
        "outputId": "bc09840b-f554-4526-ed7a-63b0fd21eff8"
      },
      "source": [
        "#Mean Abolute Percentage Error(평균 절대 백분율 오차)\n",
        "def mean_absolute_percentage_eroor(y_true, y_predict):\n",
        "  y_true, y_predict = np.array(y_true), np.array(y_predict)\n",
        "  return np.mean(np.abs((y_true-y_predict)/y_true))*100\n",
        "\n",
        "print(mean_absolute_percentage_eroor(y_test, y_test_pred)) "
      ],
      "execution_count": null,
      "outputs": [
        {
          "output_type": "stream",
          "text": [
            "43.94575164039093\n"
          ],
          "name": "stdout"
        }
      ]
    },
    {
      "cell_type": "code",
      "metadata": {
        "colab": {
          "base_uri": "https://localhost:8080/"
        },
        "id": "K-x_ZNIfiN9f",
        "outputId": "1097657c-1516-4abf-f4e3-b9ca68f4095b"
      },
      "source": [
        "print(r2_score(y_test, y_test_pred))"
      ],
      "execution_count": null,
      "outputs": [
        {
          "output_type": "stream",
          "text": [
            "0.6389403215499557\n"
          ],
          "name": "stdout"
        }
      ]
    },
    {
      "cell_type": "markdown",
      "metadata": {
        "id": "tvOmk6Q5PAEA"
      },
      "source": [
        "###4.3최종 결과정리"
      ]
    },
    {
      "cell_type": "code",
      "metadata": {
        "colab": {
          "base_uri": "https://localhost:8080/"
        },
        "id": "S_QRImarO_rU",
        "outputId": "c3e727f6-caa8-47a5-f300-0b080e138643"
      },
      "source": [
        "print(\"Training MSE: {:.3f}\".format(mean_squared_error(y_train, y_train_pred)))\n",
        "print(\"Training RMSE: {:.3f}\".format(np.sqrt(mean_squared_error(y_train, y_train_pred))))\n",
        "print(\"Training MAE: {:.3f}\".format(mean_absolute_error(y_train, y_train_pred)))\n",
        "print(\"Training MAPE: {:.3f}\".format(mean_absolute_percentage_eroor(y_train, y_train_pred)))\n",
        "print(\"Training R2: {:.3f}\".format(r2_score(y_train, y_train_pred)))"
      ],
      "execution_count": null,
      "outputs": [
        {
          "output_type": "stream",
          "text": [
            "Training MSE: 21.881\n",
            "Training RMSE: 4.678\n",
            "Training MAE: 3.315\n",
            "Training MAPE: 51.174\n",
            "Training R2: 0.756\n"
          ],
          "name": "stdout"
        }
      ]
    },
    {
      "cell_type": "code",
      "metadata": {
        "colab": {
          "base_uri": "https://localhost:8080/"
        },
        "id": "csv4Zw2Jrewq",
        "outputId": "9edcaa98-3ea2-4870-cd13-3daa9d7188d9"
      },
      "source": [
        "print(\"Testing MSE: {:.3f}\".format(mean_squared_error(y_test, y_test_pred)))\n",
        "print(\"Testing RMSE: {:.3f}\".format(np.sqrt(mean_squared_error(y_test, y_test_pred))))\n",
        "print(\"Testing MAE: {:.3f}\".format(mean_absolute_error(y_test, y_test_pred)))\n",
        "print(\"Testing MAPE: {:.3f}\".format(mean_absolute_percentage_eroor(y_test, y_test_pred)))\n",
        "print(\"Testing R2: {:.3f}\".format(r2_score(y_test, y_test_pred)))"
      ],
      "execution_count": null,
      "outputs": [
        {
          "output_type": "stream",
          "text": [
            "Testing MSE: 23.063\n",
            "Testing RMSE: 4.802\n",
            "Testing MAE: 3.512\n",
            "Testing MAPE: 43.946\n",
            "Testing R2: 0.639\n"
          ],
          "name": "stdout"
        }
      ]
    },
    {
      "cell_type": "markdown",
      "metadata": {
        "id": "XA2_fk63Vfe9"
      },
      "source": [
        "## 5. sklearn 결과 (with 통계적 결과 비교)"
      ]
    },
    {
      "cell_type": "code",
      "metadata": {
        "id": "XbIhQ4-CPFUJ"
      },
      "source": [
        "from sklearn.linear_model import LinearRegression"
      ],
      "execution_count": null,
      "outputs": []
    },
    {
      "cell_type": "code",
      "metadata": {
        "id": "rTqgM7wIlhN1"
      },
      "source": [
        "lr_skl = LinearRegression(fit_intercept=False)  #default는 True\n",
        "lr_skl.fit(X_train, y_train)\n",
        "y_pred_skl = lr_skl.predict(X_test)"
      ],
      "execution_count": null,
      "outputs": []
    },
    {
      "cell_type": "code",
      "metadata": {
        "colab": {
          "base_uri": "https://localhost:8080/"
        },
        "id": "5kE7q0gOl8Dm",
        "outputId": "5049fcf2-46f3-477d-8580-996723bb1b9e"
      },
      "source": [
        "print(\"Testing MSE: {:.3f}\".format(mean_squared_error(y_test, y_pred_skl)))\n",
        "print(\"Testing RMSE: {:.3f}\".format(np.sqrt(mean_squared_error(y_test, y_pred_skl))))\n",
        "print(\"Testing MAE: {:.3f}\".format(mean_absolute_error(y_test, y_pred_skl)))\n",
        "print(\"Testing MAPE: {:.3f}\".format(mean_absolute_percentage_eroor(y_test, y_pred_skl)))\n",
        "print(\"Testing R2: {:.3f}\".format(r2_score(y_test, y_pred_skl)))"
      ],
      "execution_count": null,
      "outputs": [
        {
          "output_type": "stream",
          "text": [
            "Testing MSE: 23.300\n",
            "Testing RMSE: 4.827\n",
            "Testing MAE: 3.519\n",
            "Testing MAPE: 17.366\n",
            "Testing R2: 0.635\n"
          ],
          "name": "stdout"
        }
      ]
    },
    {
      "cell_type": "markdown",
      "metadata": {
        "id": "mJjIVLRymOi3"
      },
      "source": [
        "결과 : sklearn이나 statmodels나 별 차이 없음"
      ]
    },
    {
      "cell_type": "markdown",
      "metadata": {
        "id": "a479FCfgV810"
      },
      "source": [
        "EOD"
      ]
    }
  ]
}