{
  "nbformat": 4,
  "nbformat_minor": 0,
  "metadata": {
    "colab": {
      "name": "KNN 실습",
      "provenance": [],
      "collapsed_sections": [
        "1-9FmO0rU3oj",
        "ZQMChPo5U7K4",
        "ffqOisVlVHBH",
        "UEp-lknkm3Rk",
        "z2SL4CgvqLxA",
        "c6DWxnGtqlWB",
        "xSUb6PNwrzZA",
        "1LfXpZI2rhF2",
        "U3kLToIrr1MF",
        "QI33p2ERNc0D",
        "tvOmk6Q5PAEA"
      ],
      "mount_file_id": "11yPn0t_OZvPH46pPNK8ISt7CO8RmpNM1",
      "authorship_tag": "ABX9TyOnMRYti9d7cZfgpqxKii3X",
      "include_colab_link": true
    },
    "kernelspec": {
      "name": "python3",
      "display_name": "Python 3"
    },
    "language_info": {
      "name": "python"
    },
    "accelerator": "GPU"
  },
  "cells": [
    {
      "cell_type": "markdown",
      "metadata": {
        "id": "view-in-github",
        "colab_type": "text"
      },
      "source": [
        "<a href=\"https://colab.research.google.com/github/BR-Lab/ML-algorithm/blob/main/KNN_%EC%8B%A4%EC%8A%B5.ipynb\" target=\"_parent\"><img src=\"https://colab.research.google.com/assets/colab-badge.svg\" alt=\"Open In Colab\"/></a>"
      ]
    },
    {
      "cell_type": "markdown",
      "metadata": {
        "id": "jMzCpQTbUn5-"
      },
      "source": [
        "# KNN 실습"
      ]
    },
    {
      "cell_type": "markdown",
      "metadata": {
        "id": "1-9FmO0rU3oj"
      },
      "source": [
        "## 0.Introduction"
      ]
    },
    {
      "cell_type": "markdown",
      "metadata": {
        "id": "140OIsszmbGk"
      },
      "source": [
        "<분석 모델>\n",
        "*  데이터 전처리\n",
        "*  KNN model들 구축(hyperparameter 탐색)\n",
        "   * k-fold cross validation 활용해 K & distance 선정\n",
        "*  예측 결과 평가(k-fold validation) & weighted KNN 구축\n",
        "\n",
        "<분석 데이터>\n",
        "*  유방암 진단결과 data"
      ]
    },
    {
      "cell_type": "markdown",
      "metadata": {
        "id": "ZQMChPo5U7K4"
      },
      "source": [
        "## 1.import module"
      ]
    },
    {
      "cell_type": "code",
      "metadata": {
        "id": "p8l9TeqsXKgq"
      },
      "source": [
        "from IPython.display import display, HTML\n",
        "import warnings\n",
        "warnings.filterwarnings(action = 'ignore')\n",
        "\n",
        "# 데이터 로드\n",
        "from sklearn.datasets import load_breast_cancer\n",
        "\n",
        "# 데이터 전처리 패키지\n",
        "import numpy as np\n",
        "import pandas as pd\n",
        "from sklearn.preprocessing import StandardScaler\n",
        "\n",
        "# 기계학습 모델 및 평가\n",
        "from sklearn.model_selection import cross_val_score, train_test_split\n",
        "from sklearn.neighbors import KNeighborsClassifier\n",
        "from sklearn.neighbors import NearestNeighbors\n",
        "from sklearn.metrics import accuracy_score, recall_score, precision_score\n",
        "from tqdm import tqdm\n",
        "\n",
        "from sklearn.model_selection import KFold\n",
        "from scipy.stats import spearmanr\n",
        "\n",
        "#데이터 시각화 패키지\n",
        "import seaborn as sns\n",
        "import matplotlib.pyplot as plt\n",
        "import matplotlib.patches as mpatches\n",
        "import matplotlib\n",
        "from matplotlib.colors import ListedColormap\n",
        "matplotlib.rcParams['axes.unicode_minus'] = False\n",
        "\n",
        "#한글 폰트 설정\n",
        "plt.rc('font', family = 'Malgun Gothic')"
      ],
      "execution_count": null,
      "outputs": []
    },
    {
      "cell_type": "markdown",
      "metadata": {
        "id": "ffqOisVlVHBH"
      },
      "source": [
        "## 2.데이터 불러오기 & 분석 및 전처리"
      ]
    },
    {
      "cell_type": "markdown",
      "metadata": {
        "id": "UEp-lknkm3Rk"
      },
      "source": [
        "###2.1 data description\n",
        "\n",
        "<데이터 구조>\n",
        "\n",
        "\n",
        "*   데이터 : 유방암 진단결과\n",
        "*   관측치 개수: 569개\n",
        "*   변수 개수: 32개(설명변수: 30개, 반응변수: 1개(1(양성),0(음성)), ID)\n"
      ]
    },
    {
      "cell_type": "code",
      "metadata": {
        "colab": {
          "base_uri": "https://localhost:8080/"
        },
        "id": "gjfFH-cqVA0a",
        "outputId": "aac262b0-02fb-464a-e55e-b2de9d68bd6a"
      },
      "source": [
        "# load data\n",
        "breast_cancer = load_breast_cancer()\n",
        "print(breast_cancer.DESCR)"
      ],
      "execution_count": null,
      "outputs": [
        {
          "output_type": "stream",
          "name": "stdout",
          "text": [
            ".. _breast_cancer_dataset:\n",
            "\n",
            "Breast cancer wisconsin (diagnostic) dataset\n",
            "--------------------------------------------\n",
            "\n",
            "**Data Set Characteristics:**\n",
            "\n",
            "    :Number of Instances: 569\n",
            "\n",
            "    :Number of Attributes: 30 numeric, predictive attributes and the class\n",
            "\n",
            "    :Attribute Information:\n",
            "        - radius (mean of distances from center to points on the perimeter)\n",
            "        - texture (standard deviation of gray-scale values)\n",
            "        - perimeter\n",
            "        - area\n",
            "        - smoothness (local variation in radius lengths)\n",
            "        - compactness (perimeter^2 / area - 1.0)\n",
            "        - concavity (severity of concave portions of the contour)\n",
            "        - concave points (number of concave portions of the contour)\n",
            "        - symmetry \n",
            "        - fractal dimension (\"coastline approximation\" - 1)\n",
            "\n",
            "        The mean, standard error, and \"worst\" or largest (mean of the three\n",
            "        largest values) of these features were computed for each image,\n",
            "        resulting in 30 features.  For instance, field 3 is Mean Radius, field\n",
            "        13 is Radius SE, field 23 is Worst Radius.\n",
            "\n",
            "        - class:\n",
            "                - WDBC-Malignant\n",
            "                - WDBC-Benign\n",
            "\n",
            "    :Summary Statistics:\n",
            "\n",
            "    ===================================== ====== ======\n",
            "                                           Min    Max\n",
            "    ===================================== ====== ======\n",
            "    radius (mean):                        6.981  28.11\n",
            "    texture (mean):                       9.71   39.28\n",
            "    perimeter (mean):                     43.79  188.5\n",
            "    area (mean):                          143.5  2501.0\n",
            "    smoothness (mean):                    0.053  0.163\n",
            "    compactness (mean):                   0.019  0.345\n",
            "    concavity (mean):                     0.0    0.427\n",
            "    concave points (mean):                0.0    0.201\n",
            "    symmetry (mean):                      0.106  0.304\n",
            "    fractal dimension (mean):             0.05   0.097\n",
            "    radius (standard error):              0.112  2.873\n",
            "    texture (standard error):             0.36   4.885\n",
            "    perimeter (standard error):           0.757  21.98\n",
            "    area (standard error):                6.802  542.2\n",
            "    smoothness (standard error):          0.002  0.031\n",
            "    compactness (standard error):         0.002  0.135\n",
            "    concavity (standard error):           0.0    0.396\n",
            "    concave points (standard error):      0.0    0.053\n",
            "    symmetry (standard error):            0.008  0.079\n",
            "    fractal dimension (standard error):   0.001  0.03\n",
            "    radius (worst):                       7.93   36.04\n",
            "    texture (worst):                      12.02  49.54\n",
            "    perimeter (worst):                    50.41  251.2\n",
            "    area (worst):                         185.2  4254.0\n",
            "    smoothness (worst):                   0.071  0.223\n",
            "    compactness (worst):                  0.027  1.058\n",
            "    concavity (worst):                    0.0    1.252\n",
            "    concave points (worst):               0.0    0.291\n",
            "    symmetry (worst):                     0.156  0.664\n",
            "    fractal dimension (worst):            0.055  0.208\n",
            "    ===================================== ====== ======\n",
            "\n",
            "    :Missing Attribute Values: None\n",
            "\n",
            "    :Class Distribution: 212 - Malignant, 357 - Benign\n",
            "\n",
            "    :Creator:  Dr. William H. Wolberg, W. Nick Street, Olvi L. Mangasarian\n",
            "\n",
            "    :Donor: Nick Street\n",
            "\n",
            "    :Date: November, 1995\n",
            "\n",
            "This is a copy of UCI ML Breast Cancer Wisconsin (Diagnostic) datasets.\n",
            "https://goo.gl/U2Uwz2\n",
            "\n",
            "Features are computed from a digitized image of a fine needle\n",
            "aspirate (FNA) of a breast mass.  They describe\n",
            "characteristics of the cell nuclei present in the image.\n",
            "\n",
            "Separating plane described above was obtained using\n",
            "Multisurface Method-Tree (MSM-T) [K. P. Bennett, \"Decision Tree\n",
            "Construction Via Linear Programming.\" Proceedings of the 4th\n",
            "Midwest Artificial Intelligence and Cognitive Science Society,\n",
            "pp. 97-101, 1992], a classification method which uses linear\n",
            "programming to construct a decision tree.  Relevant features\n",
            "were selected using an exhaustive search in the space of 1-4\n",
            "features and 1-3 separating planes.\n",
            "\n",
            "The actual linear program used to obtain the separating plane\n",
            "in the 3-dimensional space is that described in:\n",
            "[K. P. Bennett and O. L. Mangasarian: \"Robust Linear\n",
            "Programming Discrimination of Two Linearly Inseparable Sets\",\n",
            "Optimization Methods and Software 1, 1992, 23-34].\n",
            "\n",
            "This database is also available through the UW CS ftp server:\n",
            "\n",
            "ftp ftp.cs.wisc.edu\n",
            "cd math-prog/cpo-dataset/machine-learn/WDBC/\n",
            "\n",
            ".. topic:: References\n",
            "\n",
            "   - W.N. Street, W.H. Wolberg and O.L. Mangasarian. Nuclear feature extraction \n",
            "     for breast tumor diagnosis. IS&T/SPIE 1993 International Symposium on \n",
            "     Electronic Imaging: Science and Technology, volume 1905, pages 861-870,\n",
            "     San Jose, CA, 1993.\n",
            "   - O.L. Mangasarian, W.N. Street and W.H. Wolberg. Breast cancer diagnosis and \n",
            "     prognosis via linear programming. Operations Research, 43(4), pages 570-577, \n",
            "     July-August 1995.\n",
            "   - W.H. Wolberg, W.N. Street, and O.L. Mangasarian. Machine learning techniques\n",
            "     to diagnose breast cancer from fine-needle aspirates. Cancer Letters 77 (1994) \n",
            "     163-171.\n"
          ]
        }
      ]
    },
    {
      "cell_type": "code",
      "metadata": {
        "colab": {
          "base_uri": "https://localhost:8080/"
        },
        "id": "DYnxNBnbSTgn",
        "outputId": "5c55677d-a4dc-41dd-aa44-0a140bb40c9d"
      },
      "source": [
        "breast_cancer.data.shape"
      ],
      "execution_count": null,
      "outputs": [
        {
          "output_type": "execute_result",
          "data": {
            "text/plain": [
              "(569, 30)"
            ]
          },
          "metadata": {},
          "execution_count": 3
        }
      ]
    },
    {
      "cell_type": "markdown",
      "metadata": {
        "id": "z2SL4CgvqLxA"
      },
      "source": [
        "##3 탐색적 데이터 분석 & 데이터 전처리"
      ]
    },
    {
      "cell_type": "code",
      "metadata": {
        "id": "D3rkZQi5iozc"
      },
      "source": [
        "# 데이터 프레임 형태로 변환\n",
        "X = pd.DataFrame(breast_cancer.data, columns=breast_cancer.feature_names)\n",
        "y = pd.DataFrame(breast_cancer.target, columns=['diagnosis'])"
      ],
      "execution_count": null,
      "outputs": []
    },
    {
      "cell_type": "code",
      "metadata": {
        "colab": {
          "base_uri": "https://localhost:8080/",
          "height": 254
        },
        "id": "PJ8h50MTamtQ",
        "outputId": "7b587af1-89e3-487a-adc8-2cab0f00e050"
      },
      "source": [
        "X.head()"
      ],
      "execution_count": null,
      "outputs": [
        {
          "output_type": "execute_result",
          "data": {
            "text/html": [
              "<div>\n",
              "<style scoped>\n",
              "    .dataframe tbody tr th:only-of-type {\n",
              "        vertical-align: middle;\n",
              "    }\n",
              "\n",
              "    .dataframe tbody tr th {\n",
              "        vertical-align: top;\n",
              "    }\n",
              "\n",
              "    .dataframe thead th {\n",
              "        text-align: right;\n",
              "    }\n",
              "</style>\n",
              "<table border=\"1\" class=\"dataframe\">\n",
              "  <thead>\n",
              "    <tr style=\"text-align: right;\">\n",
              "      <th></th>\n",
              "      <th>mean radius</th>\n",
              "      <th>mean texture</th>\n",
              "      <th>mean perimeter</th>\n",
              "      <th>mean area</th>\n",
              "      <th>mean smoothness</th>\n",
              "      <th>mean compactness</th>\n",
              "      <th>mean concavity</th>\n",
              "      <th>mean concave points</th>\n",
              "      <th>mean symmetry</th>\n",
              "      <th>mean fractal dimension</th>\n",
              "      <th>radius error</th>\n",
              "      <th>texture error</th>\n",
              "      <th>perimeter error</th>\n",
              "      <th>area error</th>\n",
              "      <th>smoothness error</th>\n",
              "      <th>compactness error</th>\n",
              "      <th>concavity error</th>\n",
              "      <th>concave points error</th>\n",
              "      <th>symmetry error</th>\n",
              "      <th>fractal dimension error</th>\n",
              "      <th>worst radius</th>\n",
              "      <th>worst texture</th>\n",
              "      <th>worst perimeter</th>\n",
              "      <th>worst area</th>\n",
              "      <th>worst smoothness</th>\n",
              "      <th>worst compactness</th>\n",
              "      <th>worst concavity</th>\n",
              "      <th>worst concave points</th>\n",
              "      <th>worst symmetry</th>\n",
              "      <th>worst fractal dimension</th>\n",
              "    </tr>\n",
              "  </thead>\n",
              "  <tbody>\n",
              "    <tr>\n",
              "      <th>0</th>\n",
              "      <td>17.99</td>\n",
              "      <td>10.38</td>\n",
              "      <td>122.80</td>\n",
              "      <td>1001.0</td>\n",
              "      <td>0.11840</td>\n",
              "      <td>0.27760</td>\n",
              "      <td>0.3001</td>\n",
              "      <td>0.14710</td>\n",
              "      <td>0.2419</td>\n",
              "      <td>0.07871</td>\n",
              "      <td>1.0950</td>\n",
              "      <td>0.9053</td>\n",
              "      <td>8.589</td>\n",
              "      <td>153.40</td>\n",
              "      <td>0.006399</td>\n",
              "      <td>0.04904</td>\n",
              "      <td>0.05373</td>\n",
              "      <td>0.01587</td>\n",
              "      <td>0.03003</td>\n",
              "      <td>0.006193</td>\n",
              "      <td>25.38</td>\n",
              "      <td>17.33</td>\n",
              "      <td>184.60</td>\n",
              "      <td>2019.0</td>\n",
              "      <td>0.1622</td>\n",
              "      <td>0.6656</td>\n",
              "      <td>0.7119</td>\n",
              "      <td>0.2654</td>\n",
              "      <td>0.4601</td>\n",
              "      <td>0.11890</td>\n",
              "    </tr>\n",
              "    <tr>\n",
              "      <th>1</th>\n",
              "      <td>20.57</td>\n",
              "      <td>17.77</td>\n",
              "      <td>132.90</td>\n",
              "      <td>1326.0</td>\n",
              "      <td>0.08474</td>\n",
              "      <td>0.07864</td>\n",
              "      <td>0.0869</td>\n",
              "      <td>0.07017</td>\n",
              "      <td>0.1812</td>\n",
              "      <td>0.05667</td>\n",
              "      <td>0.5435</td>\n",
              "      <td>0.7339</td>\n",
              "      <td>3.398</td>\n",
              "      <td>74.08</td>\n",
              "      <td>0.005225</td>\n",
              "      <td>0.01308</td>\n",
              "      <td>0.01860</td>\n",
              "      <td>0.01340</td>\n",
              "      <td>0.01389</td>\n",
              "      <td>0.003532</td>\n",
              "      <td>24.99</td>\n",
              "      <td>23.41</td>\n",
              "      <td>158.80</td>\n",
              "      <td>1956.0</td>\n",
              "      <td>0.1238</td>\n",
              "      <td>0.1866</td>\n",
              "      <td>0.2416</td>\n",
              "      <td>0.1860</td>\n",
              "      <td>0.2750</td>\n",
              "      <td>0.08902</td>\n",
              "    </tr>\n",
              "    <tr>\n",
              "      <th>2</th>\n",
              "      <td>19.69</td>\n",
              "      <td>21.25</td>\n",
              "      <td>130.00</td>\n",
              "      <td>1203.0</td>\n",
              "      <td>0.10960</td>\n",
              "      <td>0.15990</td>\n",
              "      <td>0.1974</td>\n",
              "      <td>0.12790</td>\n",
              "      <td>0.2069</td>\n",
              "      <td>0.05999</td>\n",
              "      <td>0.7456</td>\n",
              "      <td>0.7869</td>\n",
              "      <td>4.585</td>\n",
              "      <td>94.03</td>\n",
              "      <td>0.006150</td>\n",
              "      <td>0.04006</td>\n",
              "      <td>0.03832</td>\n",
              "      <td>0.02058</td>\n",
              "      <td>0.02250</td>\n",
              "      <td>0.004571</td>\n",
              "      <td>23.57</td>\n",
              "      <td>25.53</td>\n",
              "      <td>152.50</td>\n",
              "      <td>1709.0</td>\n",
              "      <td>0.1444</td>\n",
              "      <td>0.4245</td>\n",
              "      <td>0.4504</td>\n",
              "      <td>0.2430</td>\n",
              "      <td>0.3613</td>\n",
              "      <td>0.08758</td>\n",
              "    </tr>\n",
              "    <tr>\n",
              "      <th>3</th>\n",
              "      <td>11.42</td>\n",
              "      <td>20.38</td>\n",
              "      <td>77.58</td>\n",
              "      <td>386.1</td>\n",
              "      <td>0.14250</td>\n",
              "      <td>0.28390</td>\n",
              "      <td>0.2414</td>\n",
              "      <td>0.10520</td>\n",
              "      <td>0.2597</td>\n",
              "      <td>0.09744</td>\n",
              "      <td>0.4956</td>\n",
              "      <td>1.1560</td>\n",
              "      <td>3.445</td>\n",
              "      <td>27.23</td>\n",
              "      <td>0.009110</td>\n",
              "      <td>0.07458</td>\n",
              "      <td>0.05661</td>\n",
              "      <td>0.01867</td>\n",
              "      <td>0.05963</td>\n",
              "      <td>0.009208</td>\n",
              "      <td>14.91</td>\n",
              "      <td>26.50</td>\n",
              "      <td>98.87</td>\n",
              "      <td>567.7</td>\n",
              "      <td>0.2098</td>\n",
              "      <td>0.8663</td>\n",
              "      <td>0.6869</td>\n",
              "      <td>0.2575</td>\n",
              "      <td>0.6638</td>\n",
              "      <td>0.17300</td>\n",
              "    </tr>\n",
              "    <tr>\n",
              "      <th>4</th>\n",
              "      <td>20.29</td>\n",
              "      <td>14.34</td>\n",
              "      <td>135.10</td>\n",
              "      <td>1297.0</td>\n",
              "      <td>0.10030</td>\n",
              "      <td>0.13280</td>\n",
              "      <td>0.1980</td>\n",
              "      <td>0.10430</td>\n",
              "      <td>0.1809</td>\n",
              "      <td>0.05883</td>\n",
              "      <td>0.7572</td>\n",
              "      <td>0.7813</td>\n",
              "      <td>5.438</td>\n",
              "      <td>94.44</td>\n",
              "      <td>0.011490</td>\n",
              "      <td>0.02461</td>\n",
              "      <td>0.05688</td>\n",
              "      <td>0.01885</td>\n",
              "      <td>0.01756</td>\n",
              "      <td>0.005115</td>\n",
              "      <td>22.54</td>\n",
              "      <td>16.67</td>\n",
              "      <td>152.20</td>\n",
              "      <td>1575.0</td>\n",
              "      <td>0.1374</td>\n",
              "      <td>0.2050</td>\n",
              "      <td>0.4000</td>\n",
              "      <td>0.1625</td>\n",
              "      <td>0.2364</td>\n",
              "      <td>0.07678</td>\n",
              "    </tr>\n",
              "  </tbody>\n",
              "</table>\n",
              "</div>"
            ],
            "text/plain": [
              "   mean radius  mean texture  ...  worst symmetry  worst fractal dimension\n",
              "0        17.99         10.38  ...          0.4601                  0.11890\n",
              "1        20.57         17.77  ...          0.2750                  0.08902\n",
              "2        19.69         21.25  ...          0.3613                  0.08758\n",
              "3        11.42         20.38  ...          0.6638                  0.17300\n",
              "4        20.29         14.34  ...          0.2364                  0.07678\n",
              "\n",
              "[5 rows x 30 columns]"
            ]
          },
          "metadata": {},
          "execution_count": 5
        }
      ]
    },
    {
      "cell_type": "code",
      "metadata": {
        "colab": {
          "base_uri": "https://localhost:8080/",
          "height": 201
        },
        "id": "Fx-0EJ0xasyS",
        "outputId": "17ae9345-12d6-43ee-9a84-5727d0ac4261"
      },
      "source": [
        "y.tail()"
      ],
      "execution_count": null,
      "outputs": [
        {
          "output_type": "execute_result",
          "data": {
            "text/html": [
              "<div>\n",
              "<style scoped>\n",
              "    .dataframe tbody tr th:only-of-type {\n",
              "        vertical-align: middle;\n",
              "    }\n",
              "\n",
              "    .dataframe tbody tr th {\n",
              "        vertical-align: top;\n",
              "    }\n",
              "\n",
              "    .dataframe thead th {\n",
              "        text-align: right;\n",
              "    }\n",
              "</style>\n",
              "<table border=\"1\" class=\"dataframe\">\n",
              "  <thead>\n",
              "    <tr style=\"text-align: right;\">\n",
              "      <th></th>\n",
              "      <th>diagnosis</th>\n",
              "    </tr>\n",
              "  </thead>\n",
              "  <tbody>\n",
              "    <tr>\n",
              "      <th>564</th>\n",
              "      <td>0</td>\n",
              "    </tr>\n",
              "    <tr>\n",
              "      <th>565</th>\n",
              "      <td>0</td>\n",
              "    </tr>\n",
              "    <tr>\n",
              "      <th>566</th>\n",
              "      <td>0</td>\n",
              "    </tr>\n",
              "    <tr>\n",
              "      <th>567</th>\n",
              "      <td>0</td>\n",
              "    </tr>\n",
              "    <tr>\n",
              "      <th>568</th>\n",
              "      <td>1</td>\n",
              "    </tr>\n",
              "  </tbody>\n",
              "</table>\n",
              "</div>"
            ],
            "text/plain": [
              "     diagnosis\n",
              "564          0\n",
              "565          0\n",
              "566          0\n",
              "567          0\n",
              "568          1"
            ]
          },
          "metadata": {},
          "execution_count": 6
        }
      ]
    },
    {
      "cell_type": "markdown",
      "metadata": {
        "id": "c6DWxnGtqlWB"
      },
      "source": [
        "###3.1 결측치, 데이터 타입 확인"
      ]
    },
    {
      "cell_type": "code",
      "metadata": {
        "colab": {
          "base_uri": "https://localhost:8080/"
        },
        "id": "w1J1FDcHqvd_",
        "outputId": "aeb589a0-9811-4635-bfa4-9609b224c8d3"
      },
      "source": [
        "X.info()"
      ],
      "execution_count": null,
      "outputs": [
        {
          "output_type": "stream",
          "name": "stdout",
          "text": [
            "<class 'pandas.core.frame.DataFrame'>\n",
            "RangeIndex: 569 entries, 0 to 568\n",
            "Data columns (total 30 columns):\n",
            " #   Column                   Non-Null Count  Dtype  \n",
            "---  ------                   --------------  -----  \n",
            " 0   mean radius              569 non-null    float64\n",
            " 1   mean texture             569 non-null    float64\n",
            " 2   mean perimeter           569 non-null    float64\n",
            " 3   mean area                569 non-null    float64\n",
            " 4   mean smoothness          569 non-null    float64\n",
            " 5   mean compactness         569 non-null    float64\n",
            " 6   mean concavity           569 non-null    float64\n",
            " 7   mean concave points      569 non-null    float64\n",
            " 8   mean symmetry            569 non-null    float64\n",
            " 9   mean fractal dimension   569 non-null    float64\n",
            " 10  radius error             569 non-null    float64\n",
            " 11  texture error            569 non-null    float64\n",
            " 12  perimeter error          569 non-null    float64\n",
            " 13  area error               569 non-null    float64\n",
            " 14  smoothness error         569 non-null    float64\n",
            " 15  compactness error        569 non-null    float64\n",
            " 16  concavity error          569 non-null    float64\n",
            " 17  concave points error     569 non-null    float64\n",
            " 18  symmetry error           569 non-null    float64\n",
            " 19  fractal dimension error  569 non-null    float64\n",
            " 20  worst radius             569 non-null    float64\n",
            " 21  worst texture            569 non-null    float64\n",
            " 22  worst perimeter          569 non-null    float64\n",
            " 23  worst area               569 non-null    float64\n",
            " 24  worst smoothness         569 non-null    float64\n",
            " 25  worst compactness        569 non-null    float64\n",
            " 26  worst concavity          569 non-null    float64\n",
            " 27  worst concave points     569 non-null    float64\n",
            " 28  worst symmetry           569 non-null    float64\n",
            " 29  worst fractal dimension  569 non-null    float64\n",
            "dtypes: float64(30)\n",
            "memory usage: 133.5 KB\n"
          ]
        }
      ]
    },
    {
      "cell_type": "code",
      "metadata": {
        "id": "LX8_F2IOqurW",
        "colab": {
          "base_uri": "https://localhost:8080/",
          "height": 345
        },
        "outputId": "e9642619-f6af-4fa2-d1e2-6b4d4beff7eb"
      },
      "source": [
        "X.describe()"
      ],
      "execution_count": null,
      "outputs": [
        {
          "output_type": "execute_result",
          "data": {
            "text/html": [
              "<div>\n",
              "<style scoped>\n",
              "    .dataframe tbody tr th:only-of-type {\n",
              "        vertical-align: middle;\n",
              "    }\n",
              "\n",
              "    .dataframe tbody tr th {\n",
              "        vertical-align: top;\n",
              "    }\n",
              "\n",
              "    .dataframe thead th {\n",
              "        text-align: right;\n",
              "    }\n",
              "</style>\n",
              "<table border=\"1\" class=\"dataframe\">\n",
              "  <thead>\n",
              "    <tr style=\"text-align: right;\">\n",
              "      <th></th>\n",
              "      <th>mean radius</th>\n",
              "      <th>mean texture</th>\n",
              "      <th>mean perimeter</th>\n",
              "      <th>mean area</th>\n",
              "      <th>mean smoothness</th>\n",
              "      <th>mean compactness</th>\n",
              "      <th>mean concavity</th>\n",
              "      <th>mean concave points</th>\n",
              "      <th>mean symmetry</th>\n",
              "      <th>mean fractal dimension</th>\n",
              "      <th>radius error</th>\n",
              "      <th>texture error</th>\n",
              "      <th>perimeter error</th>\n",
              "      <th>area error</th>\n",
              "      <th>smoothness error</th>\n",
              "      <th>compactness error</th>\n",
              "      <th>concavity error</th>\n",
              "      <th>concave points error</th>\n",
              "      <th>symmetry error</th>\n",
              "      <th>fractal dimension error</th>\n",
              "      <th>worst radius</th>\n",
              "      <th>worst texture</th>\n",
              "      <th>worst perimeter</th>\n",
              "      <th>worst area</th>\n",
              "      <th>worst smoothness</th>\n",
              "      <th>worst compactness</th>\n",
              "      <th>worst concavity</th>\n",
              "      <th>worst concave points</th>\n",
              "      <th>worst symmetry</th>\n",
              "      <th>worst fractal dimension</th>\n",
              "    </tr>\n",
              "  </thead>\n",
              "  <tbody>\n",
              "    <tr>\n",
              "      <th>count</th>\n",
              "      <td>569.000000</td>\n",
              "      <td>569.000000</td>\n",
              "      <td>569.000000</td>\n",
              "      <td>569.000000</td>\n",
              "      <td>569.000000</td>\n",
              "      <td>569.000000</td>\n",
              "      <td>569.000000</td>\n",
              "      <td>569.000000</td>\n",
              "      <td>569.000000</td>\n",
              "      <td>569.000000</td>\n",
              "      <td>569.000000</td>\n",
              "      <td>569.000000</td>\n",
              "      <td>569.000000</td>\n",
              "      <td>569.000000</td>\n",
              "      <td>569.000000</td>\n",
              "      <td>569.000000</td>\n",
              "      <td>569.000000</td>\n",
              "      <td>569.000000</td>\n",
              "      <td>569.000000</td>\n",
              "      <td>569.000000</td>\n",
              "      <td>569.000000</td>\n",
              "      <td>569.000000</td>\n",
              "      <td>569.000000</td>\n",
              "      <td>569.000000</td>\n",
              "      <td>569.000000</td>\n",
              "      <td>569.000000</td>\n",
              "      <td>569.000000</td>\n",
              "      <td>569.000000</td>\n",
              "      <td>569.000000</td>\n",
              "      <td>569.000000</td>\n",
              "    </tr>\n",
              "    <tr>\n",
              "      <th>mean</th>\n",
              "      <td>14.127292</td>\n",
              "      <td>19.289649</td>\n",
              "      <td>91.969033</td>\n",
              "      <td>654.889104</td>\n",
              "      <td>0.096360</td>\n",
              "      <td>0.104341</td>\n",
              "      <td>0.088799</td>\n",
              "      <td>0.048919</td>\n",
              "      <td>0.181162</td>\n",
              "      <td>0.062798</td>\n",
              "      <td>0.405172</td>\n",
              "      <td>1.216853</td>\n",
              "      <td>2.866059</td>\n",
              "      <td>40.337079</td>\n",
              "      <td>0.007041</td>\n",
              "      <td>0.025478</td>\n",
              "      <td>0.031894</td>\n",
              "      <td>0.011796</td>\n",
              "      <td>0.020542</td>\n",
              "      <td>0.003795</td>\n",
              "      <td>16.269190</td>\n",
              "      <td>25.677223</td>\n",
              "      <td>107.261213</td>\n",
              "      <td>880.583128</td>\n",
              "      <td>0.132369</td>\n",
              "      <td>0.254265</td>\n",
              "      <td>0.272188</td>\n",
              "      <td>0.114606</td>\n",
              "      <td>0.290076</td>\n",
              "      <td>0.083946</td>\n",
              "    </tr>\n",
              "    <tr>\n",
              "      <th>std</th>\n",
              "      <td>3.524049</td>\n",
              "      <td>4.301036</td>\n",
              "      <td>24.298981</td>\n",
              "      <td>351.914129</td>\n",
              "      <td>0.014064</td>\n",
              "      <td>0.052813</td>\n",
              "      <td>0.079720</td>\n",
              "      <td>0.038803</td>\n",
              "      <td>0.027414</td>\n",
              "      <td>0.007060</td>\n",
              "      <td>0.277313</td>\n",
              "      <td>0.551648</td>\n",
              "      <td>2.021855</td>\n",
              "      <td>45.491006</td>\n",
              "      <td>0.003003</td>\n",
              "      <td>0.017908</td>\n",
              "      <td>0.030186</td>\n",
              "      <td>0.006170</td>\n",
              "      <td>0.008266</td>\n",
              "      <td>0.002646</td>\n",
              "      <td>4.833242</td>\n",
              "      <td>6.146258</td>\n",
              "      <td>33.602542</td>\n",
              "      <td>569.356993</td>\n",
              "      <td>0.022832</td>\n",
              "      <td>0.157336</td>\n",
              "      <td>0.208624</td>\n",
              "      <td>0.065732</td>\n",
              "      <td>0.061867</td>\n",
              "      <td>0.018061</td>\n",
              "    </tr>\n",
              "    <tr>\n",
              "      <th>min</th>\n",
              "      <td>6.981000</td>\n",
              "      <td>9.710000</td>\n",
              "      <td>43.790000</td>\n",
              "      <td>143.500000</td>\n",
              "      <td>0.052630</td>\n",
              "      <td>0.019380</td>\n",
              "      <td>0.000000</td>\n",
              "      <td>0.000000</td>\n",
              "      <td>0.106000</td>\n",
              "      <td>0.049960</td>\n",
              "      <td>0.111500</td>\n",
              "      <td>0.360200</td>\n",
              "      <td>0.757000</td>\n",
              "      <td>6.802000</td>\n",
              "      <td>0.001713</td>\n",
              "      <td>0.002252</td>\n",
              "      <td>0.000000</td>\n",
              "      <td>0.000000</td>\n",
              "      <td>0.007882</td>\n",
              "      <td>0.000895</td>\n",
              "      <td>7.930000</td>\n",
              "      <td>12.020000</td>\n",
              "      <td>50.410000</td>\n",
              "      <td>185.200000</td>\n",
              "      <td>0.071170</td>\n",
              "      <td>0.027290</td>\n",
              "      <td>0.000000</td>\n",
              "      <td>0.000000</td>\n",
              "      <td>0.156500</td>\n",
              "      <td>0.055040</td>\n",
              "    </tr>\n",
              "    <tr>\n",
              "      <th>25%</th>\n",
              "      <td>11.700000</td>\n",
              "      <td>16.170000</td>\n",
              "      <td>75.170000</td>\n",
              "      <td>420.300000</td>\n",
              "      <td>0.086370</td>\n",
              "      <td>0.064920</td>\n",
              "      <td>0.029560</td>\n",
              "      <td>0.020310</td>\n",
              "      <td>0.161900</td>\n",
              "      <td>0.057700</td>\n",
              "      <td>0.232400</td>\n",
              "      <td>0.833900</td>\n",
              "      <td>1.606000</td>\n",
              "      <td>17.850000</td>\n",
              "      <td>0.005169</td>\n",
              "      <td>0.013080</td>\n",
              "      <td>0.015090</td>\n",
              "      <td>0.007638</td>\n",
              "      <td>0.015160</td>\n",
              "      <td>0.002248</td>\n",
              "      <td>13.010000</td>\n",
              "      <td>21.080000</td>\n",
              "      <td>84.110000</td>\n",
              "      <td>515.300000</td>\n",
              "      <td>0.116600</td>\n",
              "      <td>0.147200</td>\n",
              "      <td>0.114500</td>\n",
              "      <td>0.064930</td>\n",
              "      <td>0.250400</td>\n",
              "      <td>0.071460</td>\n",
              "    </tr>\n",
              "    <tr>\n",
              "      <th>50%</th>\n",
              "      <td>13.370000</td>\n",
              "      <td>18.840000</td>\n",
              "      <td>86.240000</td>\n",
              "      <td>551.100000</td>\n",
              "      <td>0.095870</td>\n",
              "      <td>0.092630</td>\n",
              "      <td>0.061540</td>\n",
              "      <td>0.033500</td>\n",
              "      <td>0.179200</td>\n",
              "      <td>0.061540</td>\n",
              "      <td>0.324200</td>\n",
              "      <td>1.108000</td>\n",
              "      <td>2.287000</td>\n",
              "      <td>24.530000</td>\n",
              "      <td>0.006380</td>\n",
              "      <td>0.020450</td>\n",
              "      <td>0.025890</td>\n",
              "      <td>0.010930</td>\n",
              "      <td>0.018730</td>\n",
              "      <td>0.003187</td>\n",
              "      <td>14.970000</td>\n",
              "      <td>25.410000</td>\n",
              "      <td>97.660000</td>\n",
              "      <td>686.500000</td>\n",
              "      <td>0.131300</td>\n",
              "      <td>0.211900</td>\n",
              "      <td>0.226700</td>\n",
              "      <td>0.099930</td>\n",
              "      <td>0.282200</td>\n",
              "      <td>0.080040</td>\n",
              "    </tr>\n",
              "    <tr>\n",
              "      <th>75%</th>\n",
              "      <td>15.780000</td>\n",
              "      <td>21.800000</td>\n",
              "      <td>104.100000</td>\n",
              "      <td>782.700000</td>\n",
              "      <td>0.105300</td>\n",
              "      <td>0.130400</td>\n",
              "      <td>0.130700</td>\n",
              "      <td>0.074000</td>\n",
              "      <td>0.195700</td>\n",
              "      <td>0.066120</td>\n",
              "      <td>0.478900</td>\n",
              "      <td>1.474000</td>\n",
              "      <td>3.357000</td>\n",
              "      <td>45.190000</td>\n",
              "      <td>0.008146</td>\n",
              "      <td>0.032450</td>\n",
              "      <td>0.042050</td>\n",
              "      <td>0.014710</td>\n",
              "      <td>0.023480</td>\n",
              "      <td>0.004558</td>\n",
              "      <td>18.790000</td>\n",
              "      <td>29.720000</td>\n",
              "      <td>125.400000</td>\n",
              "      <td>1084.000000</td>\n",
              "      <td>0.146000</td>\n",
              "      <td>0.339100</td>\n",
              "      <td>0.382900</td>\n",
              "      <td>0.161400</td>\n",
              "      <td>0.317900</td>\n",
              "      <td>0.092080</td>\n",
              "    </tr>\n",
              "    <tr>\n",
              "      <th>max</th>\n",
              "      <td>28.110000</td>\n",
              "      <td>39.280000</td>\n",
              "      <td>188.500000</td>\n",
              "      <td>2501.000000</td>\n",
              "      <td>0.163400</td>\n",
              "      <td>0.345400</td>\n",
              "      <td>0.426800</td>\n",
              "      <td>0.201200</td>\n",
              "      <td>0.304000</td>\n",
              "      <td>0.097440</td>\n",
              "      <td>2.873000</td>\n",
              "      <td>4.885000</td>\n",
              "      <td>21.980000</td>\n",
              "      <td>542.200000</td>\n",
              "      <td>0.031130</td>\n",
              "      <td>0.135400</td>\n",
              "      <td>0.396000</td>\n",
              "      <td>0.052790</td>\n",
              "      <td>0.078950</td>\n",
              "      <td>0.029840</td>\n",
              "      <td>36.040000</td>\n",
              "      <td>49.540000</td>\n",
              "      <td>251.200000</td>\n",
              "      <td>4254.000000</td>\n",
              "      <td>0.222600</td>\n",
              "      <td>1.058000</td>\n",
              "      <td>1.252000</td>\n",
              "      <td>0.291000</td>\n",
              "      <td>0.663800</td>\n",
              "      <td>0.207500</td>\n",
              "    </tr>\n",
              "  </tbody>\n",
              "</table>\n",
              "</div>"
            ],
            "text/plain": [
              "       mean radius  mean texture  ...  worst symmetry  worst fractal dimension\n",
              "count   569.000000    569.000000  ...      569.000000               569.000000\n",
              "mean     14.127292     19.289649  ...        0.290076                 0.083946\n",
              "std       3.524049      4.301036  ...        0.061867                 0.018061\n",
              "min       6.981000      9.710000  ...        0.156500                 0.055040\n",
              "25%      11.700000     16.170000  ...        0.250400                 0.071460\n",
              "50%      13.370000     18.840000  ...        0.282200                 0.080040\n",
              "75%      15.780000     21.800000  ...        0.317900                 0.092080\n",
              "max      28.110000     39.280000  ...        0.663800                 0.207500\n",
              "\n",
              "[8 rows x 30 columns]"
            ]
          },
          "metadata": {},
          "execution_count": 8
        }
      ]
    },
    {
      "cell_type": "code",
      "metadata": {
        "colab": {
          "base_uri": "https://localhost:8080/"
        },
        "id": "hkPP4z92bNcV",
        "outputId": "03497749-4b55-4a8f-8fb1-25b7df433030"
      },
      "source": [
        "y['diagnosis'].value_counts()"
      ],
      "execution_count": null,
      "outputs": [
        {
          "output_type": "execute_result",
          "data": {
            "text/plain": [
              "1    357\n",
              "0    212\n",
              "Name: diagnosis, dtype: int64"
            ]
          },
          "metadata": {},
          "execution_count": 9
        }
      ]
    },
    {
      "cell_type": "markdown",
      "metadata": {
        "id": "xSUb6PNwrzZA"
      },
      "source": [
        "###3.2 Train/Test 데이터 분리\n",
        "\n",
        "*  Train 70%, Test 30%로 나누기"
      ]
    },
    {
      "cell_type": "code",
      "metadata": {
        "colab": {
          "base_uri": "https://localhost:8080/"
        },
        "id": "SE4PpRVksRIW",
        "outputId": "994dc862-3d9e-43ae-a1ea-9460707def8c"
      },
      "source": [
        "# train, test data 나누기\n",
        "X_train, X_test, y_train, y_test = train_test_split(X, y, stratify=y, test_size=0.3, random_state=2021)\n",
        "\n",
        "# 데이터 컬럼 단위 정규화\n",
        "normalizer = StandardScaler()\n",
        "X_train = normalizer.fit_transform(X_train)\n",
        "X_test = normalizer.transform(X_test)\n",
        "\n",
        "print(f\"Train set dimension is {X_train.shape}\")\n",
        "print(f\"Test set dimension is {X_test.shape}\")"
      ],
      "execution_count": null,
      "outputs": [
        {
          "output_type": "stream",
          "name": "stdout",
          "text": [
            "Train set dimension is (398, 30)\n",
            "Test set dimension is (171, 30)\n"
          ]
        }
      ]
    },
    {
      "cell_type": "markdown",
      "metadata": {
        "id": "xFISQHYFcbWs"
      },
      "source": [
        "##4.모델링\n",
        "\n",
        "\n",
        "*   K 개수 결정\n",
        "*   Distance measure 결정\n",
        "\n",
        "\n",
        "\n"
      ]
    },
    {
      "cell_type": "markdown",
      "metadata": {
        "id": "yWxyR9aVc1JN"
      },
      "source": [
        "###4.1 K에 따른 결과\n",
        "\n",
        "\n",
        "\n",
        "*   K가 매우 작을 경우: 데이터의 지역적 특성을 지나치게 반영(overfitting)\n",
        "*   K가 매우 클 경우: 다른 범주의 개체를 너무 만히 포함하여 오분류할 위험(underfitting)\n",
        "\n"
      ]
    },
    {
      "cell_type": "code",
      "metadata": {
        "colab": {
          "base_uri": "https://localhost:8080/",
          "height": 1000
        },
        "id": "JmngbamHv0Mm",
        "outputId": "d19d48e0-9d73-499f-9429-bf5e90e97448"
      },
      "source": [
        "X_vis = X_train[:, :2] #시각화를 위해 임의로 2개의 feature활용\n",
        "y_vis = y_train.values.ravel()\n",
        "\n",
        "h = .02  # step size in the mesh\n",
        "\n",
        "# Create color maps\n",
        "cmap_light = ListedColormap(['#FFAAAA', '#AAFFAA', '#AAAAFF'])\n",
        "cmap_bold = ListedColormap(['#FF0000', '#00FF00', '#0000FF'])\n",
        "\n",
        "for k in [1, 50]:\n",
        "  clf = KNeighborsClassifier(n_neighbors= k)\n",
        "  clf.fit(X_vis, y_vis)\n",
        "\n",
        "  # Plot the decision boundary. For that, we will assign a color to each point in the mesh [x_min, x_max]x[y_min, y_max]\n",
        "  x_min, x_max = X_vis[:, 0].min()-1, X_vis[:, 0].max()+1\n",
        "  y_min, y_max = X_vis[:, 1].min()-1, X_vis[:, 1].max()+1\n",
        "  xx, yy = np.meshgrid(np.arange(x_min, x_max, h), np.arange(y_min, y_max, h))\n",
        "  Z = clf.predict(np.c_[xx.ravel(), yy.ravel()])\n",
        "\n",
        "  # Put the result into a color plot\n",
        "  Z = Z.reshape(xx.shape)\n",
        "  plt.figure(figsize=(10,10))\n",
        "  plt.pcolormesh(xx, yy, Z, cmap=cmap_light)\n",
        "\n",
        "  # Plot size the training points\n",
        "  plt.scatter(X_vis[:,0], X_vis[:,1], c=y_vis, cmap=cmap_bold)\n",
        "  plt.xlim(xx.min(), xx.max())\n",
        "  plt.ylim(yy.min(), yy.max())\n",
        "  plt.title(f\"2-Class classification [k={k}')\", fontsize=10)\n",
        "\n",
        "plt.show()"
      ],
      "execution_count": null,
      "outputs": [
        {
          "output_type": "stream",
          "name": "stderr",
          "text": [
            "findfont: Font family ['Malgun Gothic'] not found. Falling back to DejaVu Sans.\n"
          ]
        },
        {
          "output_type": "display_data",
          "data": {
            "image/png": "[encoded data removed]",
            "text/plain": [
              "<Figure size 720x720 with 1 Axes>"
            ]
          },
          "metadata": {
            "needs_background": "light"
          }
        },
        {
          "output_type": "display_data",
          "data": {
            "image/png": "[encoded data removed]",
            "text/plain": [
              "<Figure size 720x720 with 1 Axes>"
            ]
          },
          "metadata": {
            "needs_background": "light"
          }
        }
      ]
    },
    {
      "cell_type": "markdown",
      "metadata": {
        "id": "QdvOsUZHzzHM"
      },
      "source": [
        "###4.1 Hyperparameter K 결정"
      ]
    },
    {
      "cell_type": "code",
      "metadata": {
        "colab": {
          "base_uri": "https://localhost:8080/"
        },
        "id": "VeUmOvbDzmxo",
        "outputId": "df6e7a71-2c65-40ff-8b03-686f05a0df13"
      },
      "source": [
        "k_list = [i for i in range(1,100) if i%2 != 0]\n",
        "cv_scores = []\n",
        "\n",
        "for k in tqdm(k_list) :\n",
        "  classifier = KNeighborsClassifier(n_neighbors= k, p=2)\n",
        "\n",
        "  scores = cross_val_score(classifier, X_train, y_train, cv = 10, scoring='accuracy')\n",
        "  cv_scores.append(scores.mean())"
      ],
      "execution_count": null,
      "outputs": [
        {
          "output_type": "stream",
          "name": "stderr",
          "text": [
            "100%|██████████| 50/50 [00:03<00:00, 15.75it/s]\n"
          ]
        }
      ]
    },
    {
      "cell_type": "code",
      "metadata": {
        "colab": {
          "base_uri": "https://localhost:8080/"
        },
        "id": "e9h0zxS-1Iva",
        "outputId": "159853f7-4aef-4a85-8df7-d0c0d11f1abc"
      },
      "source": [
        "best_k = [k_list[i] for i in range(len(cv_scores)) if cv_scores[i] == np.max(cv_scores)]\n",
        "print(\"Best k value: \", best_k)"
      ],
      "execution_count": null,
      "outputs": [
        {
          "output_type": "stream",
          "name": "stdout",
          "text": [
            "Best k value:  [5]\n"
          ]
        }
      ]
    },
    {
      "cell_type": "code",
      "metadata": {
        "colab": {
          "base_uri": "https://localhost:8080/",
          "height": 670
        },
        "id": "YdeFbLX-1qIR",
        "outputId": "d4d2cd95-de9d-44db-efcc-48b9a07f302c"
      },
      "source": [
        "plt.figure(figsize=(20,10))\n",
        "plt.plot(k_list, cv_scores, marker='o', linestyle='dashed')\n",
        "plt.legend(['Cross validation scores'], fontsize=20)\n",
        "plt.xlabel(\"k value\", fontsize=20)\n",
        "plt.ylabel(\"Accuracy\", fontsize=20)\n",
        "plt.title(\"Accuracy_Score\", fontsize=25)\n",
        "plt.axvline(best_k[0], color='r', linestyle='--', linewidth=2)\n",
        "\n",
        "plt.show()"
      ],
      "execution_count": null,
      "outputs": [
        {
          "output_type": "stream",
          "name": "stderr",
          "text": [
            "findfont: Font family ['Malgun Gothic'] not found. Falling back to DejaVu Sans.\n",
            "findfont: Font family ['Malgun Gothic'] not found. Falling back to DejaVu Sans.\n"
          ]
        },
        {
          "output_type": "display_data",
          "data": {
            "image/png": "[encoded data removed]",
            "text/plain": [
              "<Figure size 1440x720 with 1 Axes>"
            ]
          },
          "metadata": {
            "needs_background": "light"
          }
        }
      ]
    },
    {
      "cell_type": "markdown",
      "metadata": {
        "id": "6bkAnrLMlL_j"
      },
      "source": [
        "###4.2 Distance Type 결정\n",
        "\n",
        "\n",
        "\n",
        "1.   Euclidean Distance\n",
        "2.   Manhattan Distance\n",
        "3.   항목 추가\n",
        "4.   항목 추가\n",
        "\n",
        "\n",
        "\n"
      ]
    },
    {
      "cell_type": "markdown",
      "metadata": {
        "id": "4G8ZUCu5lh79"
      },
      "source": [
        "####4.2.1 Euclidean Distance\n",
        "\n",
        "\n",
        "\n",
        "*   가장 흔히 사용되는 거리축도\n",
        "*   대응되는 x, y값 간 차이 제곱합의 제곱근\n",
        "\n",
        "$$d_(X,Y)=\\sqrt{\\sum_{i=1}^{n}(x_i-y_i)^2}$$\n",
        "\n"
      ]
    },
    {
      "cell_type": "code",
      "metadata": {
        "colab": {
          "base_uri": "https://localhost:8080/"
        },
        "id": "J0GrhpHS2b0g",
        "outputId": "2fedb983-faf4-460f-e9d1-3eede052d1e4"
      },
      "source": [
        "k_list = [i for i in range(1,100) if i%2 !=0 ]\n",
        "\n",
        "euc = []\n",
        "for k in tqdm(k_list) :\n",
        "  classifier = KNeighborsClassifier(n_neighbors= k, p=2)\n",
        "  scores = cross_val_score(classifier, X_train, y_train, cv=10, scoring='accuracy')\n",
        "  euc.append(scores.mean())"
      ],
      "execution_count": null,
      "outputs": [
        {
          "output_type": "stream",
          "name": "stderr",
          "text": [
            "100%|██████████| 50/50 [00:03<00:00, 15.57it/s]\n"
          ]
        }
      ]
    },
    {
      "cell_type": "markdown",
      "metadata": {
        "id": "bBWlj-jNm9GQ"
      },
      "source": [
        "####4.2.2 Mangattan Distance\n",
        "\n",
        "\n",
        "\n",
        "*   x에서 y로 이동 시 각 좌표축 방향으로만 이동할 경우에 계산되는 거리\n",
        "\n",
        "$$d_{Manhattan(X,Y)}=\\sum_{i=1}^{n}|x_i-y_i|$$\n",
        "\n"
      ]
    },
    {
      "cell_type": "code",
      "metadata": {
        "colab": {
          "base_uri": "https://localhost:8080/"
        },
        "id": "sfRdRuSK3kW0",
        "outputId": "7978e76f-79f8-4bd3-c488-acc96c707892"
      },
      "source": [
        "k_list = [i for i in range(1,100) if i%2 !=0]\n",
        "\n",
        "man = []\n",
        "for k in tqdm(k_list):\n",
        "  classifier = KNeighborsClassifier(n_neighbors=k, p=1)\n",
        "  scores = cross_val_score(classifier, X_train, y_train, cv = 10, scoring='accuracy')\n",
        "  man.append(scores.mean())"
      ],
      "execution_count": null,
      "outputs": [
        {
          "output_type": "stream",
          "name": "stderr",
          "text": [
            "100%|██████████| 50/50 [00:03<00:00, 15.81it/s]\n"
          ]
        }
      ]
    },
    {
      "cell_type": "markdown",
      "metadata": {
        "id": "DBCxdgtcoBIg"
      },
      "source": [
        "####4.2.3 Mahalanobis Distance\n",
        "\n",
        "\n",
        "*   변수 내 분산, 변수 간 공분산을 모두 반영하여 x, y 간의 거리를 계산\n",
        "*   데이터의 covariance matrix가 identity matrix인 경우는 Euclidean distance와 동일\n",
        "\n",
        "$$d_{Manhattan(X,Y)}=\\sqrt{(X-Y)^T\\sum-1(X-Y)},$$\n",
        "$$\\sum-1 :inverse\\,\\, of\\,\\, covariance\\,\\, matrix$$\n",
        "\n"
      ]
    },
    {
      "cell_type": "code",
      "metadata": {
        "colab": {
          "base_uri": "https://localhost:8080/"
        },
        "id": "bjYD53WA33rl",
        "outputId": "f5b17a4e-6dad-49af-be09-22005b0a01b7"
      },
      "source": [
        "y_train = y_train.values.ravel()\n",
        "Kf = KFold(n_splits=10)\n",
        "Kf.get_n_splits(X_train)\n",
        "\n",
        "k_list = [i for i in range(1,100) if i%2  != 0]\n",
        "mah = []\n",
        "\n",
        "for k in tqdm(k_list):\n",
        "  mah_acc = []\n",
        "  for train_index, valid_index in Kf.split(X_train):\n",
        "    X_train_f = X_train[train_index]\n",
        "    y_train_f = y_train[train_index]\n",
        "\n",
        "    X_valid_f = X_train[valid_index]\n",
        "    y_valid_f = y_train[valid_index]\n",
        "\n",
        "    total = len(y_valid_f)\n",
        "    correct = 0\n",
        "\n",
        "    nn = NearestNeighbors(algorithm='brute', metric='mahalanobis',\n",
        "                          metric_params={'V': np.cov(X_train_f, rowvar=False)}, n_neighbors=k)\n",
        "    nn_model = nn.fit(X_train_f, y_train_f)\n",
        "\n",
        "    for v in range(len(X_valid_f)):\n",
        "      distance, indices = nn_model.kneighbors(X_valid_f[v].reshape(1,-1))\n",
        "\n",
        "      class_list = {'0':0, '1':0}\n",
        "      for i in range(len(indices[0])):\n",
        "        if y_train_f[indices[0][i]] == 0:\n",
        "          class_list['0'] += 1\n",
        "        else:\n",
        "          class_list['1'] += 1\n",
        "\n",
        "      max_key = np.int(max(class_list, key= class_list.get))\n",
        "      if max_key == y_valid_f[v]:\n",
        "        correct += 1\n",
        "\n",
        "    mah_acc.append(correct/total)\n",
        "\n",
        "  mah.append(np.mean(mah_acc))"
      ],
      "execution_count": null,
      "outputs": [
        {
          "output_type": "stream",
          "name": "stderr",
          "text": [
            "100%|██████████| 50/50 [00:31<00:00,  1.58it/s]\n"
          ]
        }
      ]
    },
    {
      "cell_type": "markdown",
      "metadata": {
        "id": "JlChR73LwWkb"
      },
      "source": [
        "####4.2.4 Correlation Distance\n",
        "\n",
        "\n",
        "*   데이터간 Pearson correalation을 거리측도로 사요하는 방식. 데이터 패턴의 유사도를 반영할 수 있음\n",
        "\n",
        "$$d_{Corr(X,Y)}=1-r$$\n",
        "$$where\\,\\, r=\\sigma_{XY}$$\n",
        "\n"
      ]
    },
    {
      "cell_type": "code",
      "metadata": {
        "id": "pRFlJQSM3Di8",
        "colab": {
          "base_uri": "https://localhost:8080/"
        },
        "outputId": "3cbd5065-9cee-4642-b767-cd55dc70042d"
      },
      "source": [
        "Kf = KFold(n_splits=10)\n",
        "Kf.get_n_splits(X_train)\n",
        "\n",
        "k_list = [i for i in range(1,100) if i%2 != 0]\n",
        "pear = []\n",
        "\n",
        "for k in tqdm(k_list):\n",
        "  pear_acc = []\n",
        "  for train_index, valid_index in Kf.split(X_train):\n",
        "    X_train_f = X_train[train_index]\n",
        "    y_train_f = y_train[train_index]\n",
        "\n",
        "    X_valid_f = X_train[valid_index]\n",
        "    y_valid_f = y_train[valid_index]\n",
        "\n",
        "    total = len(y_valid_f)\n",
        "    correct = 0\n",
        "\n",
        "    nn = NearestNeighbors(metric='correlation', n_neighbors=k)\n",
        "    nn_model = nn.fit(X_train_f, y_train_f)\n",
        "\n",
        "    for v in range(len(X_valid_f)):\n",
        "      distance, indices = nn_model.kneighbors(X_valid_f[v].reshape(1,-1))\n",
        "\n",
        "      class_list = {'0':0, '1':0}\n",
        "      for i in range(len(indices[0])):\n",
        "        if y_train_f[indices[0][i]] == 0:\n",
        "          class_list['0'] += 1\n",
        "        else:\n",
        "          class_list['1'] += 1\n",
        "\n",
        "      max_key = np.int(max(class_list, key= class_list.get))\n",
        "      if max_key == y_valid_f[v]:\n",
        "        correct += 1\n",
        "\n",
        "    pear_acc.append(correct/total)\n",
        "\n",
        "  pear.append(np.mean(pear_acc))"
      ],
      "execution_count": null,
      "outputs": [
        {
          "output_type": "stream",
          "name": "stderr",
          "text": [
            "100%|██████████| 50/50 [00:11<00:00,  4.36it/s]\n"
          ]
        }
      ]
    },
    {
      "cell_type": "markdown",
      "metadata": {
        "id": "0QFj-K1Z01pH"
      },
      "source": [
        "####4.2.5 Correlation Distance - Spearman Rank correlation distance\n",
        "\n",
        "\n",
        "*   $\\rho$를 Spearman correlation이라 하며 이는 데이터의 rank를 이용해 correlation distance를 계산하는 방식\n",
        "*   $\\rho$의 범위는 [-1,1], Pearson correlation과 동일\n",
        "\n",
        "$$d_{Spearman(X,Y)}=1-\\rho$$\n",
        "$$where\\,\\, \\rho=1-\\frac{\\sum_{i=1}^{n}(rank(x_i)-rank(y_i))^2}{n(n^2-1)}$$\n",
        "\n"
      ]
    },
    {
      "cell_type": "code",
      "metadata": {
        "colab": {
          "base_uri": "https://localhost:8080/"
        },
        "id": "8MVARO4k01f0",
        "outputId": "993f7283-b5ef-4bbc-f1d6-465ea6d80df2"
      },
      "source": [
        "def spearmancorr(x,y):\n",
        "  rho, pval = spearmanr(x,y, axis=0)\n",
        "  return 1-rho\n",
        "\n",
        "Kf.get_n_splits(X_train)\n",
        "\n",
        "k_list = [i for i in range(1,100) if i%2 != 0]\n",
        "spear = []\n",
        "\n",
        "for k in tqdm(k_list):\n",
        "  spear_acc = []\n",
        "  for train_index, valid_index in Kf.split(X_train):\n",
        "    X_train_f = X_train[train_index]\n",
        "    y_train_f = y_train[train_index]\n",
        "\n",
        "    X_valid_f = X_train[valid_index]\n",
        "    y_valid_f = y_train[valid_index]\n",
        "\n",
        "    total = len(y_valid_f)\n",
        "    correct = 0\n",
        "\n",
        "    nn = NearestNeighbors(metric=spearmancorr, n_neighbors=k, algorithm='ball_tree')\n",
        "    nn_model = nn.fit(X_train_f, y_train_f)\n",
        "\n",
        "    for v in range(len(X_valid_f)):\n",
        "      distance, indices = nn_model.kneighbors(X_valid_f[v].reshape(1,-1))\n",
        "\n",
        "      class_list = {'0':0, '1':0}\n",
        "      for i in range(len(indices[0])):\n",
        "        if y_train_f[indices[0][i]] == 0:\n",
        "          class_list['0'] += 1\n",
        "        else:\n",
        "          class_list['1'] += 1\n",
        "\n",
        "      max_key = np.int(max(class_list, key= class_list.get))\n",
        "      if max_key == y_valid_f[v]:\n",
        "        correct += 1\n",
        "\n",
        "    spear_acc.append(correct/total)\n",
        "\n",
        "  spear.append(np.mean(pear_acc))"
      ],
      "execution_count": null,
      "outputs": [
        {
          "output_type": "stream",
          "name": "stderr",
          "text": [
            " 22%|██▏       | 11/50 [19:29<1:10:42, 108.79s/it]"
          ]
        }
      ]
    },
    {
      "cell_type": "code",
      "metadata": {
        "id": "YOpTzZm5Qhoy"
      },
      "source": [
        "plt.figure(figsize=(15,10))\n",
        "plt.plot(k_list, euc, marker='o')\n",
        "plt.plot(k_list, man, linestole='dashed', marker='p')\n",
        "plt.plot(k_list, mah, marker='s')\n",
        "plt.plot(k_list, pear, marker='d')\n",
        "plt.plot(k_list, spear, marker='v')\n",
        "\n",
        "plt.axyline(5, color='r', linestyle='--', linewidth=2)\n",
        "plt.xlabel(\"k value\")\n",
        "plt.ylabel(\"Corss validation scores\")\n",
        "plt.title(\"Comparison by distance measures\")\n",
        "plt.legend([\"Euclidean\", \"Manhattan\", \"Mahalanobis\", \"Pearson Corr\", \"Spearman Rank Corr\"])\n",
        "\n",
        "plt.show()"
      ],
      "execution_count": null,
      "outputs": []
    },
    {
      "cell_type": "markdown",
      "metadata": {
        "id": "8ipwriPC4Jy4"
      },
      "source": [
        "### 4.3 최종 모델 선정 및 성능 확인"
      ]
    },
    {
      "cell_type": "code",
      "metadata": {
        "id": "Cf2GMpli9qne"
      },
      "source": [
        "classifier = KNeighborClaasifier(n_neighbor=5, p=2)\n",
        "classifier.fit(X_train, y_train)\n",
        "y_pred = classifier.predict*(X_test)\n",
        "\n",
        "acc = accuracy_scores(y_true = y_test, y_pred=y_pred)\n",
        "recall = recall_scores(y_true = y_test, y_pred=y_pred)\n",
        "precision = precision_scores(y_true = y_test, y_pred=y_pred)\n",
        "\n",
        "print(f\"정확도:{acc:0.2f}\", f\"민감도:{recall:0.2f}\", f\"정밀도:{precision:0.2f}\", sep=\" | \")"
      ],
      "execution_count": null,
      "outputs": []
    },
    {
      "cell_type": "markdown",
      "metadata": {
        "id": "rJ6hzg5N5B5W"
      },
      "source": [
        "###4.4 Weighted KNN 적용 및 성능확인"
      ]
    },
    {
      "cell_type": "code",
      "metadata": {
        "id": "oPla_nmb-Vx2"
      },
      "source": [
        "k_list = [i for i in range(1,100) if i%2!=0]\n",
        "\n",
        "euc = []\n",
        "for k in tqdm(k_list):\n",
        "  classifier = KNeighborasClssifier(n_neighbors = k, p=2, weights='distance') # weighted['uniform', 'distance'], default는 uniform\n",
        "  scores = cross_val_score(claasifier, X_train, y_train, cv=10, scoring='accuracy')\n",
        "  euc.append(scores.mean())\n",
        "\n",
        "best_k = [k_list[i] for i in range(len(euc)) if euc[i] == np.max(euc)]\n",
        "print(\"Best K value:\", best_k)\n",
        "\n",
        "plt.figure(figsize=(20,10))\n",
        "plt.plot(k_list, cv_scores, marker='o', linestyle='dashed')\n",
        "plt.legend(['Cross validation scores'], fontsize=20)\n",
        "plt.xlabel(\"k value\", fontsize=20)\n",
        "plt.ylabel(\"Accuracy\", fontsize=20)\n",
        "plt.title(\"Accuracy_Score\", fontsize=25)\n",
        "plt.axvline(best_k[0], color='r', linestyle='--', linewidth=2)\n",
        "\n",
        "plt.show()\n"
      ],
      "execution_count": null,
      "outputs": []
    },
    {
      "cell_type": "code",
      "metadata": {
        "id": "GlMv0lv37FPQ"
      },
      "source": [
        "classifier = KNeighborClaasifier(n_neighbor=5, p=2, weights='distance')\n",
        "classifier.fit(X_train, y_train)\n",
        "y_pred = classifier.predict*(X_test)\n",
        "\n",
        "acc = accuracy_scores(y_true = y_test, y_pred=y_pred)\n",
        "recall = recall_scores(y_true = y_test, y_pred=y_pred)\n",
        "precision = precision_scores(y_true = y_test, y_pred=y_pred)\n",
        "\n",
        "print(f\"정확도:{acc:0.2f}\", f\"민감도:{recall:0.2f}\", f\"정밀도:{precision:0.2f}\", sep=\" | \")"
      ],
      "execution_count": null,
      "outputs": []
    },
    {
      "cell_type": "markdown",
      "metadata": {
        "id": "vyAt_rii_xqz"
      },
      "source": [
        "##ETC. Regression 예시"
      ]
    },
    {
      "cell_type": "code",
      "metadata": {
        "id": "D78QTt3_7hN4"
      },
      "source": [
        "from sklearn.neighbors import KNeighborsRegressor\n",
        "from sklean.datasets import load_boston\n",
        "boston = load_boston()\n",
        "\n",
        "X = pd.DataFrame(boston.data, columns=boston.feature_names)\n",
        "y = pd.DataFrame(boston.target, colmns=['MEDN'])\n",
        "\n",
        "X_train, X_test, y_train, y_test = train_test_split(X,y, test_size=0.3, random_state=2021)\n",
        "\n",
        "k_list = [i for i in ranget(1,100) if i%2 != 0]\n",
        "cv_scores = []\n",
        "\n",
        "for k in tqdm(k_list) :\n",
        "  regressor = KNeighborsRegressor(n_neighbors = k, p=2)\n",
        "  scores = cross_val_score(regressor, X_train, y_train, cv=10, scoring = 'r2')\n",
        "  cv_scores.append(scores.mean())\n",
        "\n",
        "best_k = [k_list[i] for i in range[len(cv_scores)] if cv_scores[i] == np.max(cv.scores)]\n",
        "print(\"Best k value: \", best_k)\n",
        "\n",
        "plt.figure(figsize=(20,10))\n",
        "plt.plot(k_list, cv_scores, marker='o', linestyle='dashed')\n",
        "plt.legend(['Cross validation scores'], fontsize=20)\n",
        "plt.xlabel(\"k value\", fontsize=20)\n",
        "plt.ylabel(\"Accuracy\", fontsize=20)\n",
        "plt.title(\"Accuracy_Score\", fontsize=25)\n",
        "plt.axvline(best_k[0], color='r', linestyle='--', linewidth=2)\n",
        "\n",
        "plt.show()"
      ],
      "execution_count": null,
      "outputs": []
    },
    {
      "cell_type": "markdown",
      "metadata": {
        "id": "9kFGmRki9Cwg"
      },
      "source": [
        "EOD"
      ]
    }
  ]
}